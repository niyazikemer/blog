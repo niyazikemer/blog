{
 "cells": [
  {
   "cell_type": "markdown",
   "id": "fbea18e9-5109-4233-b5a4-f2f75b73ede2",
   "metadata": {},
   "source": [
    "# Walkthru 12\n",
    "> walkthru 12\n",
    "- toc: true \n",
    "- badges: true\n",
    "- comments: true\n",
    "- categories: [course22]\n",
    "- image: images/paddy.png"
   ]
  },
  {
   "cell_type": "code",
   "execution_count": 56,
   "id": "ffe13c47-688f-4c0d-9dc9-80952d3ccc0b",
   "metadata": {},
   "outputs": [],
   "source": [
    "import os\n",
    "os.environ['CUDA_VISIBLE_DEVICES'] = \"0\"\n",
    "from fastai.vision.all import *\n",
    "from fastcore.parallel import *\n",
    "path = Path()\n",
    "trn_path = path/'train_images'"
   ]
  },
  {
   "cell_type": "code",
   "execution_count": 57,
   "id": "763a16ab-90b1-4bf9-9e9c-192c0bf2ae4d",
   "metadata": {},
   "outputs": [],
   "source": [
    "arch ='convnext_tiny_in22k'"
   ]
  },
  {
   "cell_type": "code",
   "execution_count": 58,
   "id": "d6982fde-0669-40df-8d10-32cb76678cb2",
   "metadata": {},
   "outputs": [
    {
     "data": {
      "text/html": [
       "<div>\n",
       "<style scoped>\n",
       "    .dataframe tbody tr th:only-of-type {\n",
       "        vertical-align: middle;\n",
       "    }\n",
       "\n",
       "    .dataframe tbody tr th {\n",
       "        vertical-align: top;\n",
       "    }\n",
       "\n",
       "    .dataframe thead th {\n",
       "        text-align: right;\n",
       "    }\n",
       "</style>\n",
       "<table border=\"1\" class=\"dataframe\">\n",
       "  <thead>\n",
       "    <tr style=\"text-align: right;\">\n",
       "      <th></th>\n",
       "      <th>image_id</th>\n",
       "      <th>label</th>\n",
       "      <th>variety</th>\n",
       "      <th>age</th>\n",
       "    </tr>\n",
       "  </thead>\n",
       "  <tbody>\n",
       "    <tr>\n",
       "      <th>0</th>\n",
       "      <td>100330.jpg</td>\n",
       "      <td>bacterial_leaf_blight</td>\n",
       "      <td>ADT45</td>\n",
       "      <td>45</td>\n",
       "    </tr>\n",
       "    <tr>\n",
       "      <th>1</th>\n",
       "      <td>100365.jpg</td>\n",
       "      <td>bacterial_leaf_blight</td>\n",
       "      <td>ADT45</td>\n",
       "      <td>45</td>\n",
       "    </tr>\n",
       "    <tr>\n",
       "      <th>2</th>\n",
       "      <td>100382.jpg</td>\n",
       "      <td>bacterial_leaf_blight</td>\n",
       "      <td>ADT45</td>\n",
       "      <td>45</td>\n",
       "    </tr>\n",
       "    <tr>\n",
       "      <th>3</th>\n",
       "      <td>100632.jpg</td>\n",
       "      <td>bacterial_leaf_blight</td>\n",
       "      <td>ADT45</td>\n",
       "      <td>45</td>\n",
       "    </tr>\n",
       "    <tr>\n",
       "      <th>4</th>\n",
       "      <td>101918.jpg</td>\n",
       "      <td>bacterial_leaf_blight</td>\n",
       "      <td>ADT45</td>\n",
       "      <td>45</td>\n",
       "    </tr>\n",
       "    <tr>\n",
       "      <th>...</th>\n",
       "      <td>...</td>\n",
       "      <td>...</td>\n",
       "      <td>...</td>\n",
       "      <td>...</td>\n",
       "    </tr>\n",
       "    <tr>\n",
       "      <th>10402</th>\n",
       "      <td>107607.jpg</td>\n",
       "      <td>tungro</td>\n",
       "      <td>Zonal</td>\n",
       "      <td>55</td>\n",
       "    </tr>\n",
       "    <tr>\n",
       "      <th>10403</th>\n",
       "      <td>107811.jpg</td>\n",
       "      <td>tungro</td>\n",
       "      <td>Zonal</td>\n",
       "      <td>55</td>\n",
       "    </tr>\n",
       "    <tr>\n",
       "      <th>10404</th>\n",
       "      <td>108547.jpg</td>\n",
       "      <td>tungro</td>\n",
       "      <td>Zonal</td>\n",
       "      <td>55</td>\n",
       "    </tr>\n",
       "    <tr>\n",
       "      <th>10405</th>\n",
       "      <td>110245.jpg</td>\n",
       "      <td>tungro</td>\n",
       "      <td>Zonal</td>\n",
       "      <td>55</td>\n",
       "    </tr>\n",
       "    <tr>\n",
       "      <th>10406</th>\n",
       "      <td>110381.jpg</td>\n",
       "      <td>tungro</td>\n",
       "      <td>Zonal</td>\n",
       "      <td>55</td>\n",
       "    </tr>\n",
       "  </tbody>\n",
       "</table>\n",
       "<p>10407 rows × 4 columns</p>\n",
       "</div>"
      ],
      "text/plain": [
       "         image_id                  label variety  age\n",
       "0      100330.jpg  bacterial_leaf_blight   ADT45   45\n",
       "1      100365.jpg  bacterial_leaf_blight   ADT45   45\n",
       "2      100382.jpg  bacterial_leaf_blight   ADT45   45\n",
       "3      100632.jpg  bacterial_leaf_blight   ADT45   45\n",
       "4      101918.jpg  bacterial_leaf_blight   ADT45   45\n",
       "...           ...                    ...     ...  ...\n",
       "10402  107607.jpg                 tungro   Zonal   55\n",
       "10403  107811.jpg                 tungro   Zonal   55\n",
       "10404  108547.jpg                 tungro   Zonal   55\n",
       "10405  110245.jpg                 tungro   Zonal   55\n",
       "10406  110381.jpg                 tungro   Zonal   55\n",
       "\n",
       "[10407 rows x 4 columns]"
      ]
     },
     "execution_count": 58,
     "metadata": {},
     "output_type": "execute_result"
    }
   ],
   "source": [
    "df = pd.read_csv(path/'train.csv')\n",
    "df"
   ]
  },
  {
   "cell_type": "code",
   "execution_count": 3,
   "id": "c0f61591-efff-4f61-bb1d-0a9226dcf312",
   "metadata": {},
   "outputs": [],
   "source": [
    "dls = ImageDataLoaders.from_folder(\n",
    "    trn_path, valid_pct=.2, seed=42, item_tfms=Resize(224),batch=aug_transforms(size=224, min_scale= 0.75),bs=32)   "
   ]
  },
  {
   "cell_type": "code",
   "execution_count": 4,
   "id": "6affec2a-d538-4636-b515-04e5ce89cebc",
   "metadata": {},
   "outputs": [],
   "source": [
    "learn = vision_learner(dls, arch, metrics=error_rate)"
   ]
  },
  {
   "cell_type": "code",
   "execution_count": 5,
   "id": "d3aacbb7-3824-4bf6-946f-ff44de881875",
   "metadata": {},
   "outputs": [
    {
     "data": {
      "text/html": [
       "\n",
       "<style>\n",
       "    /* Turns off some styling */\n",
       "    progress {\n",
       "        /* gets rid of default border in Firefox and Opera. */\n",
       "        border: none;\n",
       "        /* Needs to be in here for Safari polyfill so background images work as expected. */\n",
       "        background-size: auto;\n",
       "    }\n",
       "    .progress-bar-interrupted, .progress-bar-interrupted::-webkit-progress-bar {\n",
       "        background: #F44336;\n",
       "    }\n",
       "</style>\n"
      ],
      "text/plain": [
       "<IPython.core.display.HTML object>"
      ]
     },
     "metadata": {},
     "output_type": "display_data"
    },
    {
     "data": {
      "text/html": [
       "<table border=\"1\" class=\"dataframe\">\n",
       "  <thead>\n",
       "    <tr style=\"text-align: left;\">\n",
       "      <th>epoch</th>\n",
       "      <th>train_loss</th>\n",
       "      <th>valid_loss</th>\n",
       "      <th>error_rate</th>\n",
       "      <th>time</th>\n",
       "    </tr>\n",
       "  </thead>\n",
       "  <tbody>\n",
       "    <tr>\n",
       "      <td>0</td>\n",
       "      <td>1.392303</td>\n",
       "      <td>0.888152</td>\n",
       "      <td>0.271985</td>\n",
       "      <td>00:38</td>\n",
       "    </tr>\n",
       "  </tbody>\n",
       "</table>"
      ],
      "text/plain": [
       "<IPython.core.display.HTML object>"
      ]
     },
     "metadata": {},
     "output_type": "display_data"
    },
    {
     "data": {
      "text/html": [
       "\n",
       "<style>\n",
       "    /* Turns off some styling */\n",
       "    progress {\n",
       "        /* gets rid of default border in Firefox and Opera. */\n",
       "        border: none;\n",
       "        /* Needs to be in here for Safari polyfill so background images work as expected. */\n",
       "        background-size: auto;\n",
       "    }\n",
       "    .progress-bar-interrupted, .progress-bar-interrupted::-webkit-progress-bar {\n",
       "        background: #F44336;\n",
       "    }\n",
       "</style>\n"
      ],
      "text/plain": [
       "<IPython.core.display.HTML object>"
      ]
     },
     "metadata": {},
     "output_type": "display_data"
    },
    {
     "data": {
      "text/html": [
       "<table border=\"1\" class=\"dataframe\">\n",
       "  <thead>\n",
       "    <tr style=\"text-align: left;\">\n",
       "      <th>epoch</th>\n",
       "      <th>train_loss</th>\n",
       "      <th>valid_loss</th>\n",
       "      <th>error_rate</th>\n",
       "      <th>time</th>\n",
       "    </tr>\n",
       "  </thead>\n",
       "  <tbody>\n",
       "    <tr>\n",
       "      <td>0</td>\n",
       "      <td>0.507126</td>\n",
       "      <td>0.295987</td>\n",
       "      <td>0.097069</td>\n",
       "      <td>01:55</td>\n",
       "    </tr>\n",
       "  </tbody>\n",
       "</table>"
      ],
      "text/plain": [
       "<IPython.core.display.HTML object>"
      ]
     },
     "metadata": {},
     "output_type": "display_data"
    }
   ],
   "source": [
    "learn.fine_tune(1, 0.02)"
   ]
  },
  {
   "cell_type": "markdown",
   "id": "233f19c7-f46e-4b20-8288-53a0a9bde173",
   "metadata": {
    "jp-MarkdownHeadingCollapsed": true,
    "tags": []
   },
   "source": [
    "### Model and the summary"
   ]
  },
  {
   "cell_type": "code",
   "execution_count": 6,
   "id": "794e6bf3-252c-426e-b29c-99252065f4d9",
   "metadata": {},
   "outputs": [],
   "source": [
    "m = learn.model"
   ]
  },
  {
   "cell_type": "code",
   "execution_count": 6,
   "id": "f30b242e-69c8-48bc-97ca-ecaf0ced6ce4",
   "metadata": {},
   "outputs": [
    {
     "data": {
      "text/plain": [
       "Sequential(\n",
       "  (0): TimmBody(\n",
       "    (model): ConvNeXt(\n",
       "      (stem): Sequential(\n",
       "        (0): Conv2d(3, 96, kernel_size=(4, 4), stride=(4, 4))\n",
       "        (1): LayerNorm2d((96,), eps=1e-06, elementwise_affine=True)\n",
       "      )\n",
       "      (stages): Sequential(\n",
       "        (0): ConvNeXtStage(\n",
       "          (downsample): Identity()\n",
       "          (blocks): Sequential(\n",
       "            (0): ConvNeXtBlock(\n",
       "              (conv_dw): Conv2d(96, 96, kernel_size=(7, 7), stride=(1, 1), padding=(3, 3), groups=96)\n",
       "              (norm): LayerNorm((96,), eps=1e-06, elementwise_affine=True)\n",
       "              (mlp): Mlp(\n",
       "                (fc1): Linear(in_features=96, out_features=384, bias=True)\n",
       "                (act): GELU()\n",
       "                (drop1): Dropout(p=0.0, inplace=False)\n",
       "                (fc2): Linear(in_features=384, out_features=96, bias=True)\n",
       "                (drop2): Dropout(p=0.0, inplace=False)\n",
       "              )\n",
       "              (drop_path): Identity()\n",
       "            )\n",
       "            (1): ConvNeXtBlock(\n",
       "              (conv_dw): Conv2d(96, 96, kernel_size=(7, 7), stride=(1, 1), padding=(3, 3), groups=96)\n",
       "              (norm): LayerNorm((96,), eps=1e-06, elementwise_affine=True)\n",
       "              (mlp): Mlp(\n",
       "                (fc1): Linear(in_features=96, out_features=384, bias=True)\n",
       "                (act): GELU()\n",
       "                (drop1): Dropout(p=0.0, inplace=False)\n",
       "                (fc2): Linear(in_features=384, out_features=96, bias=True)\n",
       "                (drop2): Dropout(p=0.0, inplace=False)\n",
       "              )\n",
       "              (drop_path): Identity()\n",
       "            )\n",
       "            (2): ConvNeXtBlock(\n",
       "              (conv_dw): Conv2d(96, 96, kernel_size=(7, 7), stride=(1, 1), padding=(3, 3), groups=96)\n",
       "              (norm): LayerNorm((96,), eps=1e-06, elementwise_affine=True)\n",
       "              (mlp): Mlp(\n",
       "                (fc1): Linear(in_features=96, out_features=384, bias=True)\n",
       "                (act): GELU()\n",
       "                (drop1): Dropout(p=0.0, inplace=False)\n",
       "                (fc2): Linear(in_features=384, out_features=96, bias=True)\n",
       "                (drop2): Dropout(p=0.0, inplace=False)\n",
       "              )\n",
       "              (drop_path): Identity()\n",
       "            )\n",
       "          )\n",
       "        )\n",
       "        (1): ConvNeXtStage(\n",
       "          (downsample): Sequential(\n",
       "            (0): LayerNorm2d((96,), eps=1e-06, elementwise_affine=True)\n",
       "            (1): Conv2d(96, 192, kernel_size=(2, 2), stride=(2, 2))\n",
       "          )\n",
       "          (blocks): Sequential(\n",
       "            (0): ConvNeXtBlock(\n",
       "              (conv_dw): Conv2d(192, 192, kernel_size=(7, 7), stride=(1, 1), padding=(3, 3), groups=192)\n",
       "              (norm): LayerNorm((192,), eps=1e-06, elementwise_affine=True)\n",
       "              (mlp): Mlp(\n",
       "                (fc1): Linear(in_features=192, out_features=768, bias=True)\n",
       "                (act): GELU()\n",
       "                (drop1): Dropout(p=0.0, inplace=False)\n",
       "                (fc2): Linear(in_features=768, out_features=192, bias=True)\n",
       "                (drop2): Dropout(p=0.0, inplace=False)\n",
       "              )\n",
       "              (drop_path): Identity()\n",
       "            )\n",
       "            (1): ConvNeXtBlock(\n",
       "              (conv_dw): Conv2d(192, 192, kernel_size=(7, 7), stride=(1, 1), padding=(3, 3), groups=192)\n",
       "              (norm): LayerNorm((192,), eps=1e-06, elementwise_affine=True)\n",
       "              (mlp): Mlp(\n",
       "                (fc1): Linear(in_features=192, out_features=768, bias=True)\n",
       "                (act): GELU()\n",
       "                (drop1): Dropout(p=0.0, inplace=False)\n",
       "                (fc2): Linear(in_features=768, out_features=192, bias=True)\n",
       "                (drop2): Dropout(p=0.0, inplace=False)\n",
       "              )\n",
       "              (drop_path): Identity()\n",
       "            )\n",
       "            (2): ConvNeXtBlock(\n",
       "              (conv_dw): Conv2d(192, 192, kernel_size=(7, 7), stride=(1, 1), padding=(3, 3), groups=192)\n",
       "              (norm): LayerNorm((192,), eps=1e-06, elementwise_affine=True)\n",
       "              (mlp): Mlp(\n",
       "                (fc1): Linear(in_features=192, out_features=768, bias=True)\n",
       "                (act): GELU()\n",
       "                (drop1): Dropout(p=0.0, inplace=False)\n",
       "                (fc2): Linear(in_features=768, out_features=192, bias=True)\n",
       "                (drop2): Dropout(p=0.0, inplace=False)\n",
       "              )\n",
       "              (drop_path): Identity()\n",
       "            )\n",
       "          )\n",
       "        )\n",
       "        (2): ConvNeXtStage(\n",
       "          (downsample): Sequential(\n",
       "            (0): LayerNorm2d((192,), eps=1e-06, elementwise_affine=True)\n",
       "            (1): Conv2d(192, 384, kernel_size=(2, 2), stride=(2, 2))\n",
       "          )\n",
       "          (blocks): Sequential(\n",
       "            (0): ConvNeXtBlock(\n",
       "              (conv_dw): Conv2d(384, 384, kernel_size=(7, 7), stride=(1, 1), padding=(3, 3), groups=384)\n",
       "              (norm): LayerNorm((384,), eps=1e-06, elementwise_affine=True)\n",
       "              (mlp): Mlp(\n",
       "                (fc1): Linear(in_features=384, out_features=1536, bias=True)\n",
       "                (act): GELU()\n",
       "                (drop1): Dropout(p=0.0, inplace=False)\n",
       "                (fc2): Linear(in_features=1536, out_features=384, bias=True)\n",
       "                (drop2): Dropout(p=0.0, inplace=False)\n",
       "              )\n",
       "              (drop_path): Identity()\n",
       "            )\n",
       "            (1): ConvNeXtBlock(\n",
       "              (conv_dw): Conv2d(384, 384, kernel_size=(7, 7), stride=(1, 1), padding=(3, 3), groups=384)\n",
       "              (norm): LayerNorm((384,), eps=1e-06, elementwise_affine=True)\n",
       "              (mlp): Mlp(\n",
       "                (fc1): Linear(in_features=384, out_features=1536, bias=True)\n",
       "                (act): GELU()\n",
       "                (drop1): Dropout(p=0.0, inplace=False)\n",
       "                (fc2): Linear(in_features=1536, out_features=384, bias=True)\n",
       "                (drop2): Dropout(p=0.0, inplace=False)\n",
       "              )\n",
       "              (drop_path): Identity()\n",
       "            )\n",
       "            (2): ConvNeXtBlock(\n",
       "              (conv_dw): Conv2d(384, 384, kernel_size=(7, 7), stride=(1, 1), padding=(3, 3), groups=384)\n",
       "              (norm): LayerNorm((384,), eps=1e-06, elementwise_affine=True)\n",
       "              (mlp): Mlp(\n",
       "                (fc1): Linear(in_features=384, out_features=1536, bias=True)\n",
       "                (act): GELU()\n",
       "                (drop1): Dropout(p=0.0, inplace=False)\n",
       "                (fc2): Linear(in_features=1536, out_features=384, bias=True)\n",
       "                (drop2): Dropout(p=0.0, inplace=False)\n",
       "              )\n",
       "              (drop_path): Identity()\n",
       "            )\n",
       "            (3): ConvNeXtBlock(\n",
       "              (conv_dw): Conv2d(384, 384, kernel_size=(7, 7), stride=(1, 1), padding=(3, 3), groups=384)\n",
       "              (norm): LayerNorm((384,), eps=1e-06, elementwise_affine=True)\n",
       "              (mlp): Mlp(\n",
       "                (fc1): Linear(in_features=384, out_features=1536, bias=True)\n",
       "                (act): GELU()\n",
       "                (drop1): Dropout(p=0.0, inplace=False)\n",
       "                (fc2): Linear(in_features=1536, out_features=384, bias=True)\n",
       "                (drop2): Dropout(p=0.0, inplace=False)\n",
       "              )\n",
       "              (drop_path): Identity()\n",
       "            )\n",
       "            (4): ConvNeXtBlock(\n",
       "              (conv_dw): Conv2d(384, 384, kernel_size=(7, 7), stride=(1, 1), padding=(3, 3), groups=384)\n",
       "              (norm): LayerNorm((384,), eps=1e-06, elementwise_affine=True)\n",
       "              (mlp): Mlp(\n",
       "                (fc1): Linear(in_features=384, out_features=1536, bias=True)\n",
       "                (act): GELU()\n",
       "                (drop1): Dropout(p=0.0, inplace=False)\n",
       "                (fc2): Linear(in_features=1536, out_features=384, bias=True)\n",
       "                (drop2): Dropout(p=0.0, inplace=False)\n",
       "              )\n",
       "              (drop_path): Identity()\n",
       "            )\n",
       "            (5): ConvNeXtBlock(\n",
       "              (conv_dw): Conv2d(384, 384, kernel_size=(7, 7), stride=(1, 1), padding=(3, 3), groups=384)\n",
       "              (norm): LayerNorm((384,), eps=1e-06, elementwise_affine=True)\n",
       "              (mlp): Mlp(\n",
       "                (fc1): Linear(in_features=384, out_features=1536, bias=True)\n",
       "                (act): GELU()\n",
       "                (drop1): Dropout(p=0.0, inplace=False)\n",
       "                (fc2): Linear(in_features=1536, out_features=384, bias=True)\n",
       "                (drop2): Dropout(p=0.0, inplace=False)\n",
       "              )\n",
       "              (drop_path): Identity()\n",
       "            )\n",
       "            (6): ConvNeXtBlock(\n",
       "              (conv_dw): Conv2d(384, 384, kernel_size=(7, 7), stride=(1, 1), padding=(3, 3), groups=384)\n",
       "              (norm): LayerNorm((384,), eps=1e-06, elementwise_affine=True)\n",
       "              (mlp): Mlp(\n",
       "                (fc1): Linear(in_features=384, out_features=1536, bias=True)\n",
       "                (act): GELU()\n",
       "                (drop1): Dropout(p=0.0, inplace=False)\n",
       "                (fc2): Linear(in_features=1536, out_features=384, bias=True)\n",
       "                (drop2): Dropout(p=0.0, inplace=False)\n",
       "              )\n",
       "              (drop_path): Identity()\n",
       "            )\n",
       "            (7): ConvNeXtBlock(\n",
       "              (conv_dw): Conv2d(384, 384, kernel_size=(7, 7), stride=(1, 1), padding=(3, 3), groups=384)\n",
       "              (norm): LayerNorm((384,), eps=1e-06, elementwise_affine=True)\n",
       "              (mlp): Mlp(\n",
       "                (fc1): Linear(in_features=384, out_features=1536, bias=True)\n",
       "                (act): GELU()\n",
       "                (drop1): Dropout(p=0.0, inplace=False)\n",
       "                (fc2): Linear(in_features=1536, out_features=384, bias=True)\n",
       "                (drop2): Dropout(p=0.0, inplace=False)\n",
       "              )\n",
       "              (drop_path): Identity()\n",
       "            )\n",
       "            (8): ConvNeXtBlock(\n",
       "              (conv_dw): Conv2d(384, 384, kernel_size=(7, 7), stride=(1, 1), padding=(3, 3), groups=384)\n",
       "              (norm): LayerNorm((384,), eps=1e-06, elementwise_affine=True)\n",
       "              (mlp): Mlp(\n",
       "                (fc1): Linear(in_features=384, out_features=1536, bias=True)\n",
       "                (act): GELU()\n",
       "                (drop1): Dropout(p=0.0, inplace=False)\n",
       "                (fc2): Linear(in_features=1536, out_features=384, bias=True)\n",
       "                (drop2): Dropout(p=0.0, inplace=False)\n",
       "              )\n",
       "              (drop_path): Identity()\n",
       "            )\n",
       "          )\n",
       "        )\n",
       "        (3): ConvNeXtStage(\n",
       "          (downsample): Sequential(\n",
       "            (0): LayerNorm2d((384,), eps=1e-06, elementwise_affine=True)\n",
       "            (1): Conv2d(384, 768, kernel_size=(2, 2), stride=(2, 2))\n",
       "          )\n",
       "          (blocks): Sequential(\n",
       "            (0): ConvNeXtBlock(\n",
       "              (conv_dw): Conv2d(768, 768, kernel_size=(7, 7), stride=(1, 1), padding=(3, 3), groups=768)\n",
       "              (norm): LayerNorm((768,), eps=1e-06, elementwise_affine=True)\n",
       "              (mlp): Mlp(\n",
       "                (fc1): Linear(in_features=768, out_features=3072, bias=True)\n",
       "                (act): GELU()\n",
       "                (drop1): Dropout(p=0.0, inplace=False)\n",
       "                (fc2): Linear(in_features=3072, out_features=768, bias=True)\n",
       "                (drop2): Dropout(p=0.0, inplace=False)\n",
       "              )\n",
       "              (drop_path): Identity()\n",
       "            )\n",
       "            (1): ConvNeXtBlock(\n",
       "              (conv_dw): Conv2d(768, 768, kernel_size=(7, 7), stride=(1, 1), padding=(3, 3), groups=768)\n",
       "              (norm): LayerNorm((768,), eps=1e-06, elementwise_affine=True)\n",
       "              (mlp): Mlp(\n",
       "                (fc1): Linear(in_features=768, out_features=3072, bias=True)\n",
       "                (act): GELU()\n",
       "                (drop1): Dropout(p=0.0, inplace=False)\n",
       "                (fc2): Linear(in_features=3072, out_features=768, bias=True)\n",
       "                (drop2): Dropout(p=0.0, inplace=False)\n",
       "              )\n",
       "              (drop_path): Identity()\n",
       "            )\n",
       "            (2): ConvNeXtBlock(\n",
       "              (conv_dw): Conv2d(768, 768, kernel_size=(7, 7), stride=(1, 1), padding=(3, 3), groups=768)\n",
       "              (norm): LayerNorm((768,), eps=1e-06, elementwise_affine=True)\n",
       "              (mlp): Mlp(\n",
       "                (fc1): Linear(in_features=768, out_features=3072, bias=True)\n",
       "                (act): GELU()\n",
       "                (drop1): Dropout(p=0.0, inplace=False)\n",
       "                (fc2): Linear(in_features=3072, out_features=768, bias=True)\n",
       "                (drop2): Dropout(p=0.0, inplace=False)\n",
       "              )\n",
       "              (drop_path): Identity()\n",
       "            )\n",
       "          )\n",
       "        )\n",
       "      )\n",
       "      (norm_pre): Identity()\n",
       "      (head): Sequential(\n",
       "        (global_pool): SelectAdaptivePool2d (pool_type=avg, flatten=Identity())\n",
       "        (norm): LayerNorm2d((768,), eps=1e-06, elementwise_affine=True)\n",
       "        (flatten): Flatten(start_dim=1, end_dim=-1)\n",
       "        (drop): Dropout(p=0.0, inplace=False)\n",
       "        (fc): Identity()\n",
       "      )\n",
       "    )\n",
       "  )\n",
       "  (1): Sequential(\n",
       "    (0): AdaptiveConcatPool2d(\n",
       "      (ap): AdaptiveAvgPool2d(output_size=1)\n",
       "      (mp): AdaptiveMaxPool2d(output_size=1)\n",
       "    )\n",
       "    (1): Flatten(full=False)\n",
       "    (2): BatchNorm1d(1536, eps=1e-05, momentum=0.1, affine=True, track_running_stats=True)\n",
       "    (3): Dropout(p=0.25, inplace=False)\n",
       "    (4): Linear(in_features=1536, out_features=512, bias=False)\n",
       "    (5): ReLU(inplace=True)\n",
       "    (6): BatchNorm1d(512, eps=1e-05, momentum=0.1, affine=True, track_running_stats=True)\n",
       "    (7): Dropout(p=0.5, inplace=False)\n",
       "    (8): Linear(in_features=512, out_features=10, bias=False)\n",
       "  )\n",
       ")"
      ]
     },
     "execution_count": 6,
     "metadata": {},
     "output_type": "execute_result"
    }
   ],
   "source": [
    "m"
   ]
  },
  {
   "cell_type": "code",
   "execution_count": 21,
   "id": "87423a9e-5e10-4f2c-9e29-10ea880252ca",
   "metadata": {},
   "outputs": [
    {
     "data": {
      "text/html": [
       "\n",
       "<style>\n",
       "    /* Turns off some styling */\n",
       "    progress {\n",
       "        /* gets rid of default border in Firefox and Opera. */\n",
       "        border: none;\n",
       "        /* Needs to be in here for Safari polyfill so background images work as expected. */\n",
       "        background-size: auto;\n",
       "    }\n",
       "    .progress-bar-interrupted, .progress-bar-interrupted::-webkit-progress-bar {\n",
       "        background: #F44336;\n",
       "    }\n",
       "</style>\n"
      ],
      "text/plain": [
       "<IPython.core.display.HTML object>"
      ]
     },
     "metadata": {},
     "output_type": "display_data"
    },
    {
     "data": {
      "text/html": [],
      "text/plain": [
       "<IPython.core.display.HTML object>"
      ]
     },
     "metadata": {},
     "output_type": "display_data"
    },
    {
     "data": {
      "text/plain": [
       "Sequential (Input shape: 32 x 3 x 224 x 224)\n",
       "============================================================================\n",
       "Layer (type)         Output Shape         Param #    Trainable \n",
       "============================================================================\n",
       "                     32 x 96 x 56 x 56   \n",
       "Conv2d                                    4704       True      \n",
       "LayerNorm2d                               192        True      \n",
       "Identity                                                       \n",
       "Conv2d                                    4800       True      \n",
       "LayerNorm                                 192        True      \n",
       "____________________________________________________________________________\n",
       "                     32 x 56 x 56 x 384  \n",
       "Linear                                    37248      True      \n",
       "GELU                                                           \n",
       "Dropout                                                        \n",
       "____________________________________________________________________________\n",
       "                     32 x 56 x 56 x 96   \n",
       "Linear                                    36960      True      \n",
       "Dropout                                                        \n",
       "Identity                                                       \n",
       "Conv2d                                    4800       True      \n",
       "LayerNorm                                 192        True      \n",
       "____________________________________________________________________________\n",
       "                     32 x 56 x 56 x 384  \n",
       "Linear                                    37248      True      \n",
       "GELU                                                           \n",
       "Dropout                                                        \n",
       "____________________________________________________________________________\n",
       "                     32 x 56 x 56 x 96   \n",
       "Linear                                    36960      True      \n",
       "Dropout                                                        \n",
       "Identity                                                       \n",
       "Conv2d                                    4800       True      \n",
       "LayerNorm                                 192        True      \n",
       "____________________________________________________________________________\n",
       "                     32 x 56 x 56 x 384  \n",
       "Linear                                    37248      True      \n",
       "GELU                                                           \n",
       "Dropout                                                        \n",
       "____________________________________________________________________________\n",
       "                     32 x 56 x 56 x 96   \n",
       "Linear                                    36960      True      \n",
       "Dropout                                                        \n",
       "Identity                                                       \n",
       "LayerNorm2d                               192        True      \n",
       "____________________________________________________________________________\n",
       "                     32 x 192 x 28 x 28  \n",
       "Conv2d                                    73920      True      \n",
       "Conv2d                                    9600       True      \n",
       "LayerNorm                                 384        True      \n",
       "____________________________________________________________________________\n",
       "                     32 x 28 x 28 x 768  \n",
       "Linear                                    148224     True      \n",
       "GELU                                                           \n",
       "Dropout                                                        \n",
       "____________________________________________________________________________\n",
       "                     32 x 28 x 28 x 192  \n",
       "Linear                                    147648     True      \n",
       "Dropout                                                        \n",
       "Identity                                                       \n",
       "Conv2d                                    9600       True      \n",
       "LayerNorm                                 384        True      \n",
       "____________________________________________________________________________\n",
       "                     32 x 28 x 28 x 768  \n",
       "Linear                                    148224     True      \n",
       "GELU                                                           \n",
       "Dropout                                                        \n",
       "____________________________________________________________________________\n",
       "                     32 x 28 x 28 x 192  \n",
       "Linear                                    147648     True      \n",
       "Dropout                                                        \n",
       "Identity                                                       \n",
       "Conv2d                                    9600       True      \n",
       "LayerNorm                                 384        True      \n",
       "____________________________________________________________________________\n",
       "                     32 x 28 x 28 x 768  \n",
       "Linear                                    148224     True      \n",
       "GELU                                                           \n",
       "Dropout                                                        \n",
       "____________________________________________________________________________\n",
       "                     32 x 28 x 28 x 192  \n",
       "Linear                                    147648     True      \n",
       "Dropout                                                        \n",
       "Identity                                                       \n",
       "LayerNorm2d                               384        True      \n",
       "____________________________________________________________________________\n",
       "                     32 x 384 x 14 x 14  \n",
       "Conv2d                                    295296     True      \n",
       "Conv2d                                    19200      True      \n",
       "LayerNorm                                 768        True      \n",
       "____________________________________________________________________________\n",
       "                     32 x 14 x 14 x 1536 \n",
       "Linear                                    591360     True      \n",
       "GELU                                                           \n",
       "Dropout                                                        \n",
       "____________________________________________________________________________\n",
       "                     32 x 14 x 14 x 384  \n",
       "Linear                                    590208     True      \n",
       "Dropout                                                        \n",
       "Identity                                                       \n",
       "Conv2d                                    19200      True      \n",
       "LayerNorm                                 768        True      \n",
       "____________________________________________________________________________\n",
       "                     32 x 14 x 14 x 1536 \n",
       "Linear                                    591360     True      \n",
       "GELU                                                           \n",
       "Dropout                                                        \n",
       "____________________________________________________________________________\n",
       "                     32 x 14 x 14 x 384  \n",
       "Linear                                    590208     True      \n",
       "Dropout                                                        \n",
       "Identity                                                       \n",
       "Conv2d                                    19200      True      \n",
       "LayerNorm                                 768        True      \n",
       "____________________________________________________________________________\n",
       "                     32 x 14 x 14 x 1536 \n",
       "Linear                                    591360     True      \n",
       "GELU                                                           \n",
       "Dropout                                                        \n",
       "____________________________________________________________________________\n",
       "                     32 x 14 x 14 x 384  \n",
       "Linear                                    590208     True      \n",
       "Dropout                                                        \n",
       "Identity                                                       \n",
       "Conv2d                                    19200      True      \n",
       "LayerNorm                                 768        True      \n",
       "____________________________________________________________________________\n",
       "                     32 x 14 x 14 x 1536 \n",
       "Linear                                    591360     True      \n",
       "GELU                                                           \n",
       "Dropout                                                        \n",
       "____________________________________________________________________________\n",
       "                     32 x 14 x 14 x 384  \n",
       "Linear                                    590208     True      \n",
       "Dropout                                                        \n",
       "Identity                                                       \n",
       "Conv2d                                    19200      True      \n",
       "LayerNorm                                 768        True      \n",
       "____________________________________________________________________________\n",
       "                     32 x 14 x 14 x 1536 \n",
       "Linear                                    591360     True      \n",
       "GELU                                                           \n",
       "Dropout                                                        \n",
       "____________________________________________________________________________\n",
       "                     32 x 14 x 14 x 384  \n",
       "Linear                                    590208     True      \n",
       "Dropout                                                        \n",
       "Identity                                                       \n",
       "Conv2d                                    19200      True      \n",
       "LayerNorm                                 768        True      \n",
       "____________________________________________________________________________\n",
       "                     32 x 14 x 14 x 1536 \n",
       "Linear                                    591360     True      \n",
       "GELU                                                           \n",
       "Dropout                                                        \n",
       "____________________________________________________________________________\n",
       "                     32 x 14 x 14 x 384  \n",
       "Linear                                    590208     True      \n",
       "Dropout                                                        \n",
       "Identity                                                       \n",
       "Conv2d                                    19200      True      \n",
       "LayerNorm                                 768        True      \n",
       "____________________________________________________________________________\n",
       "                     32 x 14 x 14 x 1536 \n",
       "Linear                                    591360     True      \n",
       "GELU                                                           \n",
       "Dropout                                                        \n",
       "____________________________________________________________________________\n",
       "                     32 x 14 x 14 x 384  \n",
       "Linear                                    590208     True      \n",
       "Dropout                                                        \n",
       "Identity                                                       \n",
       "Conv2d                                    19200      True      \n",
       "LayerNorm                                 768        True      \n",
       "____________________________________________________________________________\n",
       "                     32 x 14 x 14 x 1536 \n",
       "Linear                                    591360     True      \n",
       "GELU                                                           \n",
       "Dropout                                                        \n",
       "____________________________________________________________________________\n",
       "                     32 x 14 x 14 x 384  \n",
       "Linear                                    590208     True      \n",
       "Dropout                                                        \n",
       "Identity                                                       \n",
       "Conv2d                                    19200      True      \n",
       "LayerNorm                                 768        True      \n",
       "____________________________________________________________________________\n",
       "                     32 x 14 x 14 x 1536 \n",
       "Linear                                    591360     True      \n",
       "GELU                                                           \n",
       "Dropout                                                        \n",
       "____________________________________________________________________________\n",
       "                     32 x 14 x 14 x 384  \n",
       "Linear                                    590208     True      \n",
       "Dropout                                                        \n",
       "Identity                                                       \n",
       "LayerNorm2d                               768        True      \n",
       "____________________________________________________________________________\n",
       "                     32 x 768 x 7 x 7    \n",
       "Conv2d                                    1180416    True      \n",
       "Conv2d                                    38400      True      \n",
       "LayerNorm                                 1536       True      \n",
       "____________________________________________________________________________\n",
       "                     32 x 7 x 7 x 3072   \n",
       "Linear                                    2362368    True      \n",
       "GELU                                                           \n",
       "Dropout                                                        \n",
       "____________________________________________________________________________\n",
       "                     32 x 7 x 7 x 768    \n",
       "Linear                                    2360064    True      \n",
       "Dropout                                                        \n",
       "Identity                                                       \n",
       "Conv2d                                    38400      True      \n",
       "LayerNorm                                 1536       True      \n",
       "____________________________________________________________________________\n",
       "                     32 x 7 x 7 x 3072   \n",
       "Linear                                    2362368    True      \n",
       "GELU                                                           \n",
       "Dropout                                                        \n",
       "____________________________________________________________________________\n",
       "                     32 x 7 x 7 x 768    \n",
       "Linear                                    2360064    True      \n",
       "Dropout                                                        \n",
       "Identity                                                       \n",
       "Conv2d                                    38400      True      \n",
       "LayerNorm                                 1536       True      \n",
       "____________________________________________________________________________\n",
       "                     32 x 7 x 7 x 3072   \n",
       "Linear                                    2362368    True      \n",
       "GELU                                                           \n",
       "Dropout                                                        \n",
       "____________________________________________________________________________\n",
       "                     32 x 7 x 7 x 768    \n",
       "Linear                                    2360064    True      \n",
       "Dropout                                                        \n",
       "Identity                                                       \n",
       "Identity                                                       \n",
       "____________________________________________________________________________\n",
       "                     32 x 768 x 1 x 1    \n",
       "AdaptiveAvgPool2d                                              \n",
       "AdaptiveMaxPool2d                                              \n",
       "____________________________________________________________________________\n",
       "                     32 x 1536           \n",
       "Flatten                                                        \n",
       "BatchNorm1d                               3072       True      \n",
       "Dropout                                                        \n",
       "____________________________________________________________________________\n",
       "                     32 x 512            \n",
       "Linear                                    786432     True      \n",
       "ReLU                                                           \n",
       "BatchNorm1d                               1024       True      \n",
       "Dropout                                                        \n",
       "____________________________________________________________________________\n",
       "\n",
       "Total params: 28,602,496\n",
       "Total trainable params: 28,602,496\n",
       "Total non-trainable params: 0\n",
       "\n",
       "Optimizer used: <function Adam at 0x7fba154d2820>\n",
       "Loss function: FlattenedLoss of CrossEntropyLoss()\n",
       "\n",
       "Model unfrozen\n",
       "\n",
       "Callbacks:\n",
       "  - TrainEvalCallback\n",
       "  - Recorder\n",
       "  - ProgressCallback"
      ]
     },
     "execution_count": 21,
     "metadata": {},
     "output_type": "execute_result"
    }
   ],
   "source": [
    "learn.summary()"
   ]
  },
  {
   "cell_type": "markdown",
   "id": "7ae9aeb2-8a19-42ef-880c-0cdbc609c1c1",
   "metadata": {
    "tags": []
   },
   "source": [
    "### What is in it?"
   ]
  },
  {
   "cell_type": "code",
   "execution_count": 7,
   "id": "87286db8-40b6-4ea5-addc-524a74251cde",
   "metadata": {},
   "outputs": [
    {
     "data": {
      "text/plain": [
       "Sequential(\n",
       "  (0): AdaptiveConcatPool2d(\n",
       "    (ap): AdaptiveAvgPool2d(output_size=1)\n",
       "    (mp): AdaptiveMaxPool2d(output_size=1)\n",
       "  )\n",
       "  (1): Flatten(full=False)\n",
       "  (2): BatchNorm1d(1536, eps=1e-05, momentum=0.1, affine=True, track_running_stats=True)\n",
       "  (3): Dropout(p=0.25, inplace=False)\n",
       "  (4): Linear(in_features=1536, out_features=512, bias=False)\n",
       "  (5): ReLU(inplace=True)\n",
       "  (6): BatchNorm1d(512, eps=1e-05, momentum=0.1, affine=True, track_running_stats=True)\n",
       "  (7): Dropout(p=0.5, inplace=False)\n",
       "  (8): Linear(in_features=512, out_features=10, bias=False)\n",
       ")"
      ]
     },
     "execution_count": 7,
     "metadata": {},
     "output_type": "execute_result"
    }
   ],
   "source": [
    "h= m[1]\n",
    "h"
   ]
  },
  {
   "cell_type": "code",
   "execution_count": 10,
   "id": "6f64f55c-3624-45c9-a971-e261c159cff5",
   "metadata": {},
   "outputs": [],
   "source": [
    "ll =h[-1]"
   ]
  },
  {
   "cell_type": "code",
   "execution_count": 11,
   "id": "d8c556d0-8acb-4497-8893-842c86ee65c7",
   "metadata": {},
   "outputs": [
    {
     "data": {
      "text/plain": [
       "Linear(in_features=512, out_features=10, bias=False)"
      ]
     },
     "execution_count": 11,
     "metadata": {},
     "output_type": "execute_result"
    }
   ],
   "source": [
    "ll"
   ]
  },
  {
   "cell_type": "code",
   "execution_count": 12,
   "id": "5ac26871-c633-4fb0-b49c-5495a2e8492e",
   "metadata": {},
   "outputs": [
    {
     "data": {
      "text/plain": [
       "<generator object Module.parameters at 0x7f3eb07f6510>"
      ]
     },
     "execution_count": 12,
     "metadata": {},
     "output_type": "execute_result"
    }
   ],
   "source": [
    "ll.parameters()"
   ]
  },
  {
   "cell_type": "code",
   "execution_count": 13,
   "id": "54f4ef1f-094b-466c-bf0c-75579090f484",
   "metadata": {},
   "outputs": [],
   "source": [
    "llp=list(ll.parameters())[0]"
   ]
  },
  {
   "cell_type": "code",
   "execution_count": 14,
   "id": "e437dc60-7c57-480b-a68e-bce443f0d649",
   "metadata": {},
   "outputs": [
    {
     "data": {
      "text/plain": [
       "Parameter containing:\n",
       "tensor([[-0.0744,  0.0336,  0.0605,  ..., -0.0420,  0.0424, -0.0034],\n",
       "        [-0.1795, -0.2076,  0.1650,  ..., -0.0621, -0.0006,  0.0082],\n",
       "        [ 0.1246,  0.1805, -0.0646,  ...,  0.0427, -0.0914, -0.0676],\n",
       "        ...,\n",
       "        [-0.0006,  0.0500,  0.1109,  ..., -0.1318, -0.1138,  0.0212],\n",
       "        [-0.0090,  0.0812, -0.0604,  ...,  0.1045,  0.2306,  0.1239],\n",
       "        [-0.0352, -0.0684,  0.1508,  ...,  0.0299,  0.0247, -0.0539]],\n",
       "       device='cuda:0', requires_grad=True)"
      ]
     },
     "execution_count": 14,
     "metadata": {},
     "output_type": "execute_result"
    }
   ],
   "source": [
    "llp"
   ]
  },
  {
   "cell_type": "code",
   "execution_count": 15,
   "id": "85613eed-f345-4154-b88d-3aa4b06de0cd",
   "metadata": {},
   "outputs": [
    {
     "data": {
      "text/plain": [
       "torch.Size([10, 512])"
      ]
     },
     "execution_count": 15,
     "metadata": {},
     "output_type": "execute_result"
    }
   ],
   "source": [
    "llp.shape"
   ]
  },
  {
   "cell_type": "code",
   "execution_count": 34,
   "id": "9a7442b2-fa0b-4b8b-9210-9900a4ae255e",
   "metadata": {},
   "outputs": [
    {
     "data": {
      "text/plain": [
       "Linear(in_features=512, out_features=10, bias=False)"
      ]
     },
     "execution_count": 34,
     "metadata": {},
     "output_type": "execute_result"
    }
   ],
   "source": [
    "ll"
   ]
  },
  {
   "cell_type": "code",
   "execution_count": 59,
   "id": "8f207517-724c-4ed7-baf9-b71af20c6ebc",
   "metadata": {},
   "outputs": [],
   "source": [
    "from copy import deepcopy"
   ]
  },
  {
   "cell_type": "code",
   "execution_count": 60,
   "id": "943eb8cd-bdf3-4752-aa6f-ea7883f281fb",
   "metadata": {},
   "outputs": [],
   "source": [
    "dls = ImageDataLoaders.from_folder(trn_path, valid_pct=.2, seed=42, item_tfms=Resize(224),batch=aug_transforms(size=224, min_scale= 0.75))   "
   ]
  },
  {
   "cell_type": "code",
   "execution_count": 80,
   "id": "441f7c57-320d-42f5-b6c8-b5ad624f8988",
   "metadata": {},
   "outputs": [],
   "source": [
    "learn = vision_learner(dls, arch)#, metrics=error_rate) # If you miss this part, you'll get an error! metrics=error_rate creates a problem "
   ]
  },
  {
   "cell_type": "code",
   "execution_count": 72,
   "id": "cefe0893-fc1b-4cf5-b89d-8ca6513e9922",
   "metadata": {},
   "outputs": [],
   "source": [
    "learn2 = deepcopy(learn)"
   ]
  },
  {
   "cell_type": "code",
   "execution_count": 73,
   "id": "828d9d3c-a85b-427e-b959-fe481cd22ca3",
   "metadata": {},
   "outputs": [],
   "source": [
    "curr_loss=learn2.loss_func"
   ]
  },
  {
   "cell_type": "code",
   "execution_count": 74,
   "id": "ab1358df-48e8-4b4c-add8-780248561e89",
   "metadata": {},
   "outputs": [],
   "source": [
    "def dtc_loss(preds,targs):\n",
    "    rice_preds,dis_preds = preds    \n",
    "    return curr_loss(dis_preds,targs)\n",
    "    "
   ]
  },
  {
   "cell_type": "code",
   "execution_count": 75,
   "id": "3188f876-a134-46fe-b0fc-da6da8996e87",
   "metadata": {},
   "outputs": [],
   "source": [
    "class DiseaseAndTypeClassifier(nn.Module):\n",
    "    def __init__(self,m):\n",
    "        super().__init__()\n",
    "        self.l1 = nn.Linear(in_features=512, out_features=10, bias=False) #rice type\n",
    "        self.l2 = nn.Linear(in_features=512, out_features=10, bias=False) #disease\n",
    "        del(m[1][-1]) #it removes the last layer\n",
    "        self.m = m\n",
    "    def forward (self,x):\n",
    "        x = self.m(x)\n",
    "        x1 = self.l1(x)\n",
    "        x2 = self.l2(x)\n",
    "        return x1,x2\n",
    "        "
   ]
  },
  {
   "cell_type": "code",
   "execution_count": 76,
   "id": "70b38fff-ab42-4690-900b-71e45bb3fbd8",
   "metadata": {},
   "outputs": [],
   "source": [
    "dtc = DiseaseAndTypeClassifier(learn2.model)"
   ]
  },
  {
   "cell_type": "code",
   "execution_count": 77,
   "id": "aed31a6c-520f-481e-80ee-5f39b96ba1b5",
   "metadata": {},
   "outputs": [],
   "source": [
    "learn2.model = dtc"
   ]
  },
  {
   "cell_type": "code",
   "execution_count": 78,
   "id": "7d546c37-bb35-4812-9488-6450a3b9e76f",
   "metadata": {},
   "outputs": [],
   "source": [
    "learn2.loss_func=dtc_loss"
   ]
  },
  {
   "cell_type": "code",
   "execution_count": 79,
   "id": "e7edf15e-842d-4501-8dde-da4569f2a34e",
   "metadata": {},
   "outputs": [
    {
     "data": {
      "text/html": [
       "\n",
       "<style>\n",
       "    /* Turns off some styling */\n",
       "    progress {\n",
       "        /* gets rid of default border in Firefox and Opera. */\n",
       "        border: none;\n",
       "        /* Needs to be in here for Safari polyfill so background images work as expected. */\n",
       "        background-size: auto;\n",
       "    }\n",
       "    .progress-bar-interrupted, .progress-bar-interrupted::-webkit-progress-bar {\n",
       "        background: #F44336;\n",
       "    }\n",
       "</style>\n"
      ],
      "text/plain": [
       "<IPython.core.display.HTML object>"
      ]
     },
     "metadata": {},
     "output_type": "display_data"
    },
    {
     "data": {
      "text/html": [],
      "text/plain": [
       "<IPython.core.display.HTML object>"
      ]
     },
     "metadata": {},
     "output_type": "display_data"
    }
   ],
   "source": [
    "preds,targs = learn2.get_preds(dl=learn2.dls.valid)"
   ]
  },
  {
   "cell_type": "code",
   "execution_count": 54,
   "id": "977cf21a-39d6-4573-a90f-6b6b4f039b17",
   "metadata": {},
   "outputs": [],
   "source": [
    "rice_preds, dis_preds = preds"
   ]
  },
  {
   "cell_type": "code",
   "execution_count": 55,
   "id": "d548ae3e-0a0f-4d1e-a401-32d5363eb20c",
   "metadata": {},
   "outputs": [
    {
     "data": {
      "text/plain": [
       "(torch.Size([2081, 10]), torch.Size([2081, 10]))"
      ]
     },
     "execution_count": 55,
     "metadata": {},
     "output_type": "execute_result"
    }
   ],
   "source": [
    "rice_preds.shape,dis_preds.shape"
   ]
  },
  {
   "cell_type": "markdown",
   "id": "6cdbdea8-72ef-43e2-a80f-d8f4bb710922",
   "metadata": {},
   "source": [
    "**need to check Fastai create head function**"
   ]
  }
 ],
 "metadata": {
  "kernelspec": {
   "display_name": "Python 3 (ipykernel)",
   "language": "python",
   "name": "python3"
  },
  "language_info": {
   "codemirror_mode": {
    "name": "ipython",
    "version": 3
   },
   "file_extension": ".py",
   "mimetype": "text/x-python",
   "name": "python",
   "nbconvert_exporter": "python",
   "pygments_lexer": "ipython3",
   "version": "3.9.13"
  }
 },
 "nbformat": 4,
 "nbformat_minor": 5
}
