{
 "cells": [
  {
   "cell_type": "markdown",
   "metadata": {},
   "source": [
    "# CHAPTER 4\n",
    "> Fast Book Chapter 4 summary\n",
    "\n",
    "- toc: true \n",
    "- badges: true\n",
    "- comments: true\n",
    "- categories: [fastbook]"
   ]
  },
  {
   "cell_type": "code",
   "execution_count": 84,
   "metadata": {},
   "outputs": [],
   "source": [
    "#hide\n",
    "#!pip install -Uqq fastbook\n",
    "import fastbook\n",
    "fastbook.setup_book()\n",
    "# below is for disabling Jedi autocomplete that doesn't work well.\n",
    "%config Completer.use_jedi = False\n"
   ]
  },
  {
   "cell_type": "code",
   "execution_count": 85,
   "metadata": {},
   "outputs": [],
   "source": [
    "#hide\n",
    "from fastai.vision.all import *\n",
    "from fastbook import *\n",
    "\n",
    "matplotlib.rc('image', cmap='Greys')\n"
   ]
  },
  {
   "cell_type": "markdown",
   "metadata": {},
   "source": [
    "## Exploring the dataset"
   ]
  },
  {
   "cell_type": "markdown",
   "metadata": {},
   "source": [
    "### What untar does?"
   ]
  },
  {
   "cell_type": "markdown",
   "metadata": {},
   "source": [
    "> Note: 'untar_data' come from fastai library, it downloads the data and untar it if it didn't already and returns the destination folder."
   ]
  },
  {
   "cell_type": "code",
   "execution_count": 86,
   "metadata": {},
   "outputs": [],
   "source": [
    "path = untar_data(URLs.MNIST_SAMPLE)"
   ]
  },
  {
   "cell_type": "code",
   "execution_count": 87,
   "metadata": {},
   "outputs": [],
   "source": [
    "??untar_data"
   ]
  },
  {
   "cell_type": "markdown",
   "metadata": {},
   "source": [
    "> Tip: Check it with '??'"
   ]
  },
  {
   "cell_type": "markdown",
   "metadata": {},
   "source": [
    "### What is \"path\"?"
   ]
  },
  {
   "cell_type": "code",
   "execution_count": 88,
   "metadata": {},
   "outputs": [
    {
     "data": {
      "text/plain": [
       "Path('.')"
      ]
     },
     "execution_count": 88,
     "metadata": {},
     "output_type": "execute_result"
    }
   ],
   "source": [
    "path"
   ]
  },
  {
   "cell_type": "markdown",
   "metadata": {},
   "source": [
    "> Tip: what is inside the current folder? this where the jupyter notebook works. '!' at the beginning means the command works on the terminal."
   ]
  },
  {
   "cell_type": "markdown",
   "metadata": {},
   "source": [
    "### What is \"!ls\""
   ]
  },
  {
   "cell_type": "markdown",
   "metadata": {},
   "source": [
    "> Note: __ls works on the terminal. (-d for only listing directories)__"
   ]
  },
  {
   "cell_type": "code",
   "execution_count": 89,
   "metadata": {},
   "outputs": [
    {
     "name": "stdout",
     "output_type": "stream",
     "text": [
      "2020-02-20-test.ipynb\t    ghtop_images  my_icons\r\n",
      "2021-07-16-chapter-4.ipynb  images\t  README.md\r\n"
     ]
    }
   ],
   "source": [
    "!ls"
   ]
  },
  {
   "cell_type": "markdown",
   "metadata": {},
   "source": [
    "__can be used like this too.__"
   ]
  },
  {
   "cell_type": "code",
   "execution_count": 90,
   "metadata": {},
   "outputs": [
    {
     "name": "stdout",
     "output_type": "stream",
     "text": [
      "/home/niyazi/.fastai/data/mnist_sample/train\r\n"
     ]
    }
   ],
   "source": [
    "!ls /home/niyazi/.fastai/data/mnist_sample/train -d"
   ]
  },
  {
   "cell_type": "markdown",
   "metadata": {},
   "source": [
    "__also like this:__"
   ]
  },
  {
   "cell_type": "code",
   "execution_count": 91,
   "metadata": {},
   "outputs": [
    {
     "name": "stdout",
     "output_type": "stream",
     "text": [
      "/home/niyazi/.fastai/data/mnist_sample/train/3\r\n"
     ]
    }
   ],
   "source": [
    "!ls /home/niyazi/.fastai/data/mnist_sample/train/3 -d"
   ]
  },
  {
   "cell_type": "markdown",
   "metadata": {},
   "source": [
    "### What is \"tree\" ?"
   ]
  },
  {
   "cell_type": "markdown",
   "metadata": {},
   "source": [
    "> Note: __for seeing tree sturucture of the files and folders (-d argument for directories)__"
   ]
  },
  {
   "cell_type": "code",
   "execution_count": 92,
   "metadata": {},
   "outputs": [
    {
     "name": "stdout",
     "output_type": "stream",
     "text": [
      "\u001b[01;34m/home/niyazi/.fastai/data/mnist_sample/\u001b[00m\r\n",
      "├── \u001b[01;34mtrain\u001b[00m\r\n",
      "│   ├── \u001b[01;34m3\u001b[00m\r\n",
      "│   └── \u001b[01;34m7\u001b[00m\r\n",
      "└── \u001b[01;34mvalid\u001b[00m\r\n",
      "    ├── \u001b[01;34m3\u001b[00m\r\n",
      "    └── \u001b[01;34m7\u001b[00m\r\n",
      "\r\n",
      "6 directories\r\n"
     ]
    }
   ],
   "source": [
    "!tree /home/niyazi/.fastai/data/mnist_sample/ -d"
   ]
  },
  {
   "cell_type": "code",
   "execution_count": 93,
   "metadata": {},
   "outputs": [],
   "source": [
    "#hide\n",
    "Path.BASE_PATH = path"
   ]
  },
  {
   "cell_type": "markdown",
   "metadata": {},
   "source": [
    "### What is \"ls()\" ?"
   ]
  },
  {
   "cell_type": "markdown",
   "metadata": {},
   "source": [
    "> Note: 'ls' is method by fastai similiar the Python's list fuction but more powerful."
   ]
  },
  {
   "cell_type": "code",
   "execution_count": 94,
   "metadata": {},
   "outputs": [
    {
     "data": {
      "text/plain": [
       "(#3) [Path('labels.csv'),Path('train'),Path('valid')]"
      ]
     },
     "execution_count": 94,
     "metadata": {},
     "output_type": "execute_result"
    }
   ],
   "source": [
    "path.ls()"
   ]
  },
  {
   "cell_type": "markdown",
   "metadata": {},
   "source": [
    "> Note: Check this usage:"
   ]
  },
  {
   "cell_type": "code",
   "execution_count": 95,
   "metadata": {},
   "outputs": [
    {
     "data": {
      "text/plain": [
       "Path('train')"
      ]
     },
     "execution_count": 95,
     "metadata": {},
     "output_type": "execute_result"
    }
   ],
   "source": [
    "(path/'train')"
   ]
  },
  {
   "cell_type": "code",
   "execution_count": 96,
   "metadata": {},
   "outputs": [
    {
     "data": {
      "text/plain": [
       "(#2) [Path('train/7'),Path('train/3')]"
      ]
     },
     "execution_count": 96,
     "metadata": {},
     "output_type": "execute_result"
    }
   ],
   "source": [
    "(path/'train').ls()"
   ]
  },
  {
   "cell_type": "markdown",
   "metadata": {},
   "source": [
    "> Note: there are  two folders under training folder"
   ]
  },
  {
   "cell_type": "code",
   "execution_count": 97,
   "metadata": {},
   "outputs": [],
   "source": [
    "threes = (path/'train'/'3').ls().sorted()\n",
    "sevens = (path/'train'/'7').ls().sorted()\n"
   ]
  },
  {
   "cell_type": "markdown",
   "metadata": {},
   "source": [
    "> Note: this code returns and ordered list of paths"
   ]
  },
  {
   "cell_type": "markdown",
   "metadata": {},
   "source": [
    "###  What is \"PIL\" ? (Python Image Library)"
   ]
  },
  {
   "cell_type": "code",
   "execution_count": 98,
   "metadata": {},
   "outputs": [
    {
     "data": {
      "text/plain": [
       "PIL.PngImagePlugin.PngImageFile"
      ]
     },
     "execution_count": 98,
     "metadata": {},
     "output_type": "execute_result"
    }
   ],
   "source": [
    "im3_path = threes[1]\n",
    "im3 = Image.open(im3_path)\n",
    "type(im3)\n",
    "#im3"
   ]
  },
  {
   "cell_type": "markdown",
   "metadata": {},
   "source": [
    "### NumPy array"
   ]
  },
  {
   "cell_type": "markdown",
   "metadata": {},
   "source": [
    "The 4:10 indicates we requested the rows from index 4 (included) to 10 (not included) and the same for the columns. NumPy indexes from top to bottom and left to right, so this section is located in the top-left corner of the image. "
   ]
  },
  {
   "cell_type": "code",
   "execution_count": 99,
   "metadata": {},
   "outputs": [
    {
     "data": {
      "text/plain": [
       "array([[  0,   0,   0,   0,   0,   0],\n",
       "       [  0,   0,   0,   0,   0,  29],\n",
       "       [  0,   0,   0,  48, 166, 224],\n",
       "       [  0,  93, 244, 249, 253, 187],\n",
       "       [  0, 107, 253, 253, 230,  48],\n",
       "       [  0,   3,  20,  20,  15,   0]], dtype=uint8)"
      ]
     },
     "execution_count": 99,
     "metadata": {},
     "output_type": "execute_result"
    }
   ],
   "source": [
    "array(im3)[4:10,4:10]"
   ]
  },
  {
   "cell_type": "markdown",
   "metadata": {},
   "source": [
    "> Note: this is how it looks  some part of the image in the NumPy array"
   ]
  },
  {
   "cell_type": "markdown",
   "metadata": {},
   "source": [
    "### Pytorch tensor"
   ]
  },
  {
   "cell_type": "markdown",
   "metadata": {},
   "source": [
    "Here's the same thing as a PyTorch tensor:\n"
   ]
  },
  {
   "cell_type": "code",
   "execution_count": 100,
   "metadata": {},
   "outputs": [
    {
     "data": {
      "text/plain": [
       "tensor([[  0,   0,   0,   0,   0,   0],\n",
       "        [  0,   0,   0,   0,   0,  29],\n",
       "        [  0,   0,   0,  48, 166, 224],\n",
       "        [  0,  93, 244, 249, 253, 187],\n",
       "        [  0, 107, 253, 253, 230,  48],\n",
       "        [  0,   3,  20,  20,  15,   0]], dtype=torch.uint8)"
      ]
     },
     "execution_count": 100,
     "metadata": {},
     "output_type": "execute_result"
    }
   ],
   "source": [
    "tensor(im3)[4:10,4:10]"
   ]
  },
  {
   "cell_type": "markdown",
   "metadata": {},
   "source": [
    "> Note: It is possible to convert it to a tansor as well."
   ]
  },
  {
   "cell_type": "code",
   "execution_count": 101,
   "metadata": {
    "scrolled": true
   },
   "outputs": [
    {
     "data": {
      "text/html": [
       "<style  type=\"text/css\" >\n",
       "#T_3c63c_row0_col0,#T_3c63c_row0_col1,#T_3c63c_row0_col2,#T_3c63c_row0_col3,#T_3c63c_row0_col4,#T_3c63c_row0_col5,#T_3c63c_row0_col6,#T_3c63c_row0_col7,#T_3c63c_row0_col8,#T_3c63c_row0_col9,#T_3c63c_row0_col10,#T_3c63c_row0_col11,#T_3c63c_row0_col12,#T_3c63c_row0_col13,#T_3c63c_row0_col14,#T_3c63c_row0_col15,#T_3c63c_row0_col16,#T_3c63c_row0_col17,#T_3c63c_row1_col0,#T_3c63c_row1_col1,#T_3c63c_row1_col2,#T_3c63c_row1_col3,#T_3c63c_row1_col4,#T_3c63c_row1_col15,#T_3c63c_row1_col16,#T_3c63c_row1_col17,#T_3c63c_row2_col0,#T_3c63c_row2_col1,#T_3c63c_row2_col2,#T_3c63c_row2_col15,#T_3c63c_row2_col16,#T_3c63c_row2_col17,#T_3c63c_row3_col0,#T_3c63c_row3_col15,#T_3c63c_row3_col16,#T_3c63c_row3_col17,#T_3c63c_row4_col0,#T_3c63c_row4_col6,#T_3c63c_row4_col7,#T_3c63c_row4_col8,#T_3c63c_row4_col9,#T_3c63c_row4_col10,#T_3c63c_row4_col15,#T_3c63c_row4_col16,#T_3c63c_row4_col17,#T_3c63c_row5_col0,#T_3c63c_row5_col5,#T_3c63c_row5_col6,#T_3c63c_row5_col7,#T_3c63c_row5_col8,#T_3c63c_row5_col9,#T_3c63c_row5_col15,#T_3c63c_row5_col16,#T_3c63c_row5_col17,#T_3c63c_row6_col0,#T_3c63c_row6_col1,#T_3c63c_row6_col2,#T_3c63c_row6_col3,#T_3c63c_row6_col4,#T_3c63c_row6_col5,#T_3c63c_row6_col6,#T_3c63c_row6_col7,#T_3c63c_row6_col8,#T_3c63c_row6_col9,#T_3c63c_row6_col14,#T_3c63c_row6_col15,#T_3c63c_row6_col16,#T_3c63c_row6_col17,#T_3c63c_row7_col0,#T_3c63c_row7_col1,#T_3c63c_row7_col2,#T_3c63c_row7_col3,#T_3c63c_row7_col4,#T_3c63c_row7_col5,#T_3c63c_row7_col6,#T_3c63c_row7_col13,#T_3c63c_row7_col14,#T_3c63c_row7_col15,#T_3c63c_row7_col16,#T_3c63c_row7_col17,#T_3c63c_row8_col0,#T_3c63c_row8_col1,#T_3c63c_row8_col2,#T_3c63c_row8_col3,#T_3c63c_row8_col4,#T_3c63c_row8_col13,#T_3c63c_row8_col14,#T_3c63c_row8_col15,#T_3c63c_row8_col16,#T_3c63c_row8_col17,#T_3c63c_row9_col0,#T_3c63c_row9_col1,#T_3c63c_row9_col2,#T_3c63c_row9_col3,#T_3c63c_row9_col4,#T_3c63c_row9_col16,#T_3c63c_row9_col17,#T_3c63c_row10_col0,#T_3c63c_row10_col1,#T_3c63c_row10_col2,#T_3c63c_row10_col3,#T_3c63c_row10_col4,#T_3c63c_row10_col5,#T_3c63c_row10_col6,#T_3c63c_row10_col17{\n",
       "            font-size:  6pt;\n",
       "            background-color:  #fff7ec;\n",
       "            color:  #000000;\n",
       "        }#T_3c63c_row1_col5{\n",
       "            font-size:  6pt;\n",
       "            background-color:  #fee7c7;\n",
       "            color:  #000000;\n",
       "        }#T_3c63c_row1_col6,#T_3c63c_row1_col13{\n",
       "            font-size:  6pt;\n",
       "            background-color:  #f2704c;\n",
       "            color:  #000000;\n",
       "        }#T_3c63c_row1_col7{\n",
       "            font-size:  6pt;\n",
       "            background-color:  #d12719;\n",
       "            color:  #f1f1f1;\n",
       "        }#T_3c63c_row1_col8,#T_3c63c_row1_col9,#T_3c63c_row1_col10,#T_3c63c_row2_col5,#T_3c63c_row2_col6,#T_3c63c_row2_col7,#T_3c63c_row2_col11,#T_3c63c_row2_col12,#T_3c63c_row2_col13,#T_3c63c_row3_col4,#T_3c63c_row3_col12,#T_3c63c_row3_col13,#T_3c63c_row4_col1,#T_3c63c_row4_col2,#T_3c63c_row4_col3,#T_3c63c_row4_col12,#T_3c63c_row4_col13,#T_3c63c_row5_col12,#T_3c63c_row6_col11,#T_3c63c_row9_col11,#T_3c63c_row10_col11,#T_3c63c_row10_col12,#T_3c63c_row10_col13,#T_3c63c_row10_col14,#T_3c63c_row10_col15,#T_3c63c_row10_col16{\n",
       "            font-size:  6pt;\n",
       "            background-color:  #7f0000;\n",
       "            color:  #f1f1f1;\n",
       "        }#T_3c63c_row1_col11{\n",
       "            font-size:  6pt;\n",
       "            background-color:  #e14630;\n",
       "            color:  #f1f1f1;\n",
       "        }#T_3c63c_row1_col12{\n",
       "            font-size:  6pt;\n",
       "            background-color:  #d32a1b;\n",
       "            color:  #f1f1f1;\n",
       "        }#T_3c63c_row1_col14{\n",
       "            font-size:  6pt;\n",
       "            background-color:  #fdb982;\n",
       "            color:  #000000;\n",
       "        }#T_3c63c_row2_col3{\n",
       "            font-size:  6pt;\n",
       "            background-color:  #fddeb3;\n",
       "            color:  #000000;\n",
       "        }#T_3c63c_row2_col4,#T_3c63c_row8_col6{\n",
       "            font-size:  6pt;\n",
       "            background-color:  #e9583e;\n",
       "            color:  #000000;\n",
       "        }#T_3c63c_row2_col8,#T_3c63c_row2_col14,#T_3c63c_row3_col14{\n",
       "            font-size:  6pt;\n",
       "            background-color:  #a00000;\n",
       "            color:  #f1f1f1;\n",
       "        }#T_3c63c_row2_col9,#T_3c63c_row3_col11{\n",
       "            font-size:  6pt;\n",
       "            background-color:  #d2291a;\n",
       "            color:  #f1f1f1;\n",
       "        }#T_3c63c_row2_col10,#T_3c63c_row7_col10,#T_3c63c_row8_col8,#T_3c63c_row8_col10,#T_3c63c_row9_col8,#T_3c63c_row9_col10{\n",
       "            font-size:  6pt;\n",
       "            background-color:  #810000;\n",
       "            color:  #f1f1f1;\n",
       "        }#T_3c63c_row3_col1{\n",
       "            font-size:  6pt;\n",
       "            background-color:  #b40201;\n",
       "            color:  #f1f1f1;\n",
       "        }#T_3c63c_row3_col2{\n",
       "            font-size:  6pt;\n",
       "            background-color:  #8e0000;\n",
       "            color:  #f1f1f1;\n",
       "        }#T_3c63c_row3_col3{\n",
       "            font-size:  6pt;\n",
       "            background-color:  #860000;\n",
       "            color:  #f1f1f1;\n",
       "        }#T_3c63c_row3_col5{\n",
       "            font-size:  6pt;\n",
       "            background-color:  #be0f0a;\n",
       "            color:  #f1f1f1;\n",
       "        }#T_3c63c_row3_col6{\n",
       "            font-size:  6pt;\n",
       "            background-color:  #fedfb5;\n",
       "            color:  #000000;\n",
       "        }#T_3c63c_row3_col7,#T_3c63c_row3_col10{\n",
       "            font-size:  6pt;\n",
       "            background-color:  #fff2e1;\n",
       "            color:  #000000;\n",
       "        }#T_3c63c_row3_col8{\n",
       "            font-size:  6pt;\n",
       "            background-color:  #fff3e3;\n",
       "            color:  #000000;\n",
       "        }#T_3c63c_row3_col9{\n",
       "            font-size:  6pt;\n",
       "            background-color:  #fff5e7;\n",
       "            color:  #000000;\n",
       "        }#T_3c63c_row4_col4{\n",
       "            font-size:  6pt;\n",
       "            background-color:  #a50000;\n",
       "            color:  #f1f1f1;\n",
       "        }#T_3c63c_row4_col5{\n",
       "            font-size:  6pt;\n",
       "            background-color:  #fddaab;\n",
       "            color:  #000000;\n",
       "        }#T_3c63c_row4_col11{\n",
       "            font-size:  6pt;\n",
       "            background-color:  #d42c1c;\n",
       "            color:  #f1f1f1;\n",
       "        }#T_3c63c_row4_col14{\n",
       "            font-size:  6pt;\n",
       "            background-color:  #f06849;\n",
       "            color:  #000000;\n",
       "        }#T_3c63c_row5_col1{\n",
       "            font-size:  6pt;\n",
       "            background-color:  #fff4e4;\n",
       "            color:  #000000;\n",
       "        }#T_3c63c_row5_col2,#T_3c63c_row5_col3{\n",
       "            font-size:  6pt;\n",
       "            background-color:  #feeed5;\n",
       "            color:  #000000;\n",
       "        }#T_3c63c_row5_col4{\n",
       "            font-size:  6pt;\n",
       "            background-color:  #fff0db;\n",
       "            color:  #000000;\n",
       "        }#T_3c63c_row5_col10,#T_3c63c_row10_col7{\n",
       "            font-size:  6pt;\n",
       "            background-color:  #fee1b9;\n",
       "            color:  #000000;\n",
       "        }#T_3c63c_row5_col11{\n",
       "            font-size:  6pt;\n",
       "            background-color:  #ae0000;\n",
       "            color:  #f1f1f1;\n",
       "        }#T_3c63c_row5_col13,#T_3c63c_row6_col12{\n",
       "            font-size:  6pt;\n",
       "            background-color:  #8c0000;\n",
       "            color:  #f1f1f1;\n",
       "        }#T_3c63c_row5_col14{\n",
       "            font-size:  6pt;\n",
       "            background-color:  #fdcc96;\n",
       "            color:  #000000;\n",
       "        }#T_3c63c_row6_col10,#T_3c63c_row7_col11,#T_3c63c_row9_col6{\n",
       "            font-size:  6pt;\n",
       "            background-color:  #870000;\n",
       "            color:  #f1f1f1;\n",
       "        }#T_3c63c_row6_col13{\n",
       "            font-size:  6pt;\n",
       "            background-color:  #fc8e5a;\n",
       "            color:  #000000;\n",
       "        }#T_3c63c_row7_col7{\n",
       "            font-size:  6pt;\n",
       "            background-color:  #fff0dc;\n",
       "            color:  #000000;\n",
       "        }#T_3c63c_row7_col8{\n",
       "            font-size:  6pt;\n",
       "            background-color:  #fdb37d;\n",
       "            color:  #000000;\n",
       "        }#T_3c63c_row7_col9{\n",
       "            font-size:  6pt;\n",
       "            background-color:  #b30000;\n",
       "            color:  #f1f1f1;\n",
       "        }#T_3c63c_row7_col12{\n",
       "            font-size:  6pt;\n",
       "            background-color:  #fc915c;\n",
       "            color:  #000000;\n",
       "        }#T_3c63c_row8_col5{\n",
       "            font-size:  6pt;\n",
       "            background-color:  #fff1de;\n",
       "            color:  #000000;\n",
       "        }#T_3c63c_row8_col7{\n",
       "            font-size:  6pt;\n",
       "            background-color:  #960000;\n",
       "            color:  #f1f1f1;\n",
       "        }#T_3c63c_row8_col9,#T_3c63c_row9_col9{\n",
       "            font-size:  6pt;\n",
       "            background-color:  #820000;\n",
       "            color:  #f1f1f1;\n",
       "        }#T_3c63c_row8_col11{\n",
       "            font-size:  6pt;\n",
       "            background-color:  #d93422;\n",
       "            color:  #f1f1f1;\n",
       "        }#T_3c63c_row8_col12{\n",
       "            font-size:  6pt;\n",
       "            background-color:  #fee9ca;\n",
       "            color:  #000000;\n",
       "        }#T_3c63c_row9_col5{\n",
       "            font-size:  6pt;\n",
       "            background-color:  #feefd8;\n",
       "            color:  #000000;\n",
       "        }#T_3c63c_row9_col7{\n",
       "            font-size:  6pt;\n",
       "            background-color:  #840000;\n",
       "            color:  #f1f1f1;\n",
       "        }#T_3c63c_row9_col12{\n",
       "            font-size:  6pt;\n",
       "            background-color:  #a10000;\n",
       "            color:  #f1f1f1;\n",
       "        }#T_3c63c_row9_col13{\n",
       "            font-size:  6pt;\n",
       "            background-color:  #bc0c08;\n",
       "            color:  #f1f1f1;\n",
       "        }#T_3c63c_row9_col14{\n",
       "            font-size:  6pt;\n",
       "            background-color:  #fca36e;\n",
       "            color:  #000000;\n",
       "        }#T_3c63c_row9_col15{\n",
       "            font-size:  6pt;\n",
       "            background-color:  #fff6ea;\n",
       "            color:  #000000;\n",
       "        }#T_3c63c_row10_col8,#T_3c63c_row10_col9{\n",
       "            font-size:  6pt;\n",
       "            background-color:  #fdb881;\n",
       "            color:  #000000;\n",
       "        }#T_3c63c_row10_col10{\n",
       "            font-size:  6pt;\n",
       "            background-color:  #c3150e;\n",
       "            color:  #f1f1f1;\n",
       "        }</style><table id=\"T_3c63c_\" ><thead>    <tr>        <th class=\"blank level0\" ></th>        <th class=\"col_heading level0 col0\" >0</th>        <th class=\"col_heading level0 col1\" >1</th>        <th class=\"col_heading level0 col2\" >2</th>        <th class=\"col_heading level0 col3\" >3</th>        <th class=\"col_heading level0 col4\" >4</th>        <th class=\"col_heading level0 col5\" >5</th>        <th class=\"col_heading level0 col6\" >6</th>        <th class=\"col_heading level0 col7\" >7</th>        <th class=\"col_heading level0 col8\" >8</th>        <th class=\"col_heading level0 col9\" >9</th>        <th class=\"col_heading level0 col10\" >10</th>        <th class=\"col_heading level0 col11\" >11</th>        <th class=\"col_heading level0 col12\" >12</th>        <th class=\"col_heading level0 col13\" >13</th>        <th class=\"col_heading level0 col14\" >14</th>        <th class=\"col_heading level0 col15\" >15</th>        <th class=\"col_heading level0 col16\" >16</th>        <th class=\"col_heading level0 col17\" >17</th>    </tr></thead><tbody>\n",
       "                <tr>\n",
       "                        <th id=\"T_3c63c_level0_row0\" class=\"row_heading level0 row0\" >0</th>\n",
       "                        <td id=\"T_3c63c_row0_col0\" class=\"data row0 col0\" >0</td>\n",
       "                        <td id=\"T_3c63c_row0_col1\" class=\"data row0 col1\" >0</td>\n",
       "                        <td id=\"T_3c63c_row0_col2\" class=\"data row0 col2\" >0</td>\n",
       "                        <td id=\"T_3c63c_row0_col3\" class=\"data row0 col3\" >0</td>\n",
       "                        <td id=\"T_3c63c_row0_col4\" class=\"data row0 col4\" >0</td>\n",
       "                        <td id=\"T_3c63c_row0_col5\" class=\"data row0 col5\" >0</td>\n",
       "                        <td id=\"T_3c63c_row0_col6\" class=\"data row0 col6\" >0</td>\n",
       "                        <td id=\"T_3c63c_row0_col7\" class=\"data row0 col7\" >0</td>\n",
       "                        <td id=\"T_3c63c_row0_col8\" class=\"data row0 col8\" >0</td>\n",
       "                        <td id=\"T_3c63c_row0_col9\" class=\"data row0 col9\" >0</td>\n",
       "                        <td id=\"T_3c63c_row0_col10\" class=\"data row0 col10\" >0</td>\n",
       "                        <td id=\"T_3c63c_row0_col11\" class=\"data row0 col11\" >0</td>\n",
       "                        <td id=\"T_3c63c_row0_col12\" class=\"data row0 col12\" >0</td>\n",
       "                        <td id=\"T_3c63c_row0_col13\" class=\"data row0 col13\" >0</td>\n",
       "                        <td id=\"T_3c63c_row0_col14\" class=\"data row0 col14\" >0</td>\n",
       "                        <td id=\"T_3c63c_row0_col15\" class=\"data row0 col15\" >0</td>\n",
       "                        <td id=\"T_3c63c_row0_col16\" class=\"data row0 col16\" >0</td>\n",
       "                        <td id=\"T_3c63c_row0_col17\" class=\"data row0 col17\" >0</td>\n",
       "            </tr>\n",
       "            <tr>\n",
       "                        <th id=\"T_3c63c_level0_row1\" class=\"row_heading level0 row1\" >1</th>\n",
       "                        <td id=\"T_3c63c_row1_col0\" class=\"data row1 col0\" >0</td>\n",
       "                        <td id=\"T_3c63c_row1_col1\" class=\"data row1 col1\" >0</td>\n",
       "                        <td id=\"T_3c63c_row1_col2\" class=\"data row1 col2\" >0</td>\n",
       "                        <td id=\"T_3c63c_row1_col3\" class=\"data row1 col3\" >0</td>\n",
       "                        <td id=\"T_3c63c_row1_col4\" class=\"data row1 col4\" >0</td>\n",
       "                        <td id=\"T_3c63c_row1_col5\" class=\"data row1 col5\" >29</td>\n",
       "                        <td id=\"T_3c63c_row1_col6\" class=\"data row1 col6\" >150</td>\n",
       "                        <td id=\"T_3c63c_row1_col7\" class=\"data row1 col7\" >195</td>\n",
       "                        <td id=\"T_3c63c_row1_col8\" class=\"data row1 col8\" >254</td>\n",
       "                        <td id=\"T_3c63c_row1_col9\" class=\"data row1 col9\" >255</td>\n",
       "                        <td id=\"T_3c63c_row1_col10\" class=\"data row1 col10\" >254</td>\n",
       "                        <td id=\"T_3c63c_row1_col11\" class=\"data row1 col11\" >176</td>\n",
       "                        <td id=\"T_3c63c_row1_col12\" class=\"data row1 col12\" >193</td>\n",
       "                        <td id=\"T_3c63c_row1_col13\" class=\"data row1 col13\" >150</td>\n",
       "                        <td id=\"T_3c63c_row1_col14\" class=\"data row1 col14\" >96</td>\n",
       "                        <td id=\"T_3c63c_row1_col15\" class=\"data row1 col15\" >0</td>\n",
       "                        <td id=\"T_3c63c_row1_col16\" class=\"data row1 col16\" >0</td>\n",
       "                        <td id=\"T_3c63c_row1_col17\" class=\"data row1 col17\" >0</td>\n",
       "            </tr>\n",
       "            <tr>\n",
       "                        <th id=\"T_3c63c_level0_row2\" class=\"row_heading level0 row2\" >2</th>\n",
       "                        <td id=\"T_3c63c_row2_col0\" class=\"data row2 col0\" >0</td>\n",
       "                        <td id=\"T_3c63c_row2_col1\" class=\"data row2 col1\" >0</td>\n",
       "                        <td id=\"T_3c63c_row2_col2\" class=\"data row2 col2\" >0</td>\n",
       "                        <td id=\"T_3c63c_row2_col3\" class=\"data row2 col3\" >48</td>\n",
       "                        <td id=\"T_3c63c_row2_col4\" class=\"data row2 col4\" >166</td>\n",
       "                        <td id=\"T_3c63c_row2_col5\" class=\"data row2 col5\" >224</td>\n",
       "                        <td id=\"T_3c63c_row2_col6\" class=\"data row2 col6\" >253</td>\n",
       "                        <td id=\"T_3c63c_row2_col7\" class=\"data row2 col7\" >253</td>\n",
       "                        <td id=\"T_3c63c_row2_col8\" class=\"data row2 col8\" >234</td>\n",
       "                        <td id=\"T_3c63c_row2_col9\" class=\"data row2 col9\" >196</td>\n",
       "                        <td id=\"T_3c63c_row2_col10\" class=\"data row2 col10\" >253</td>\n",
       "                        <td id=\"T_3c63c_row2_col11\" class=\"data row2 col11\" >253</td>\n",
       "                        <td id=\"T_3c63c_row2_col12\" class=\"data row2 col12\" >253</td>\n",
       "                        <td id=\"T_3c63c_row2_col13\" class=\"data row2 col13\" >253</td>\n",
       "                        <td id=\"T_3c63c_row2_col14\" class=\"data row2 col14\" >233</td>\n",
       "                        <td id=\"T_3c63c_row2_col15\" class=\"data row2 col15\" >0</td>\n",
       "                        <td id=\"T_3c63c_row2_col16\" class=\"data row2 col16\" >0</td>\n",
       "                        <td id=\"T_3c63c_row2_col17\" class=\"data row2 col17\" >0</td>\n",
       "            </tr>\n",
       "            <tr>\n",
       "                        <th id=\"T_3c63c_level0_row3\" class=\"row_heading level0 row3\" >3</th>\n",
       "                        <td id=\"T_3c63c_row3_col0\" class=\"data row3 col0\" >0</td>\n",
       "                        <td id=\"T_3c63c_row3_col1\" class=\"data row3 col1\" >93</td>\n",
       "                        <td id=\"T_3c63c_row3_col2\" class=\"data row3 col2\" >244</td>\n",
       "                        <td id=\"T_3c63c_row3_col3\" class=\"data row3 col3\" >249</td>\n",
       "                        <td id=\"T_3c63c_row3_col4\" class=\"data row3 col4\" >253</td>\n",
       "                        <td id=\"T_3c63c_row3_col5\" class=\"data row3 col5\" >187</td>\n",
       "                        <td id=\"T_3c63c_row3_col6\" class=\"data row3 col6\" >46</td>\n",
       "                        <td id=\"T_3c63c_row3_col7\" class=\"data row3 col7\" >10</td>\n",
       "                        <td id=\"T_3c63c_row3_col8\" class=\"data row3 col8\" >8</td>\n",
       "                        <td id=\"T_3c63c_row3_col9\" class=\"data row3 col9\" >4</td>\n",
       "                        <td id=\"T_3c63c_row3_col10\" class=\"data row3 col10\" >10</td>\n",
       "                        <td id=\"T_3c63c_row3_col11\" class=\"data row3 col11\" >194</td>\n",
       "                        <td id=\"T_3c63c_row3_col12\" class=\"data row3 col12\" >253</td>\n",
       "                        <td id=\"T_3c63c_row3_col13\" class=\"data row3 col13\" >253</td>\n",
       "                        <td id=\"T_3c63c_row3_col14\" class=\"data row3 col14\" >233</td>\n",
       "                        <td id=\"T_3c63c_row3_col15\" class=\"data row3 col15\" >0</td>\n",
       "                        <td id=\"T_3c63c_row3_col16\" class=\"data row3 col16\" >0</td>\n",
       "                        <td id=\"T_3c63c_row3_col17\" class=\"data row3 col17\" >0</td>\n",
       "            </tr>\n",
       "            <tr>\n",
       "                        <th id=\"T_3c63c_level0_row4\" class=\"row_heading level0 row4\" >4</th>\n",
       "                        <td id=\"T_3c63c_row4_col0\" class=\"data row4 col0\" >0</td>\n",
       "                        <td id=\"T_3c63c_row4_col1\" class=\"data row4 col1\" >107</td>\n",
       "                        <td id=\"T_3c63c_row4_col2\" class=\"data row4 col2\" >253</td>\n",
       "                        <td id=\"T_3c63c_row4_col3\" class=\"data row4 col3\" >253</td>\n",
       "                        <td id=\"T_3c63c_row4_col4\" class=\"data row4 col4\" >230</td>\n",
       "                        <td id=\"T_3c63c_row4_col5\" class=\"data row4 col5\" >48</td>\n",
       "                        <td id=\"T_3c63c_row4_col6\" class=\"data row4 col6\" >0</td>\n",
       "                        <td id=\"T_3c63c_row4_col7\" class=\"data row4 col7\" >0</td>\n",
       "                        <td id=\"T_3c63c_row4_col8\" class=\"data row4 col8\" >0</td>\n",
       "                        <td id=\"T_3c63c_row4_col9\" class=\"data row4 col9\" >0</td>\n",
       "                        <td id=\"T_3c63c_row4_col10\" class=\"data row4 col10\" >0</td>\n",
       "                        <td id=\"T_3c63c_row4_col11\" class=\"data row4 col11\" >192</td>\n",
       "                        <td id=\"T_3c63c_row4_col12\" class=\"data row4 col12\" >253</td>\n",
       "                        <td id=\"T_3c63c_row4_col13\" class=\"data row4 col13\" >253</td>\n",
       "                        <td id=\"T_3c63c_row4_col14\" class=\"data row4 col14\" >156</td>\n",
       "                        <td id=\"T_3c63c_row4_col15\" class=\"data row4 col15\" >0</td>\n",
       "                        <td id=\"T_3c63c_row4_col16\" class=\"data row4 col16\" >0</td>\n",
       "                        <td id=\"T_3c63c_row4_col17\" class=\"data row4 col17\" >0</td>\n",
       "            </tr>\n",
       "            <tr>\n",
       "                        <th id=\"T_3c63c_level0_row5\" class=\"row_heading level0 row5\" >5</th>\n",
       "                        <td id=\"T_3c63c_row5_col0\" class=\"data row5 col0\" >0</td>\n",
       "                        <td id=\"T_3c63c_row5_col1\" class=\"data row5 col1\" >3</td>\n",
       "                        <td id=\"T_3c63c_row5_col2\" class=\"data row5 col2\" >20</td>\n",
       "                        <td id=\"T_3c63c_row5_col3\" class=\"data row5 col3\" >20</td>\n",
       "                        <td id=\"T_3c63c_row5_col4\" class=\"data row5 col4\" >15</td>\n",
       "                        <td id=\"T_3c63c_row5_col5\" class=\"data row5 col5\" >0</td>\n",
       "                        <td id=\"T_3c63c_row5_col6\" class=\"data row5 col6\" >0</td>\n",
       "                        <td id=\"T_3c63c_row5_col7\" class=\"data row5 col7\" >0</td>\n",
       "                        <td id=\"T_3c63c_row5_col8\" class=\"data row5 col8\" >0</td>\n",
       "                        <td id=\"T_3c63c_row5_col9\" class=\"data row5 col9\" >0</td>\n",
       "                        <td id=\"T_3c63c_row5_col10\" class=\"data row5 col10\" >43</td>\n",
       "                        <td id=\"T_3c63c_row5_col11\" class=\"data row5 col11\" >224</td>\n",
       "                        <td id=\"T_3c63c_row5_col12\" class=\"data row5 col12\" >253</td>\n",
       "                        <td id=\"T_3c63c_row5_col13\" class=\"data row5 col13\" >245</td>\n",
       "                        <td id=\"T_3c63c_row5_col14\" class=\"data row5 col14\" >74</td>\n",
       "                        <td id=\"T_3c63c_row5_col15\" class=\"data row5 col15\" >0</td>\n",
       "                        <td id=\"T_3c63c_row5_col16\" class=\"data row5 col16\" >0</td>\n",
       "                        <td id=\"T_3c63c_row5_col17\" class=\"data row5 col17\" >0</td>\n",
       "            </tr>\n",
       "            <tr>\n",
       "                        <th id=\"T_3c63c_level0_row6\" class=\"row_heading level0 row6\" >6</th>\n",
       "                        <td id=\"T_3c63c_row6_col0\" class=\"data row6 col0\" >0</td>\n",
       "                        <td id=\"T_3c63c_row6_col1\" class=\"data row6 col1\" >0</td>\n",
       "                        <td id=\"T_3c63c_row6_col2\" class=\"data row6 col2\" >0</td>\n",
       "                        <td id=\"T_3c63c_row6_col3\" class=\"data row6 col3\" >0</td>\n",
       "                        <td id=\"T_3c63c_row6_col4\" class=\"data row6 col4\" >0</td>\n",
       "                        <td id=\"T_3c63c_row6_col5\" class=\"data row6 col5\" >0</td>\n",
       "                        <td id=\"T_3c63c_row6_col6\" class=\"data row6 col6\" >0</td>\n",
       "                        <td id=\"T_3c63c_row6_col7\" class=\"data row6 col7\" >0</td>\n",
       "                        <td id=\"T_3c63c_row6_col8\" class=\"data row6 col8\" >0</td>\n",
       "                        <td id=\"T_3c63c_row6_col9\" class=\"data row6 col9\" >0</td>\n",
       "                        <td id=\"T_3c63c_row6_col10\" class=\"data row6 col10\" >249</td>\n",
       "                        <td id=\"T_3c63c_row6_col11\" class=\"data row6 col11\" >253</td>\n",
       "                        <td id=\"T_3c63c_row6_col12\" class=\"data row6 col12\" >245</td>\n",
       "                        <td id=\"T_3c63c_row6_col13\" class=\"data row6 col13\" >126</td>\n",
       "                        <td id=\"T_3c63c_row6_col14\" class=\"data row6 col14\" >0</td>\n",
       "                        <td id=\"T_3c63c_row6_col15\" class=\"data row6 col15\" >0</td>\n",
       "                        <td id=\"T_3c63c_row6_col16\" class=\"data row6 col16\" >0</td>\n",
       "                        <td id=\"T_3c63c_row6_col17\" class=\"data row6 col17\" >0</td>\n",
       "            </tr>\n",
       "            <tr>\n",
       "                        <th id=\"T_3c63c_level0_row7\" class=\"row_heading level0 row7\" >7</th>\n",
       "                        <td id=\"T_3c63c_row7_col0\" class=\"data row7 col0\" >0</td>\n",
       "                        <td id=\"T_3c63c_row7_col1\" class=\"data row7 col1\" >0</td>\n",
       "                        <td id=\"T_3c63c_row7_col2\" class=\"data row7 col2\" >0</td>\n",
       "                        <td id=\"T_3c63c_row7_col3\" class=\"data row7 col3\" >0</td>\n",
       "                        <td id=\"T_3c63c_row7_col4\" class=\"data row7 col4\" >0</td>\n",
       "                        <td id=\"T_3c63c_row7_col5\" class=\"data row7 col5\" >0</td>\n",
       "                        <td id=\"T_3c63c_row7_col6\" class=\"data row7 col6\" >0</td>\n",
       "                        <td id=\"T_3c63c_row7_col7\" class=\"data row7 col7\" >14</td>\n",
       "                        <td id=\"T_3c63c_row7_col8\" class=\"data row7 col8\" >101</td>\n",
       "                        <td id=\"T_3c63c_row7_col9\" class=\"data row7 col9\" >223</td>\n",
       "                        <td id=\"T_3c63c_row7_col10\" class=\"data row7 col10\" >253</td>\n",
       "                        <td id=\"T_3c63c_row7_col11\" class=\"data row7 col11\" >248</td>\n",
       "                        <td id=\"T_3c63c_row7_col12\" class=\"data row7 col12\" >124</td>\n",
       "                        <td id=\"T_3c63c_row7_col13\" class=\"data row7 col13\" >0</td>\n",
       "                        <td id=\"T_3c63c_row7_col14\" class=\"data row7 col14\" >0</td>\n",
       "                        <td id=\"T_3c63c_row7_col15\" class=\"data row7 col15\" >0</td>\n",
       "                        <td id=\"T_3c63c_row7_col16\" class=\"data row7 col16\" >0</td>\n",
       "                        <td id=\"T_3c63c_row7_col17\" class=\"data row7 col17\" >0</td>\n",
       "            </tr>\n",
       "            <tr>\n",
       "                        <th id=\"T_3c63c_level0_row8\" class=\"row_heading level0 row8\" >8</th>\n",
       "                        <td id=\"T_3c63c_row8_col0\" class=\"data row8 col0\" >0</td>\n",
       "                        <td id=\"T_3c63c_row8_col1\" class=\"data row8 col1\" >0</td>\n",
       "                        <td id=\"T_3c63c_row8_col2\" class=\"data row8 col2\" >0</td>\n",
       "                        <td id=\"T_3c63c_row8_col3\" class=\"data row8 col3\" >0</td>\n",
       "                        <td id=\"T_3c63c_row8_col4\" class=\"data row8 col4\" >0</td>\n",
       "                        <td id=\"T_3c63c_row8_col5\" class=\"data row8 col5\" >11</td>\n",
       "                        <td id=\"T_3c63c_row8_col6\" class=\"data row8 col6\" >166</td>\n",
       "                        <td id=\"T_3c63c_row8_col7\" class=\"data row8 col7\" >239</td>\n",
       "                        <td id=\"T_3c63c_row8_col8\" class=\"data row8 col8\" >253</td>\n",
       "                        <td id=\"T_3c63c_row8_col9\" class=\"data row8 col9\" >253</td>\n",
       "                        <td id=\"T_3c63c_row8_col10\" class=\"data row8 col10\" >253</td>\n",
       "                        <td id=\"T_3c63c_row8_col11\" class=\"data row8 col11\" >187</td>\n",
       "                        <td id=\"T_3c63c_row8_col12\" class=\"data row8 col12\" >30</td>\n",
       "                        <td id=\"T_3c63c_row8_col13\" class=\"data row8 col13\" >0</td>\n",
       "                        <td id=\"T_3c63c_row8_col14\" class=\"data row8 col14\" >0</td>\n",
       "                        <td id=\"T_3c63c_row8_col15\" class=\"data row8 col15\" >0</td>\n",
       "                        <td id=\"T_3c63c_row8_col16\" class=\"data row8 col16\" >0</td>\n",
       "                        <td id=\"T_3c63c_row8_col17\" class=\"data row8 col17\" >0</td>\n",
       "            </tr>\n",
       "            <tr>\n",
       "                        <th id=\"T_3c63c_level0_row9\" class=\"row_heading level0 row9\" >9</th>\n",
       "                        <td id=\"T_3c63c_row9_col0\" class=\"data row9 col0\" >0</td>\n",
       "                        <td id=\"T_3c63c_row9_col1\" class=\"data row9 col1\" >0</td>\n",
       "                        <td id=\"T_3c63c_row9_col2\" class=\"data row9 col2\" >0</td>\n",
       "                        <td id=\"T_3c63c_row9_col3\" class=\"data row9 col3\" >0</td>\n",
       "                        <td id=\"T_3c63c_row9_col4\" class=\"data row9 col4\" >0</td>\n",
       "                        <td id=\"T_3c63c_row9_col5\" class=\"data row9 col5\" >16</td>\n",
       "                        <td id=\"T_3c63c_row9_col6\" class=\"data row9 col6\" >248</td>\n",
       "                        <td id=\"T_3c63c_row9_col7\" class=\"data row9 col7\" >250</td>\n",
       "                        <td id=\"T_3c63c_row9_col8\" class=\"data row9 col8\" >253</td>\n",
       "                        <td id=\"T_3c63c_row9_col9\" class=\"data row9 col9\" >253</td>\n",
       "                        <td id=\"T_3c63c_row9_col10\" class=\"data row9 col10\" >253</td>\n",
       "                        <td id=\"T_3c63c_row9_col11\" class=\"data row9 col11\" >253</td>\n",
       "                        <td id=\"T_3c63c_row9_col12\" class=\"data row9 col12\" >232</td>\n",
       "                        <td id=\"T_3c63c_row9_col13\" class=\"data row9 col13\" >213</td>\n",
       "                        <td id=\"T_3c63c_row9_col14\" class=\"data row9 col14\" >111</td>\n",
       "                        <td id=\"T_3c63c_row9_col15\" class=\"data row9 col15\" >2</td>\n",
       "                        <td id=\"T_3c63c_row9_col16\" class=\"data row9 col16\" >0</td>\n",
       "                        <td id=\"T_3c63c_row9_col17\" class=\"data row9 col17\" >0</td>\n",
       "            </tr>\n",
       "            <tr>\n",
       "                        <th id=\"T_3c63c_level0_row10\" class=\"row_heading level0 row10\" >10</th>\n",
       "                        <td id=\"T_3c63c_row10_col0\" class=\"data row10 col0\" >0</td>\n",
       "                        <td id=\"T_3c63c_row10_col1\" class=\"data row10 col1\" >0</td>\n",
       "                        <td id=\"T_3c63c_row10_col2\" class=\"data row10 col2\" >0</td>\n",
       "                        <td id=\"T_3c63c_row10_col3\" class=\"data row10 col3\" >0</td>\n",
       "                        <td id=\"T_3c63c_row10_col4\" class=\"data row10 col4\" >0</td>\n",
       "                        <td id=\"T_3c63c_row10_col5\" class=\"data row10 col5\" >0</td>\n",
       "                        <td id=\"T_3c63c_row10_col6\" class=\"data row10 col6\" >0</td>\n",
       "                        <td id=\"T_3c63c_row10_col7\" class=\"data row10 col7\" >43</td>\n",
       "                        <td id=\"T_3c63c_row10_col8\" class=\"data row10 col8\" >98</td>\n",
       "                        <td id=\"T_3c63c_row10_col9\" class=\"data row10 col9\" >98</td>\n",
       "                        <td id=\"T_3c63c_row10_col10\" class=\"data row10 col10\" >208</td>\n",
       "                        <td id=\"T_3c63c_row10_col11\" class=\"data row10 col11\" >253</td>\n",
       "                        <td id=\"T_3c63c_row10_col12\" class=\"data row10 col12\" >253</td>\n",
       "                        <td id=\"T_3c63c_row10_col13\" class=\"data row10 col13\" >253</td>\n",
       "                        <td id=\"T_3c63c_row10_col14\" class=\"data row10 col14\" >253</td>\n",
       "                        <td id=\"T_3c63c_row10_col15\" class=\"data row10 col15\" >187</td>\n",
       "                        <td id=\"T_3c63c_row10_col16\" class=\"data row10 col16\" >22</td>\n",
       "                        <td id=\"T_3c63c_row10_col17\" class=\"data row10 col17\" >0</td>\n",
       "            </tr>\n",
       "    </tbody></table>"
      ],
      "text/plain": [
       "<pandas.io.formats.style.Styler at 0x7f8f2f052820>"
      ]
     },
     "execution_count": 101,
     "metadata": {},
     "output_type": "execute_result"
    }
   ],
   "source": [
    "im3_t = tensor(im3)\n",
    "df = pd.DataFrame(im3_t[4:15,4:22])\n",
    "df.style.set_properties(**{'font-size':'6pt'}).background_gradient('OrRd')"
   ]
  },
  {
   "cell_type": "markdown",
   "metadata": {},
   "source": [
    "## Baseline: Pixel similarity"
   ]
  },
  {
   "cell_type": "code",
   "execution_count": 102,
   "metadata": {},
   "outputs": [
    {
     "data": {
      "text/plain": [
       "(6131, 6265)"
      ]
     },
     "execution_count": 102,
     "metadata": {},
     "output_type": "execute_result"
    }
   ],
   "source": [
    "seven_tensors = [tensor(Image.open(o)) for o in sevens]\n",
    "three_tensors = [tensor(Image.open(o)) for o in threes]\n",
    "len(three_tensors),len(seven_tensors)"
   ]
  },
  {
   "cell_type": "markdown",
   "metadata": {},
   "source": [
    "> Note: 'sevens' are still list of paths. 'o' is a path in the list, then with the list comprehension we use the path to read the image, then cast the image into tensor.(Same for threes). 'seven_tensor' is a list of tensors"
   ]
  },
  {
   "cell_type": "code",
   "execution_count": 103,
   "metadata": {},
   "outputs": [
    {
     "data": {
      "image/png": "[encoded data removed]",
      "text/plain": [
       "<Figure size 72x72 with 1 Axes>"
      ]
     },
     "metadata": {
      "needs_background": "light"
     },
     "output_type": "display_data"
    }
   ],
   "source": [
    "show_image(three_tensors[0]);"
   ]
  },
  {
   "cell_type": "markdown",
   "metadata": {},
   "source": [
    "> Tip: Show image shows the first tensor as image"
   ]
  },
  {
   "cell_type": "code",
   "execution_count": 104,
   "metadata": {},
   "outputs": [
    {
     "data": {
      "text/plain": [
       "<AxesSubplot:>"
      ]
     },
     "execution_count": 104,
     "metadata": {},
     "output_type": "execute_result"
    },
    {
     "data": {
      "image/png": "[encoded data removed]",
      "text/plain": [
       "<Figure size 72x72 with 1 Axes>"
      ]
     },
     "metadata": {
      "needs_background": "light"
     },
     "output_type": "display_data"
    }
   ],
   "source": [
    "show_image(tensor(im3))"
   ]
  },
  {
   "cell_type": "markdown",
   "metadata": {},
   "source": [
    "> Note: check this  in more straight way (im3>tensor>image) "
   ]
  },
  {
   "cell_type": "markdown",
   "metadata": {},
   "source": [
    "### Training Set:  Stacking Tensors"
   ]
  },
  {
   "cell_type": "code",
   "execution_count": 105,
   "metadata": {},
   "outputs": [
    {
     "data": {
      "text/plain": [
       "torch.Size([6131, 28, 28])"
      ]
     },
     "execution_count": 105,
     "metadata": {},
     "output_type": "execute_result"
    }
   ],
   "source": [
    "stacked_sevens = torch.stack(seven_tensors).float()/255\n",
    "stacked_threes = torch.stack(three_tensors).float()/255\n",
    "stacked_threes.shape"
   ]
  },
  {
   "cell_type": "code",
   "execution_count": 106,
   "metadata": {},
   "outputs": [
    {
     "data": {
      "text/plain": [
       "torch.Tensor"
      ]
     },
     "execution_count": 106,
     "metadata": {},
     "output_type": "execute_result"
    }
   ],
   "source": [
    "type(stacked_sevens)"
   ]
  },
  {
   "cell_type": "code",
   "execution_count": 107,
   "metadata": {},
   "outputs": [
    {
     "data": {
      "text/plain": [
       "torch.Tensor"
      ]
     },
     "execution_count": 107,
     "metadata": {},
     "output_type": "execute_result"
    }
   ],
   "source": [
    "type(stacked_sevens[0])"
   ]
  },
  {
   "cell_type": "code",
   "execution_count": 108,
   "metadata": {},
   "outputs": [
    {
     "data": {
      "text/plain": [
       "list"
      ]
     },
     "execution_count": 108,
     "metadata": {},
     "output_type": "execute_result"
    }
   ],
   "source": [
    "type(seven_tensors)"
   ]
  },
  {
   "cell_type": "markdown",
   "metadata": {},
   "source": [
    "> Note: now we turn our list into a tensor size of ([6131, 28, 28])"
   ]
  },
  {
   "cell_type": "code",
   "execution_count": 109,
   "metadata": {},
   "outputs": [
    {
     "data": {
      "text/plain": [
       "3"
      ]
     },
     "execution_count": 109,
     "metadata": {},
     "output_type": "execute_result"
    }
   ],
   "source": [
    "len(stacked_threes.shape)"
   ]
  },
  {
   "cell_type": "markdown",
   "metadata": {},
   "source": [
    "> Note: This is rank (lenght of the shape)"
   ]
  },
  {
   "cell_type": "code",
   "execution_count": 110,
   "metadata": {},
   "outputs": [
    {
     "data": {
      "text/plain": [
       "3"
      ]
     },
     "execution_count": 110,
     "metadata": {},
     "output_type": "execute_result"
    }
   ],
   "source": [
    "stacked_threes.ndim"
   ]
  },
  {
   "cell_type": "markdown",
   "metadata": {},
   "source": [
    "> Note: This is more direct way to get it. (ndim)"
   ]
  },
  {
   "cell_type": "markdown",
   "metadata": {},
   "source": [
    "### Mean of threes and sevens our ideal 3 and 7."
   ]
  },
  {
   "cell_type": "code",
   "execution_count": 111,
   "metadata": {
    "scrolled": true
   },
   "outputs": [
    {
     "data": {
      "image/png": "[encoded data removed]",
      "text/plain": [
       "<Figure size 72x72 with 1 Axes>"
      ]
     },
     "metadata": {
      "needs_background": "light"
     },
     "output_type": "display_data"
    }
   ],
   "source": [
    "mean3 = stacked_threes.mean(0)\n",
    "show_image(mean3);"
   ]
  },
  {
   "cell_type": "markdown",
   "metadata": {},
   "source": [
    "> Note: This is the mean of the all tensors through first axis. 'Ideal Three'"
   ]
  },
  {
   "cell_type": "code",
   "execution_count": 112,
   "metadata": {},
   "outputs": [
    {
     "data": {
      "image/png": "[encoded data removed]",
      "text/plain": [
       "<Figure size 72x72 with 1 Axes>"
      ]
     },
     "metadata": {
      "needs_background": "light"
     },
     "output_type": "display_data"
    }
   ],
   "source": [
    "mean7 = stacked_sevens.mean(0)\n",
    "show_image(mean7);"
   ]
  },
  {
   "cell_type": "code",
   "execution_count": 113,
   "metadata": {},
   "outputs": [
    {
     "data": {
      "image/png": "[encoded data removed]",
      "text/plain": [
       "<Figure size 72x72 with 1 Axes>"
      ]
     },
     "metadata": {
      "needs_background": "light"
     },
     "output_type": "display_data"
    }
   ],
   "source": [
    "a_3 = stacked_threes[1]\n",
    "show_image(a_3);"
   ]
  },
  {
   "cell_type": "markdown",
   "metadata": {},
   "source": [
    "### Distance between the ideal three and other threes"
   ]
  },
  {
   "cell_type": "code",
   "execution_count": 114,
   "metadata": {},
   "outputs": [
    {
     "data": {
      "text/plain": [
       "(tensor(0.1114), tensor(0.2021))"
      ]
     },
     "execution_count": 114,
     "metadata": {},
     "output_type": "execute_result"
    }
   ],
   "source": [
    "dist_3_abs = (a_3 - mean3).abs().mean()\n",
    "dist_3_sqr = ((a_3 - mean3)**2).mean().sqrt()\n",
    "dist_3_abs,dist_3_sqr"
   ]
  },
  {
   "cell_type": "code",
   "execution_count": 115,
   "metadata": {},
   "outputs": [
    {
     "data": {
      "text/plain": [
       "(tensor(0.1586), tensor(0.3021))"
      ]
     },
     "execution_count": 115,
     "metadata": {},
     "output_type": "execute_result"
    }
   ],
   "source": [
    "dist_7_abs = (a_3 - mean7).abs().mean()\n",
    "dist_7_sqr = ((a_3 - mean7)**2).mean().sqrt()\n",
    "dist_7_abs,dist_7_sqr"
   ]
  },
  {
   "cell_type": "markdown",
   "metadata": {},
   "source": [
    "> Note: Then we need to calculate the distance between the 'ideal' and ordinary three.Two methods for getting the distance __L1 Norm__ and __MSE__ second one is panelize bigger mistake more havil, L1 is uniform.\n",
    "\n",
    "It is obvious that a_3 is closer to the perfect 3 so our approach worked at this time. (Both in L1 and MSE)"
   ]
  },
  {
   "cell_type": "markdown",
   "metadata": {},
   "source": [
    "### Pytorch L1 and MSE fuctions"
   ]
  },
  {
   "cell_type": "code",
   "execution_count": 116,
   "metadata": {},
   "outputs": [
    {
     "data": {
      "text/plain": [
       "(tensor(0.1586), tensor(0.3021))"
      ]
     },
     "execution_count": 116,
     "metadata": {},
     "output_type": "execute_result"
    }
   ],
   "source": [
    "F.l1_loss(a_3.float(),mean7), F.mse_loss(a_3,mean7).sqrt()"
   ]
  },
  {
   "cell_type": "markdown",
   "metadata": {},
   "source": [
    "> Note: torch.nn.functional as F (for mse, manually take the sqrt)"
   ]
  },
  {
   "cell_type": "markdown",
   "metadata": {},
   "source": [
    "> Important: (from notebook) If you don't know what C is, don't worry as you won't need it at all. In a nutshell, it's a low-level (low-level means more similar to the language that computers use internally) language that is very fast compared to Python. To take advantage of its speed while programming in Python, try to avoid as much as possible writing loops, and replace them by commands that work directly on arrays or tensors."
   ]
  },
  {
   "cell_type": "markdown",
   "metadata": {},
   "source": [
    "### Array and Tensor Examples"
   ]
  },
  {
   "cell_type": "code",
   "execution_count": 117,
   "metadata": {},
   "outputs": [],
   "source": [
    "data = [[1,2,3],[4,5,6]]\n",
    "arr = array (data)\n",
    "tns = tensor(data)"
   ]
  },
  {
   "cell_type": "code",
   "execution_count": 118,
   "metadata": {},
   "outputs": [
    {
     "data": {
      "text/plain": [
       "array([[1, 2, 3],\n",
       "       [4, 5, 6]])"
      ]
     },
     "execution_count": 118,
     "metadata": {},
     "output_type": "execute_result"
    }
   ],
   "source": [
    "arr  # numpy"
   ]
  },
  {
   "cell_type": "code",
   "execution_count": 119,
   "metadata": {},
   "outputs": [
    {
     "data": {
      "text/plain": [
       "tensor([[1, 2, 3],\n",
       "        [4, 5, 6]])"
      ]
     },
     "execution_count": 119,
     "metadata": {},
     "output_type": "execute_result"
    }
   ],
   "source": [
    "tns  # pytorch"
   ]
  },
  {
   "cell_type": "markdown",
   "metadata": {},
   "source": [
    "#### Splitting, adding, multiplying tensors"
   ]
  },
  {
   "cell_type": "code",
   "execution_count": 120,
   "metadata": {},
   "outputs": [
    {
     "data": {
      "text/plain": [
       "tensor([2, 5])"
      ]
     },
     "execution_count": 120,
     "metadata": {},
     "output_type": "execute_result"
    }
   ],
   "source": [
    "tns[:,1]"
   ]
  },
  {
   "cell_type": "code",
   "execution_count": 121,
   "metadata": {},
   "outputs": [
    {
     "data": {
      "text/plain": [
       "tensor([5, 6])"
      ]
     },
     "execution_count": 121,
     "metadata": {},
     "output_type": "execute_result"
    }
   ],
   "source": [
    "tns[1,1:3]"
   ]
  },
  {
   "cell_type": "code",
   "execution_count": 122,
   "metadata": {},
   "outputs": [
    {
     "data": {
      "text/plain": [
       "tensor([[2, 3, 4],\n",
       "        [5, 6, 7]])"
      ]
     },
     "execution_count": 122,
     "metadata": {},
     "output_type": "execute_result"
    }
   ],
   "source": [
    "tns+1"
   ]
  },
  {
   "cell_type": "code",
   "execution_count": 123,
   "metadata": {},
   "outputs": [
    {
     "data": {
      "text/plain": [
       "'torch.LongTensor'"
      ]
     },
     "execution_count": 123,
     "metadata": {},
     "output_type": "execute_result"
    }
   ],
   "source": [
    "tns.type()"
   ]
  },
  {
   "cell_type": "code",
   "execution_count": 124,
   "metadata": {},
   "outputs": [
    {
     "data": {
      "text/plain": [
       "tensor([[1.5000, 3.0000, 4.5000],\n",
       "        [6.0000, 7.5000, 9.0000]])"
      ]
     },
     "execution_count": 124,
     "metadata": {},
     "output_type": "execute_result"
    }
   ],
   "source": [
    "tns*1.5"
   ]
  },
  {
   "cell_type": "markdown",
   "metadata": {},
   "source": [
    "### Validation set :Stacking Tensors"
   ]
  },
  {
   "cell_type": "code",
   "execution_count": 125,
   "metadata": {},
   "outputs": [
    {
     "data": {
      "text/plain": [
       "(torch.Size([1010, 28, 28]), torch.Size([1028, 28, 28]))"
      ]
     },
     "execution_count": 125,
     "metadata": {},
     "output_type": "execute_result"
    }
   ],
   "source": [
    "valid_3_tens = torch.stack([tensor(Image.open(o)) \n",
    "                            for o in (path/'valid'/'3').ls()])\n",
    "valid_3_tens = valid_3_tens.float()/255\n",
    "valid_7_tens = torch.stack([tensor(Image.open(o)) \n",
    "                            for o in (path/'valid'/'7').ls()])\n",
    "valid_7_tens = valid_7_tens.float()/255\n",
    "valid_3_tens.shape,valid_7_tens.shape"
   ]
  },
  {
   "cell_type": "markdown",
   "metadata": {},
   "source": [
    "### Manual L1 distance function"
   ]
  },
  {
   "cell_type": "code",
   "execution_count": 126,
   "metadata": {},
   "outputs": [
    {
     "data": {
      "text/plain": [
       "tensor(0.1114)"
      ]
     },
     "execution_count": 126,
     "metadata": {},
     "output_type": "execute_result"
    }
   ],
   "source": [
    "def mnist_distance(a,b): return (a-b).abs().mean((-1,-2))\n",
    "mnist_distance(a_3, mean3)"
   ]
  },
  {
   "cell_type": "markdown",
   "metadata": {},
   "source": [
    "### This is broadcasting:"
   ]
  },
  {
   "cell_type": "code",
   "execution_count": 127,
   "metadata": {},
   "outputs": [
    {
     "data": {
      "text/plain": [
       "(tensor([0.1270, 0.1254, 0.1114,  ..., 0.1494, 0.1097, 0.1365]),\n",
       " torch.Size([1010]))"
      ]
     },
     "execution_count": 127,
     "metadata": {},
     "output_type": "execute_result"
    }
   ],
   "source": [
    "valid_3_dist = mnist_distance(valid_3_tens, mean3)\n",
    "valid_3_dist, valid_3_dist.shape"
   ]
  },
  {
   "cell_type": "markdown",
   "metadata": {},
   "source": [
    "> Note:I think this an example of not using loops which slows down the process (check above important tag). Although shapes of the tensors don't match, out function still works. Pytorch fills the gaps."
   ]
  },
  {
   "cell_type": "markdown",
   "metadata": {},
   "source": [
    "__here is another example. Shapes don't match.__"
   ]
  },
  {
   "cell_type": "code",
   "execution_count": 128,
   "metadata": {},
   "outputs": [
    {
     "data": {
      "text/plain": [
       "tensor([2, 3, 4])"
      ]
     },
     "execution_count": 128,
     "metadata": {},
     "output_type": "execute_result"
    }
   ],
   "source": [
    "tensor([1,2,3]) + tensor(1)"
   ]
  },
  {
   "cell_type": "code",
   "execution_count": 129,
   "metadata": {},
   "outputs": [
    {
     "data": {
      "text/plain": [
       "torch.Size([1010, 28, 28])"
      ]
     },
     "execution_count": 129,
     "metadata": {},
     "output_type": "execute_result"
    }
   ],
   "source": [
    "(valid_3_tens-mean3).shape"
   ]
  },
  {
   "cell_type": "code",
   "execution_count": 130,
   "metadata": {},
   "outputs": [],
   "source": [
    "def is_3(x): return mnist_distance(x,mean3) < mnist_distance(x,mean7)"
   ]
  },
  {
   "cell_type": "code",
   "execution_count": 131,
   "metadata": {},
   "outputs": [
    {
     "data": {
      "text/plain": [
       "(tensor(True), tensor(1.))"
      ]
     },
     "execution_count": 131,
     "metadata": {},
     "output_type": "execute_result"
    }
   ],
   "source": [
    "is_3(a_3), is_3(a_3).float()"
   ]
  },
  {
   "cell_type": "markdown",
   "metadata": {},
   "source": [
    "#### here is an another broadcasting for all validation set:"
   ]
  },
  {
   "cell_type": "code",
   "execution_count": 132,
   "metadata": {},
   "outputs": [
    {
     "data": {
      "text/plain": [
       "tensor([True, True, True,  ..., True, True, True])"
      ]
     },
     "execution_count": 132,
     "metadata": {},
     "output_type": "execute_result"
    }
   ],
   "source": [
    "is_3(valid_3_tens)"
   ]
  },
  {
   "cell_type": "markdown",
   "metadata": {},
   "source": [
    "### Accuracy of our 'ideal' 3 and 7"
   ]
  },
  {
   "cell_type": "code",
   "execution_count": 133,
   "metadata": {},
   "outputs": [
    {
     "data": {
      "text/plain": [
       "(tensor(0.9168), tensor(0.9854), tensor(0.9511))"
      ]
     },
     "execution_count": 133,
     "metadata": {},
     "output_type": "execute_result"
    }
   ],
   "source": [
    "accuracy_3s =      is_3(valid_3_tens).float() .mean()\n",
    "accuracy_7s = (1 - is_3(valid_7_tens).float()).mean()\n",
    "\n",
    "accuracy_3s,accuracy_7s,(accuracy_3s+accuracy_7s)/2"
   ]
  },
  {
   "cell_type": "markdown",
   "metadata": {},
   "source": [
    "## Stochastic Gradient Descent (SGD)"
   ]
  },
  {
   "cell_type": "markdown",
   "metadata": {},
   "source": [
    "__Arthur Samues Machine Learning process:__"
   ]
  },
  {
   "cell_type": "markdown",
   "metadata": {},
   "source": [
    "- Initialize the weights.\n",
    "- For each image, use these weights to predict whether it appears to be a 3 or a 7.\n",
    "- Based on these predictions, calculate how good the model is (its loss).\n",
    "- Calculate the gradient, which measures for each weight, how changing that weight would change the loss (SGD)\n",
    "- Step (that is, change) all the weights based on that calculation.\n",
    "- Go back to the step 2, and repeat the process.\n",
    "- Iterate until you decide to stop the training process (for instance, because the model is good enough or you don't want to wait any longer).\n"
   ]
  },
  {
   "cell_type": "code",
   "execution_count": 134,
   "metadata": {},
   "outputs": [
    {
     "data": {
      "image/svg+xml": [
       "<?xml version=\"1.0\" encoding=\"UTF-8\" standalone=\"no\"?>\n",
       "<!DOCTYPE svg PUBLIC \"-//W3C//DTD SVG 1.1//EN\"\n",
       " \"http://www.w3.org/Graphics/SVG/1.1/DTD/svg11.dtd\">\n",
       "<!-- Generated by graphviz version 2.38.0 (20140413.2041)\n",
       " -->\n",
       "<!-- Title: G Pages: 1 -->\n",
       "<svg width=\"661pt\" height=\"73pt\"\n",
       " viewBox=\"0.00 0.00 660.87 73.00\" xmlns=\"http://www.w3.org/2000/svg\" xmlns:xlink=\"http://www.w3.org/1999/xlink\">\n",
       "<g id=\"graph0\" class=\"graph\" transform=\"scale(1 1) rotate(0) translate(4 69)\">\n",
       "<title>G</title>\n",
       "<polygon fill=\"white\" stroke=\"none\" points=\"-4,4 -4,-69 656.867,-69 656.867,4 -4,4\"/>\n",
       "<!-- init -->\n",
       "<g id=\"node1\" class=\"node\"><title>init</title>\n",
       "<ellipse fill=\"none\" stroke=\"black\" cx=\"27\" cy=\"-18\" rx=\"27\" ry=\"18\"/>\n",
       "<text text-anchor=\"middle\" x=\"27\" y=\"-14.3\" font-family=\"Times,serif\" font-size=\"14.00\">init</text>\n",
       "</g>\n",
       "<!-- predict -->\n",
       "<g id=\"node2\" class=\"node\"><title>predict</title>\n",
       "<ellipse fill=\"none\" stroke=\"black\" cx=\"135.196\" cy=\"-18\" rx=\"44.393\" ry=\"18\"/>\n",
       "<text text-anchor=\"middle\" x=\"135.196\" y=\"-14.3\" font-family=\"Times,serif\" font-size=\"14.00\">predict</text>\n",
       "</g>\n",
       "<!-- init&#45;&gt;predict -->\n",
       "<g id=\"edge1\" class=\"edge\"><title>init&#45;&gt;predict</title>\n",
       "<path fill=\"none\" stroke=\"black\" d=\"M54.2507,-18C62.3698,-18 71.6255,-18 80.8895,-18\"/>\n",
       "<polygon fill=\"black\" stroke=\"black\" points=\"80.892,-21.5001 90.892,-18 80.892,-14.5001 80.892,-21.5001\"/>\n",
       "</g>\n",
       "<!-- loss -->\n",
       "<g id=\"node3\" class=\"node\"><title>loss</title>\n",
       "<ellipse fill=\"none\" stroke=\"black\" cx=\"244.99\" cy=\"-47\" rx=\"28.6953\" ry=\"18\"/>\n",
       "<text text-anchor=\"middle\" x=\"244.99\" y=\"-43.3\" font-family=\"Times,serif\" font-size=\"14.00\">loss</text>\n",
       "</g>\n",
       "<!-- predict&#45;&gt;loss -->\n",
       "<g id=\"edge2\" class=\"edge\"><title>predict&#45;&gt;loss</title>\n",
       "<path fill=\"none\" stroke=\"black\" d=\"M172.39,-27.7373C184.027,-30.868 196.903,-34.332 208.489,-37.4493\"/>\n",
       "<polygon fill=\"black\" stroke=\"black\" points=\"207.71,-40.8641 218.276,-40.0823 209.529,-34.1044 207.71,-40.8641\"/>\n",
       "</g>\n",
       "<!-- gradient -->\n",
       "<g id=\"node4\" class=\"node\"><title>gradient</title>\n",
       "<ellipse fill=\"none\" stroke=\"black\" cx=\"406.633\" cy=\"-47\" rx=\"50.0912\" ry=\"18\"/>\n",
       "<text text-anchor=\"middle\" x=\"406.633\" y=\"-43.3\" font-family=\"Times,serif\" font-size=\"14.00\">gradient</text>\n",
       "</g>\n",
       "<!-- loss&#45;&gt;gradient -->\n",
       "<g id=\"edge3\" class=\"edge\"><title>loss&#45;&gt;gradient</title>\n",
       "<path fill=\"none\" stroke=\"black\" d=\"M273.797,-47C293.819,-47 321.573,-47 346.455,-47\"/>\n",
       "<polygon fill=\"black\" stroke=\"black\" points=\"346.548,-50.5001 356.548,-47 346.547,-43.5001 346.548,-50.5001\"/>\n",
       "</g>\n",
       "<!-- step -->\n",
       "<g id=\"node5\" class=\"node\"><title>step</title>\n",
       "<ellipse fill=\"none\" stroke=\"black\" cx=\"524.225\" cy=\"-18\" rx=\"30.5947\" ry=\"18\"/>\n",
       "<text text-anchor=\"middle\" x=\"524.225\" y=\"-14.3\" font-family=\"Times,serif\" font-size=\"14.00\">step</text>\n",
       "</g>\n",
       "<!-- gradient&#45;&gt;step -->\n",
       "<g id=\"edge4\" class=\"edge\"><title>gradient&#45;&gt;step</title>\n",
       "<path fill=\"none\" stroke=\"black\" d=\"M448.061,-36.8572C460.37,-33.7692 473.838,-30.3904 485.93,-27.3568\"/>\n",
       "<polygon fill=\"black\" stroke=\"black\" points=\"486.86,-30.7319 495.708,-24.9036 485.157,-23.9423 486.86,-30.7319\"/>\n",
       "</g>\n",
       "<!-- step&#45;&gt;predict -->\n",
       "<g id=\"edge6\" class=\"edge\"><title>step&#45;&gt;predict</title>\n",
       "<path fill=\"none\" stroke=\"black\" d=\"M493.675,-18C428.652,-18 272.394,-18 189.665,-18\"/>\n",
       "<polygon fill=\"black\" stroke=\"black\" points=\"189.467,-14.5001 179.467,-18 189.467,-21.5001 189.467,-14.5001\"/>\n",
       "<text text-anchor=\"middle\" x=\"315.087\" y=\"-21.8\" font-family=\"Times,serif\" font-size=\"14.00\">repeat</text>\n",
       "</g>\n",
       "<!-- stop -->\n",
       "<g id=\"node6\" class=\"node\"><title>stop</title>\n",
       "<ellipse fill=\"none\" stroke=\"black\" cx=\"622.32\" cy=\"-18\" rx=\"30.5947\" ry=\"18\"/>\n",
       "<text text-anchor=\"middle\" x=\"622.32\" y=\"-14.3\" font-family=\"Times,serif\" font-size=\"14.00\">stop</text>\n",
       "</g>\n",
       "<!-- step&#45;&gt;stop -->\n",
       "<g id=\"edge5\" class=\"edge\"><title>step&#45;&gt;stop</title>\n",
       "<path fill=\"none\" stroke=\"black\" d=\"M554.841,-18C563.244,-18 572.533,-18 581.437,-18\"/>\n",
       "<polygon fill=\"black\" stroke=\"black\" points=\"581.637,-21.5001 591.637,-18 581.637,-14.5001 581.637,-21.5001\"/>\n",
       "</g>\n",
       "</g>\n",
       "</svg>\n"
      ],
      "text/plain": [
       "<graphviz.files.Source at 0x7f8f2ef6b370>"
      ]
     },
     "execution_count": 134,
     "metadata": {},
     "output_type": "execute_result"
    }
   ],
   "source": [
    "#id gradient_descent\n",
    "#caption The gradient descent process\n",
    "#alt Graph showing the steps for Gradient Descent\n",
    "gv('''\n",
    "init->predict->loss->gradient->step->stop\n",
    "step->predict[label=repeat]\n",
    "''')"
   ]
  },
  {
   "cell_type": "markdown",
   "metadata": {},
   "source": [
    "### GD example"
   ]
  },
  {
   "cell_type": "code",
   "execution_count": 135,
   "metadata": {},
   "outputs": [],
   "source": [
    "def f(x): return x**2"
   ]
  },
  {
   "cell_type": "code",
   "execution_count": 136,
   "metadata": {},
   "outputs": [
    {
     "data": {
      "image/png": "[encoded data removed]",
      "text/plain": [
       "<Figure size 432x288 with 1 Axes>"
      ]
     },
     "metadata": {
      "needs_background": "light"
     },
     "output_type": "display_data"
    }
   ],
   "source": [
    "plot_function(f, 'x', 'x**2')\n",
    "plt.scatter(-1.5, f(-1.5), color='red');"
   ]
  },
  {
   "cell_type": "markdown",
   "metadata": {},
   "source": [
    "We need to decrease the loss"
   ]
  },
  {
   "cell_type": "markdown",
   "metadata": {},
   "source": [
    "<img alt=\"A graph showing the squared function with the slope at one point\" width=\"400\" src=\"images/grad_illustration.svg\"/>"
   ]
  },
  {
   "cell_type": "markdown",
   "metadata": {},
   "source": [
    "### How to calculate gradient:"
   ]
  },
  {
   "cell_type": "markdown",
   "metadata": {},
   "source": [
    "__Now our tensor xt is under investigation. Pytorch will keeps its eye on it.__"
   ]
  },
  {
   "cell_type": "code",
   "execution_count": 137,
   "metadata": {},
   "outputs": [],
   "source": [
    "xt = tensor(3.).requires_grad_()"
   ]
  },
  {
   "cell_type": "code",
   "execution_count": 138,
   "metadata": {},
   "outputs": [
    {
     "data": {
      "text/plain": [
       "tensor(9., grad_fn=<PowBackward0>)"
      ]
     },
     "execution_count": 138,
     "metadata": {},
     "output_type": "execute_result"
    }
   ],
   "source": [
    "yt = f(xt)\n",
    "yt"
   ]
  },
  {
   "cell_type": "markdown",
   "metadata": {},
   "source": [
    "__Result is 9 but there is a grad function in the result.__\n",
    "***"
   ]
  },
  {
   "cell_type": "code",
   "execution_count": 139,
   "metadata": {},
   "outputs": [],
   "source": [
    "yt.backward()"
   ]
  },
  {
   "cell_type": "markdown",
   "metadata": {},
   "source": [
    "__backward calculates the derivative.__"
   ]
  },
  {
   "cell_type": "code",
   "execution_count": 140,
   "metadata": {},
   "outputs": [
    {
     "data": {
      "text/plain": [
       "tensor(6.)"
      ]
     },
     "execution_count": 140,
     "metadata": {},
     "output_type": "execute_result"
    }
   ],
   "source": [
    "xt.grad"
   ]
  },
  {
   "cell_type": "markdown",
   "metadata": {},
   "source": [
    "__result is 6.__\n",
    "***"
   ]
  },
  {
   "cell_type": "markdown",
   "metadata": {},
   "source": [
    "__now with a bigger tensor__"
   ]
  },
  {
   "cell_type": "code",
   "execution_count": 141,
   "metadata": {},
   "outputs": [
    {
     "data": {
      "text/plain": [
       "tensor([ 3.,  4., 10.], requires_grad=True)"
      ]
     },
     "execution_count": 141,
     "metadata": {},
     "output_type": "execute_result"
    }
   ],
   "source": [
    "xt = tensor([3.,4.,10.]).requires_grad_()\n",
    "xt"
   ]
  },
  {
   "cell_type": "code",
   "execution_count": 142,
   "metadata": {},
   "outputs": [],
   "source": [
    "def f(x): return (x**2).sum()"
   ]
  },
  {
   "cell_type": "code",
   "execution_count": 143,
   "metadata": {},
   "outputs": [
    {
     "data": {
      "text/plain": [
       "tensor(125., grad_fn=<SumBackward0>)"
      ]
     },
     "execution_count": 143,
     "metadata": {},
     "output_type": "execute_result"
    }
   ],
   "source": [
    "yt = f(xt)\n",
    "yt"
   ]
  },
  {
   "cell_type": "markdown",
   "metadata": {},
   "source": [
    "__again we expect 2*xt:__"
   ]
  },
  {
   "cell_type": "code",
   "execution_count": 144,
   "metadata": {},
   "outputs": [],
   "source": [
    "yt.backward()\n"
   ]
  },
  {
   "cell_type": "code",
   "execution_count": 145,
   "metadata": {},
   "outputs": [
    {
     "data": {
      "text/plain": [
       "tensor([ 6.,  8., 20.])"
      ]
     },
     "execution_count": 145,
     "metadata": {},
     "output_type": "execute_result"
    }
   ],
   "source": [
    "xt.grad"
   ]
  },
  {
   "cell_type": "markdown",
   "metadata": {},
   "source": [
    "### End to end SGD example"
   ]
  },
  {
   "cell_type": "code",
   "execution_count": 146,
   "metadata": {},
   "outputs": [
    {
     "data": {
      "text/plain": [
       "tensor([ 0.,  1.,  2.,  3.,  4.,  5.,  6.,  7.,  8.,  9., 10., 11., 12., 13., 14., 15., 16., 17., 18., 19.])"
      ]
     },
     "execution_count": 146,
     "metadata": {},
     "output_type": "execute_result"
    }
   ],
   "source": [
    "time = torch.arange(0,20).float()\n",
    "time"
   ]
  },
  {
   "cell_type": "code",
   "execution_count": 147,
   "metadata": {},
   "outputs": [
    {
     "data": {
      "text/plain": [
       "<matplotlib.collections.PathCollection at 0x7f8f2f35c730>"
      ]
     },
     "execution_count": 147,
     "metadata": {},
     "output_type": "execute_result"
    },
    {
     "data": {
      "image/png": "[encoded data removed]",
      "text/plain": [
       "<Figure size 432x288 with 1 Axes>"
      ]
     },
     "metadata": {
      "needs_background": "light"
     },
     "output_type": "display_data"
    }
   ],
   "source": [
    "speed = torch.randn(20)*3 + 0.75*(time-9.5)**2 + 1\n",
    "plt.scatter(time,speed)"
   ]
  },
  {
   "cell_type": "markdown",
   "metadata": {},
   "source": [
    "__Now we are trying to come up with some parameters for our quadratic fuction that predicts speed any given time. Our choice is quadratic but that could be something else too. with a quadratic function our problem would be much easier.__ "
   ]
  },
  {
   "cell_type": "markdown",
   "metadata": {},
   "source": [
    "__here is the function gets time and parameter as inputs and predicts a result:__"
   ]
  },
  {
   "cell_type": "code",
   "execution_count": 148,
   "metadata": {},
   "outputs": [],
   "source": [
    "def f(t, params):\n",
    "    a,b,c = params\n",
    "    return a*(t**2) + (b*t) + c"
   ]
  },
  {
   "cell_type": "markdown",
   "metadata": {},
   "source": [
    "__this our loss function that calculate distance between prediction and target( actual mesurements)__"
   ]
  },
  {
   "cell_type": "code",
   "execution_count": 149,
   "metadata": {},
   "outputs": [],
   "source": [
    "def mse(preds, targets): return ((preds-targets)**2).mean().sqrt()"
   ]
  },
  {
   "cell_type": "markdown",
   "metadata": {},
   "source": [
    "#### Step 1: here are initial random parameters:"
   ]
  },
  {
   "cell_type": "code",
   "execution_count": 150,
   "metadata": {},
   "outputs": [
    {
     "data": {
      "text/plain": [
       "tensor([ 0.2303, -0.3278,  0.7950], requires_grad=True)"
      ]
     },
     "execution_count": 150,
     "metadata": {},
     "output_type": "execute_result"
    }
   ],
   "source": [
    "params = torch.randn(3).requires_grad_()\n",
    "params"
   ]
  },
  {
   "cell_type": "code",
   "execution_count": 151,
   "metadata": {},
   "outputs": [],
   "source": [
    "#hide\n",
    "orig_params = params.clone()"
   ]
  },
  {
   "cell_type": "markdown",
   "metadata": {},
   "source": [
    "#### Step 2: calculate predictions:"
   ]
  },
  {
   "cell_type": "code",
   "execution_count": 152,
   "metadata": {},
   "outputs": [],
   "source": [
    "preds = f(time,params)"
   ]
  },
  {
   "cell_type": "code",
   "execution_count": 153,
   "metadata": {},
   "outputs": [],
   "source": [
    "def show_preds(preds, ax=None):\n",
    "    if ax is None: ax=plt.subplots()[1]\n",
    "    ax.scatter(time, speed)\n",
    "    ax.scatter(time, to_np(preds), color='red')\n",
    "    ax.set_ylim(-300,100)"
   ]
  },
  {
   "cell_type": "code",
   "execution_count": 72,
   "metadata": {},
   "outputs": [
    {
     "data": {
      "image/png": "[encoded data removed]",
      "text/plain": [
       "<Figure size 432x288 with 1 Axes>"
      ]
     },
     "metadata": {
      "needs_background": "light"
     },
     "output_type": "display_data"
    }
   ],
   "source": [
    "show_preds(preds)"
   ]
  },
  {
   "cell_type": "markdown",
   "metadata": {},
   "source": [
    "#### Step 3: Calculate the loss"
   ]
  },
  {
   "cell_type": "code",
   "execution_count": 154,
   "metadata": {},
   "outputs": [
    {
     "data": {
      "text/plain": [
       "tensor(28.5905, grad_fn=<SqrtBackward>)"
      ]
     },
     "execution_count": 154,
     "metadata": {},
     "output_type": "execute_result"
    }
   ],
   "source": [
    "loss = mse(preds,speed)\n",
    "loss"
   ]
  },
  {
   "cell_type": "markdown",
   "metadata": {},
   "source": [
    "***\n",
    "__The Question is how to improve these results:__"
   ]
  },
  {
   "cell_type": "markdown",
   "metadata": {},
   "source": [
    "#### Step 4: first we calculate the gradient:"
   ]
  },
  {
   "cell_type": "markdown",
   "metadata": {},
   "source": [
    "__Pytorch makes it easier we just call the backward() on the loss but it calculates gradient for the params 'a' 'b' and 'c'.___"
   ]
  },
  {
   "cell_type": "code",
   "execution_count": 155,
   "metadata": {},
   "outputs": [
    {
     "data": {
      "text/plain": [
       "tensor([7.8994e+01, 5.1663e+00, 4.5350e-02])"
      ]
     },
     "execution_count": 155,
     "metadata": {},
     "output_type": "execute_result"
    }
   ],
   "source": [
    "loss.backward()\n",
    "params.grad # this is the derivative of the initial values in other word our slope."
   ]
  },
  {
   "cell_type": "code",
   "execution_count": 156,
   "metadata": {},
   "outputs": [
    {
     "data": {
      "text/plain": [
       "tensor([7.8994e-04, 5.1663e-05, 4.5350e-07])"
      ]
     },
     "execution_count": 156,
     "metadata": {},
     "output_type": "execute_result"
    }
   ],
   "source": [
    "params.grad * 1e-5 # scaler at the end is learning rate."
   ]
  },
  {
   "cell_type": "code",
   "execution_count": 157,
   "metadata": {},
   "outputs": [
    {
     "data": {
      "text/plain": [
       "tensor([ 0.2303, -0.3278,  0.7950], requires_grad=True)"
      ]
     },
     "execution_count": 157,
     "metadata": {},
     "output_type": "execute_result"
    }
   ],
   "source": [
    "params # they are still same."
   ]
  },
  {
   "cell_type": "markdown",
   "metadata": {},
   "source": [
    "***\n",
    "#### Step 5: Step the weight.__"
   ]
  },
  {
   "cell_type": "markdown",
   "metadata": {},
   "source": [
    "we picked the learning rate 1e-5 very small step to avoid missing the lowest possible loss."
   ]
  },
  {
   "cell_type": "code",
   "execution_count": 158,
   "metadata": {},
   "outputs": [],
   "source": [
    "lr = 1e-5\n",
    "params.data -= lr * params.grad.data\n",
    "params.grad = None"
   ]
  },
  {
   "cell_type": "code",
   "execution_count": 159,
   "metadata": {},
   "outputs": [
    {
     "data": {
      "text/plain": [
       "tensor(28.5281, grad_fn=<SqrtBackward>)"
      ]
     },
     "execution_count": 159,
     "metadata": {},
     "output_type": "execute_result"
    }
   ],
   "source": [
    "preds = f(time,params)\n",
    "mse(preds, speed)"
   ]
  },
  {
   "cell_type": "markdown",
   "metadata": {},
   "source": [
    "lets create a function for all these steps"
   ]
  },
  {
   "cell_type": "code",
   "execution_count": 160,
   "metadata": {},
   "outputs": [],
   "source": [
    "def apply_step(params, prn=True):\n",
    "    preds = f(time, params)\n",
    "    loss = mse(preds, speed)\n",
    "    loss.backward()\n",
    "    params.data -= lr * params.grad.data\n",
    "    params.grad = None\n",
    "    if prn: print(loss.item())\n",
    "    return preds"
   ]
  },
  {
   "cell_type": "markdown",
   "metadata": {},
   "source": [
    "#### Step 6: repeat the step:"
   ]
  },
  {
   "cell_type": "code",
   "execution_count": 161,
   "metadata": {},
   "outputs": [
    {
     "name": "stdout",
     "output_type": "stream",
     "text": [
      "28.5280818939209\n",
      "28.466617584228516\n",
      "28.40610694885254\n",
      "28.346538543701172\n",
      "28.287904739379883\n",
      "28.23019790649414\n",
      "28.173402786254883\n",
      "28.11751937866211\n",
      "28.062532424926758\n",
      "28.00843620300293\n"
     ]
    }
   ],
   "source": [
    "for i in range(10): apply_step(params)"
   ]
  },
  {
   "cell_type": "code",
   "execution_count": 162,
   "metadata": {},
   "outputs": [],
   "source": [
    "#hide\n",
    "params = orig_params.detach().requires_grad_()"
   ]
  },
  {
   "cell_type": "code",
   "execution_count": 163,
   "metadata": {},
   "outputs": [
    {
     "data": {
      "image/png": "[encoded data removed]",
      "text/plain": [
       "<Figure size 864x216 with 4 Axes>"
      ]
     },
     "metadata": {
      "needs_background": "light"
     },
     "output_type": "display_data"
    }
   ],
   "source": [
    "_,axs = plt.subplots(1,4,figsize=(12,3))\n",
    "for ax in axs: show_preds(apply_step(params, False), ax)\n",
    "plt.tight_layout()"
   ]
  },
  {
   "cell_type": "markdown",
   "metadata": {},
   "source": [
    "***\n",
    "## MNIST"
   ]
  },
  {
   "cell_type": "markdown",
   "metadata": {},
   "source": [
    "### Loss Function our 3 and 7 recognizer. Currently we use metric not loss"
   ]
  },
  {
   "cell_type": "code",
   "execution_count": 164,
   "metadata": {},
   "outputs": [],
   "source": [
    "train_x = torch.cat([stacked_threes, stacked_sevens]).view(-1, 28*28)"
   ]
  },
  {
   "cell_type": "code",
   "execution_count": 165,
   "metadata": {},
   "outputs": [
    {
     "data": {
      "text/plain": [
       "torch.Size([12396, 784])"
      ]
     },
     "execution_count": 165,
     "metadata": {},
     "output_type": "execute_result"
    }
   ],
   "source": [
    "train_x.size()"
   ]
  },
  {
   "cell_type": "code",
   "execution_count": 166,
   "metadata": {},
   "outputs": [
    {
     "data": {
      "text/plain": [
       "(torch.Size([12396, 784]), torch.Size([12396, 1]))"
      ]
     },
     "execution_count": 166,
     "metadata": {},
     "output_type": "execute_result"
    }
   ],
   "source": [
    "train_y = tensor([1]*len(threes) + [0]*len(sevens)).unsqueeze(1)\n",
    "train_x.shape,train_y.shape"
   ]
  },
  {
   "cell_type": "markdown",
   "metadata": {},
   "source": [
    "### How tensor manipulated "
   ]
  },
  {
   "cell_type": "code",
   "execution_count": 167,
   "metadata": {},
   "outputs": [],
   "source": [
    "temp_tensor = tensor (1)"
   ]
  },
  {
   "cell_type": "code",
   "execution_count": 168,
   "metadata": {},
   "outputs": [
    {
     "data": {
      "text/plain": [
       "tensor(1)"
      ]
     },
     "execution_count": 168,
     "metadata": {},
     "output_type": "execute_result"
    }
   ],
   "source": [
    "temp_tensor"
   ]
  },
  {
   "cell_type": "code",
   "execution_count": 169,
   "metadata": {},
   "outputs": [
    {
     "data": {
      "text/plain": [
       "torch.Tensor"
      ]
     },
     "execution_count": 169,
     "metadata": {},
     "output_type": "execute_result"
    }
   ],
   "source": [
    "type(temp_tensor)"
   ]
  },
  {
   "cell_type": "markdown",
   "metadata": {},
   "source": [
    "__is above tensor is wrong what's the difference?__\n",
    "***"
   ]
  },
  {
   "cell_type": "markdown",
   "metadata": {},
   "source": [
    "__we have a tensor__"
   ]
  },
  {
   "cell_type": "code",
   "execution_count": 170,
   "metadata": {},
   "outputs": [],
   "source": [
    "temp_tensor = tensor([1])"
   ]
  },
  {
   "cell_type": "markdown",
   "metadata": {},
   "source": [
    "__then we multiuplied the inside of__"
   ]
  },
  {
   "cell_type": "code",
   "execution_count": 171,
   "metadata": {},
   "outputs": [],
   "source": [
    "temp_tensor =tensor([1]*4)"
   ]
  },
  {
   "cell_type": "code",
   "execution_count": 172,
   "metadata": {},
   "outputs": [
    {
     "data": {
      "text/plain": [
       "tensor([1, 1, 1, 1])"
      ]
     },
     "execution_count": 172,
     "metadata": {},
     "output_type": "execute_result"
    }
   ],
   "source": [
    "temp_tensor"
   ]
  },
  {
   "cell_type": "code",
   "execution_count": 173,
   "metadata": {},
   "outputs": [
    {
     "data": {
      "text/plain": [
       "torch.Size([4])"
      ]
     },
     "execution_count": 173,
     "metadata": {},
     "output_type": "execute_result"
    }
   ],
   "source": [
    "temp_tensor.shape"
   ]
  },
  {
   "cell_type": "code",
   "execution_count": 174,
   "metadata": {},
   "outputs": [
    {
     "data": {
      "text/plain": [
       "1"
      ]
     },
     "execution_count": 174,
     "metadata": {},
     "output_type": "execute_result"
    }
   ],
   "source": [
    "temp_tensor.ndim"
   ]
  },
  {
   "cell_type": "code",
   "execution_count": 175,
   "metadata": {},
   "outputs": [
    {
     "data": {
      "text/plain": [
       "torch.Size([4])"
      ]
     },
     "execution_count": 175,
     "metadata": {},
     "output_type": "execute_result"
    }
   ],
   "source": [
    "temp_tensor.size()"
   ]
  },
  {
   "cell_type": "code",
   "execution_count": 176,
   "metadata": {},
   "outputs": [
    {
     "data": {
      "text/plain": [
       "tensor([[1],\n",
       "        [1],\n",
       "        [1],\n",
       "        [1]])"
      ]
     },
     "execution_count": 176,
     "metadata": {},
     "output_type": "execute_result"
    }
   ],
   "source": [
    "(temp_tensor).unsqueeze(1)"
   ]
  },
  {
   "cell_type": "markdown",
   "metadata": {},
   "source": [
    "> Warning: __looked changed but why size is still unchanged why not [4,1]__"
   ]
  },
  {
   "cell_type": "code",
   "execution_count": 177,
   "metadata": {},
   "outputs": [
    {
     "data": {
      "text/plain": [
       "torch.Size([4])"
      ]
     },
     "execution_count": 177,
     "metadata": {},
     "output_type": "execute_result"
    }
   ],
   "source": [
    "temp_tensor.shape"
   ]
  },
  {
   "cell_type": "code",
   "execution_count": 178,
   "metadata": {},
   "outputs": [
    {
     "data": {
      "text/plain": [
       "torch.Size([4])"
      ]
     },
     "execution_count": 178,
     "metadata": {},
     "output_type": "execute_result"
    }
   ],
   "source": [
    "temp_tensor.size()"
   ]
  },
  {
   "cell_type": "markdown",
   "metadata": {},
   "source": [
    "### How unsqueeze works?"
   ]
  },
  {
   "cell_type": "markdown",
   "metadata": {},
   "source": [
    "> Warning: Whaaaaaaaaaaaaat?"
   ]
  },
  {
   "cell_type": "markdown",
   "metadata": {},
   "source": [
    "(temp_tensor).unsqueeze(1) doesn't work but (temp_tensor*1).unsqueeze(1) you need to unsqueeze it when creating otherwise it doesnt work. I do not believe it."
   ]
  },
  {
   "cell_type": "code",
   "execution_count": 179,
   "metadata": {},
   "outputs": [],
   "source": [
    "temp_tensor = tensor([1]).unsqueeze(1)"
   ]
  },
  {
   "cell_type": "code",
   "execution_count": 180,
   "metadata": {},
   "outputs": [
    {
     "data": {
      "text/plain": [
       "torch.Size([1, 1])"
      ]
     },
     "execution_count": 180,
     "metadata": {},
     "output_type": "execute_result"
    }
   ],
   "source": [
    "temp_tensor.shape"
   ]
  },
  {
   "cell_type": "code",
   "execution_count": 181,
   "metadata": {},
   "outputs": [],
   "source": [
    "temp_tensor =tensor([1]*1).unsqueeze(1)"
   ]
  },
  {
   "cell_type": "markdown",
   "metadata": {},
   "source": [
    "### Dataset"
   ]
  },
  {
   "cell_type": "code",
   "execution_count": 182,
   "metadata": {},
   "outputs": [
    {
     "data": {
      "text/plain": [
       "(torch.Size([784]), 1, tensor([1]))"
      ]
     },
     "execution_count": 182,
     "metadata": {},
     "output_type": "execute_result"
    }
   ],
   "source": [
    "dset = list(zip(train_x,train_y))\n",
    "x,y = dset[0]\n",
    "x.shape,x.ndim,y"
   ]
  },
  {
   "cell_type": "markdown",
   "metadata": {},
   "source": [
    "__we create list of tuples, each tuple contains a image and a target__"
   ]
  },
  {
   "cell_type": "code",
   "execution_count": 183,
   "metadata": {},
   "outputs": [],
   "source": [
    "valid_x = torch.cat([valid_3_tens, valid_7_tens]).view(-1, 28*28)\n",
    "valid_y = tensor([1]*len(valid_3_tens) + [0]*len(valid_7_tens)).unsqueeze(1)\n",
    "valid_dset = list(zip(valid_x,valid_y))"
   ]
  },
  {
   "cell_type": "markdown",
   "metadata": {},
   "source": [
    "__same for validation__\n",
    "***"
   ]
  },
  {
   "cell_type": "markdown",
   "metadata": {},
   "source": [
    "### Weights"
   ]
  },
  {
   "cell_type": "markdown",
   "metadata": {},
   "source": [
    "__this is not clear on the videos but consider a layer NN of 728 inputs and 1 output.__"
   ]
  },
  {
   "cell_type": "code",
   "execution_count": 184,
   "metadata": {},
   "outputs": [],
   "source": [
    "def init_params(size, std=1.0): return (torch.randn(size)*std).requires_grad_()"
   ]
  },
  {
   "cell_type": "code",
   "execution_count": 185,
   "metadata": {},
   "outputs": [],
   "source": [
    "weights = init_params((28*28,1))"
   ]
  },
  {
   "cell_type": "code",
   "execution_count": 186,
   "metadata": {},
   "outputs": [
    {
     "data": {
      "text/plain": [
       "torch.Size([784, 1])"
      ]
     },
     "execution_count": 186,
     "metadata": {},
     "output_type": "execute_result"
    }
   ],
   "source": [
    "weights.shape"
   ]
  },
  {
   "cell_type": "code",
   "execution_count": 187,
   "metadata": {},
   "outputs": [],
   "source": [
    "bias = init_params(1)"
   ]
  },
  {
   "cell_type": "markdown",
   "metadata": {},
   "source": [
    "> Note: The function `weights*pixels` won't be flexible enough—it is always equal to 0 when the pixels are equal to 0 (i.e., its *intercept* is 0). You might remember from high school math that the formula for a line is `y=w*x+b`; we still need the `b`. We'll initialize it to a random number too:"
   ]
  },
  {
   "cell_type": "code",
   "execution_count": 188,
   "metadata": {},
   "outputs": [
    {
     "data": {
      "text/plain": [
       "tensor([-0.4708], requires_grad=True)"
      ]
     },
     "execution_count": 188,
     "metadata": {},
     "output_type": "execute_result"
    }
   ],
   "source": [
    "bias"
   ]
  },
  {
   "cell_type": "markdown",
   "metadata": {},
   "source": [
    "__Again transposing the weight matrix is not clear but Tariq Rashed's book would be very beneficial at this point__"
   ]
  },
  {
   "cell_type": "code",
   "execution_count": 189,
   "metadata": {},
   "outputs": [
    {
     "data": {
      "text/plain": [
       "tensor([8.4957], grad_fn=<AddBackward0>)"
      ]
     },
     "execution_count": 189,
     "metadata": {},
     "output_type": "execute_result"
    }
   ],
   "source": [
    "(train_x[0]*weights.T).sum() + bias"
   ]
  },
  {
   "cell_type": "markdown",
   "metadata": {},
   "source": [
    "__for all dataset put this multiplication in a function__"
   ]
  },
  {
   "cell_type": "code",
   "execution_count": 207,
   "metadata": {},
   "outputs": [
    {
     "data": {
      "text/plain": [
       "tensor([[ -6.6780],\n",
       "        [ -8.7128],\n",
       "        [ -7.3242],\n",
       "        ...,\n",
       "        [ 12.8726],\n",
       "        [-10.3312],\n",
       "        [ 17.9571]], grad_fn=<AddBackward0>)"
      ]
     },
     "execution_count": 207,
     "metadata": {},
     "output_type": "execute_result"
    }
   ],
   "source": [
    "def linear1(xb): return xb@weights + bias\n",
    "preds = linear1(train_x)\n",
    "preds"
   ]
  },
  {
   "cell_type": "markdown",
   "metadata": {},
   "source": [
    "__Create a tensor with results based on their value (above 0.5 is 7 and below it is 3)__"
   ]
  },
  {
   "cell_type": "code",
   "execution_count": 208,
   "metadata": {},
   "outputs": [
    {
     "data": {
      "text/plain": [
       "tensor([[False],\n",
       "        [False],\n",
       "        [False],\n",
       "        ...,\n",
       "        [False],\n",
       "        [ True],\n",
       "        [False]])"
      ]
     },
     "execution_count": 208,
     "metadata": {},
     "output_type": "execute_result"
    }
   ],
   "source": [
    "corrects = (preds>0.5).float() == train_y\n",
    "corrects"
   ]
  },
  {
   "cell_type": "markdown",
   "metadata": {},
   "source": [
    "***\n",
    "__check it__"
   ]
  },
  {
   "cell_type": "code",
   "execution_count": 209,
   "metadata": {},
   "outputs": [
    {
     "data": {
      "text/plain": [
       "0.3622942864894867"
      ]
     },
     "execution_count": 209,
     "metadata": {},
     "output_type": "execute_result"
    }
   ],
   "source": [
    "corrects.float().mean().item()"
   ]
  },
  {
   "cell_type": "markdown",
   "metadata": {},
   "source": [
    "__almost half of them is 3 and the other half is 7 (since weighs are totally random)__ \n",
    "***"
   ]
  },
  {
   "cell_type": "markdown",
   "metadata": {},
   "source": [
    "### Why we need a loss Function"
   ]
  },
  {
   "cell_type": "markdown",
   "metadata": {},
   "source": [
    "__Basically we need to have gradients for correcting our weighs, we need to know which direction we need to go__ \n",
    "\n",
    "\n",
    "If you dont understand all of these, ckeck khan academy for gradient."
   ]
  },
  {
   "cell_type": "code",
   "execution_count": 210,
   "metadata": {},
   "outputs": [],
   "source": [
    "trgts  = tensor([1,0,1])\n",
    "prds   = tensor([0.9, 0.4, 0.2])"
   ]
  },
  {
   "cell_type": "code",
   "execution_count": 211,
   "metadata": {},
   "outputs": [],
   "source": [
    "def mnist_loss(predictions, targets):\n",
    "    return torch.where(targets==1, 1-predictions, predictions).mean()"
   ]
  },
  {
   "cell_type": "code",
   "execution_count": 212,
   "metadata": {},
   "outputs": [
    {
     "data": {
      "text/plain": [
       "tensor([0.1000, 0.4000, 0.8000])"
      ]
     },
     "execution_count": 212,
     "metadata": {},
     "output_type": "execute_result"
    }
   ],
   "source": [
    "torch.where(trgts==1, 1-prds, prds)"
   ]
  },
  {
   "cell_type": "code",
   "execution_count": 213,
   "metadata": {},
   "outputs": [
    {
     "data": {
      "text/plain": [
       "tensor(0.4333)"
      ]
     },
     "execution_count": 213,
     "metadata": {},
     "output_type": "execute_result"
    }
   ],
   "source": [
    "mnist_loss(prds,trgts)"
   ]
  },
  {
   "cell_type": "markdown",
   "metadata": {},
   "source": [
    "### Sigmoid"
   ]
  },
  {
   "cell_type": "markdown",
   "metadata": {},
   "source": [
    "__We need this for squishing predictions between 0-1__"
   ]
  },
  {
   "cell_type": "code",
   "execution_count": 214,
   "metadata": {},
   "outputs": [],
   "source": [
    "def sigmoid(x): return 1/(1+torch.exp(-x))"
   ]
  },
  {
   "cell_type": "code",
   "execution_count": 215,
   "metadata": {},
   "outputs": [
    {
     "data": {
      "image/png": "[encoded data removed]",
      "text/plain": [
       "<Figure size 432x288 with 1 Axes>"
      ]
     },
     "metadata": {
      "needs_background": "light"
     },
     "output_type": "display_data"
    }
   ],
   "source": [
    "plot_function(torch.sigmoid, title='Sigmoid', min=-4, max=4)"
   ]
  },
  {
   "cell_type": "markdown",
   "metadata": {},
   "source": [
    "__update the fuction with the sigmoid thats all.__"
   ]
  },
  {
   "cell_type": "code",
   "execution_count": 216,
   "metadata": {},
   "outputs": [],
   "source": [
    "def mnist_loss(predictions, targets):\n",
    "    predictions = predictions.sigmoid()\n",
    "    return torch.where(targets==1, 1-predictions, predictions).mean()"
   ]
  },
  {
   "cell_type": "markdown",
   "metadata": {},
   "source": [
    "### What are SGD and Mini-Batches"
   ]
  },
  {
   "cell_type": "markdown",
   "metadata": {},
   "source": [
    "__This explains most of it.__"
   ]
  },
  {
   "cell_type": "code",
   "execution_count": 217,
   "metadata": {},
   "outputs": [
    {
     "data": {
      "text/plain": [
       "[tensor([ 3,  2, 10,  9, 13]),\n",
       " tensor([14,  6,  8,  0,  1]),\n",
       " tensor([ 7,  4,  5, 12, 11])]"
      ]
     },
     "execution_count": 217,
     "metadata": {},
     "output_type": "execute_result"
    }
   ],
   "source": [
    "coll = range(15)\n",
    "dl = DataLoader(coll, batch_size=5, shuffle=True)\n",
    "list(dl)"
   ]
  },
  {
   "cell_type": "markdown",
   "metadata": {},
   "source": [
    "__but this is only a list however we neeed a tuple consist of independent and dependent variable.__"
   ]
  },
  {
   "cell_type": "code",
   "execution_count": 218,
   "metadata": {},
   "outputs": [
    {
     "data": {
      "text/plain": [
       "(#26) [(0, 'a'),(1, 'b'),(2, 'c'),(3, 'd'),(4, 'e'),(5, 'f'),(6, 'g'),(7, 'h'),(8, 'i'),(9, 'j')...]"
      ]
     },
     "execution_count": 218,
     "metadata": {},
     "output_type": "execute_result"
    }
   ],
   "source": [
    "ds = L(enumerate(string.ascii_lowercase))\n",
    "ds"
   ]
  },
  {
   "cell_type": "markdown",
   "metadata": {},
   "source": [
    "#### DataLoader"
   ]
  },
  {
   "cell_type": "markdown",
   "metadata": {},
   "source": [
    "__then put it into a Dataloader.__"
   ]
  },
  {
   "cell_type": "code",
   "execution_count": 219,
   "metadata": {},
   "outputs": [
    {
     "data": {
      "text/plain": [
       "[(tensor([ 3, 16, 17,  8,  7,  2]), ('d', 'q', 'r', 'i', 'h', 'c')),\n",
       " (tensor([10, 22,  4, 14, 25, 15]), ('k', 'w', 'e', 'o', 'z', 'p')),\n",
       " (tensor([ 1, 12, 19,  5,  9, 11]), ('b', 'm', 't', 'f', 'j', 'l')),\n",
       " (tensor([ 0, 23, 21, 13, 18, 20]), ('a', 'x', 'v', 'n', 's', 'u')),\n",
       " (tensor([ 6, 24]), ('g', 'y'))]"
      ]
     },
     "execution_count": 219,
     "metadata": {},
     "output_type": "execute_result"
    }
   ],
   "source": [
    "dl = DataLoader(ds, batch_size=6, shuffle=True)\n",
    "list(dl)"
   ]
  },
  {
   "cell_type": "markdown",
   "metadata": {},
   "source": [
    "__now we have batches and tuples__\n",
    "***"
   ]
  },
  {
   "cell_type": "markdown",
   "metadata": {},
   "source": [
    "__all together__"
   ]
  },
  {
   "cell_type": "markdown",
   "metadata": {},
   "source": [
    "It's time to implement the process we saw in <<gradient_descent>>. In code, our process will be implemented something like this for each epoch:\n",
    "\n",
    "```python\n",
    "for x,y in dl:\n",
    "    pred = model(x)\n",
    "    loss = loss_func(pred, y)\n",
    "    loss.backward()\n",
    "    parameters -= parameters.grad * lr\n",
    "```"
   ]
  },
  {
   "cell_type": "code",
   "execution_count": 220,
   "metadata": {},
   "outputs": [],
   "source": [
    "weights = init_params((28*28,1))\n",
    "bias = init_params(1)"
   ]
  },
  {
   "cell_type": "code",
   "execution_count": 221,
   "metadata": {},
   "outputs": [
    {
     "data": {
      "text/plain": [
       "(torch.Size([256, 784]), torch.Size([256, 1]))"
      ]
     },
     "execution_count": 221,
     "metadata": {},
     "output_type": "execute_result"
    }
   ],
   "source": [
    "dl = DataLoader(dset, batch_size=256)\n",
    "xb,yb = first(dl)\n",
    "xb.shape,yb.shape"
   ]
  },
  {
   "cell_type": "code",
   "execution_count": 222,
   "metadata": {},
   "outputs": [],
   "source": [
    "valid_dl = DataLoader(valid_dset, batch_size=256)"
   ]
  },
  {
   "cell_type": "markdown",
   "metadata": {},
   "source": [
    "__a small test__"
   ]
  },
  {
   "cell_type": "code",
   "execution_count": 223,
   "metadata": {},
   "outputs": [
    {
     "data": {
      "text/plain": [
       "torch.Size([4, 784])"
      ]
     },
     "execution_count": 223,
     "metadata": {},
     "output_type": "execute_result"
    }
   ],
   "source": [
    "batch = train_x[:4]\n",
    "batch.shape"
   ]
  },
  {
   "cell_type": "markdown",
   "metadata": {},
   "source": [
    "***\n",
    "__predictions__"
   ]
  },
  {
   "cell_type": "code",
   "execution_count": 224,
   "metadata": {},
   "outputs": [
    {
     "data": {
      "text/plain": [
       "tensor([[-13.8845],\n",
       "        [  0.7855],\n",
       "        [ -1.1805],\n",
       "        [  4.6933]], grad_fn=<AddBackward0>)"
      ]
     },
     "execution_count": 224,
     "metadata": {},
     "output_type": "execute_result"
    }
   ],
   "source": [
    "preds = linear1(batch)\n",
    "preds"
   ]
  },
  {
   "cell_type": "markdown",
   "metadata": {},
   "source": [
    "__loss__"
   ]
  },
  {
   "cell_type": "code",
   "execution_count": 225,
   "metadata": {},
   "outputs": [
    {
     "data": {
      "text/plain": [
       "tensor(0.5218, grad_fn=<MeanBackward0>)"
      ]
     },
     "execution_count": 225,
     "metadata": {},
     "output_type": "execute_result"
    }
   ],
   "source": [
    "loss = mnist_loss(preds, train_y[:4])\n",
    "loss"
   ]
  },
  {
   "cell_type": "markdown",
   "metadata": {},
   "source": [
    "__gradients__"
   ]
  },
  {
   "cell_type": "code",
   "execution_count": 226,
   "metadata": {},
   "outputs": [
    {
     "data": {
      "text/plain": [
       "(torch.Size([784, 1]), tensor(-0.0145), tensor([-0.1010]))"
      ]
     },
     "execution_count": 226,
     "metadata": {},
     "output_type": "execute_result"
    }
   ],
   "source": [
    "loss.backward()\n",
    "weights.grad.shape,weights.grad.mean(),bias.grad"
   ]
  },
  {
   "cell_type": "markdown",
   "metadata": {},
   "source": [
    "__for the step we need a optimizer__\n",
    "***"
   ]
  },
  {
   "cell_type": "markdown",
   "metadata": {},
   "source": [
    "__put all into a function except the optimizer.__"
   ]
  },
  {
   "cell_type": "code",
   "execution_count": 227,
   "metadata": {},
   "outputs": [],
   "source": [
    "def calc_grad(xb, yb, model):\n",
    "    preds = model(xb)\n",
    "    loss = mnist_loss(preds, yb)\n",
    "    loss.backward()"
   ]
  },
  {
   "cell_type": "code",
   "execution_count": 228,
   "metadata": {},
   "outputs": [
    {
     "data": {
      "text/plain": [
       "(tensor(-0.0290), tensor([-0.2019]))"
      ]
     },
     "execution_count": 228,
     "metadata": {},
     "output_type": "execute_result"
    }
   ],
   "source": [
    "calc_grad(batch, train_y[:4], linear1)\n",
    "weights.grad.mean(),bias.grad"
   ]
  },
  {
   "cell_type": "markdown",
   "metadata": {},
   "source": [
    "> Warning: if you do it twice results are change."
   ]
  },
  {
   "cell_type": "code",
   "execution_count": 229,
   "metadata": {},
   "outputs": [
    {
     "data": {
      "text/plain": [
       "(tensor(-0.0435), tensor([-0.3029]))"
      ]
     },
     "execution_count": 229,
     "metadata": {},
     "output_type": "execute_result"
    }
   ],
   "source": [
    "calc_grad(batch, train_y[:4], linear1)\n",
    "weights.grad.mean(),bias.grad"
   ]
  },
  {
   "cell_type": "code",
   "execution_count": 230,
   "metadata": {},
   "outputs": [],
   "source": [
    "weights.grad.zero_()\n",
    "bias.grad.zero_();"
   ]
  },
  {
   "cell_type": "code",
   "execution_count": 231,
   "metadata": {},
   "outputs": [],
   "source": [
    "def train_epoch(model, lr, params):\n",
    "    for xb,yb in dl:\n",
    "        calc_grad(xb, yb, model)\n",
    "        for p in params:\n",
    "            p.data -= p.grad*lr\n",
    "            p.grad.zero_()"
   ]
  },
  {
   "cell_type": "markdown",
   "metadata": {},
   "source": [
    "__little conversion to our results, it's important because we need to understand that what our model says about the numbers(three or not three)__"
   ]
  },
  {
   "cell_type": "code",
   "execution_count": 232,
   "metadata": {},
   "outputs": [
    {
     "data": {
      "text/plain": [
       "tensor([[False],\n",
       "        [ True],\n",
       "        [False],\n",
       "        [ True]])"
      ]
     },
     "execution_count": 232,
     "metadata": {},
     "output_type": "execute_result"
    }
   ],
   "source": [
    "(preds>0.0).float() == train_y[:4]"
   ]
  },
  {
   "cell_type": "code",
   "execution_count": 233,
   "metadata": {},
   "outputs": [],
   "source": [
    "def batch_accuracy(xb, yb):\n",
    "    preds = xb.sigmoid()\n",
    "    correct = (preds>0.5) == yb\n",
    "    return correct.float().mean()"
   ]
  },
  {
   "cell_type": "markdown",
   "metadata": {},
   "source": [
    "***\n",
    "__this is training accuracy__"
   ]
  },
  {
   "cell_type": "code",
   "execution_count": 234,
   "metadata": {},
   "outputs": [
    {
     "data": {
      "text/plain": [
       "tensor(0.5000)"
      ]
     },
     "execution_count": 234,
     "metadata": {},
     "output_type": "execute_result"
    }
   ],
   "source": [
    "batch_accuracy(linear1(batch), train_y[:4])"
   ]
  },
  {
   "cell_type": "markdown",
   "metadata": {},
   "source": [
    "__this is for validation for all set__"
   ]
  },
  {
   "cell_type": "code",
   "execution_count": 235,
   "metadata": {},
   "outputs": [],
   "source": [
    "def validate_epoch(model):\n",
    "    accs = [batch_accuracy(model(xb), yb) for xb,yb in valid_dl]\n",
    "    return round(torch.stack(accs).mean().item(), 4)"
   ]
  },
  {
   "cell_type": "code",
   "execution_count": 236,
   "metadata": {},
   "outputs": [
    {
     "data": {
      "text/plain": [
       "0.721"
      ]
     },
     "execution_count": 236,
     "metadata": {},
     "output_type": "execute_result"
    }
   ],
   "source": [
    "validate_epoch(linear1)"
   ]
  },
  {
   "cell_type": "markdown",
   "metadata": {},
   "source": [
    "### Training"
   ]
  },
  {
   "cell_type": "markdown",
   "metadata": {},
   "source": [
    "__one epochs of training__"
   ]
  },
  {
   "cell_type": "code",
   "execution_count": 237,
   "metadata": {},
   "outputs": [
    {
     "data": {
      "text/plain": [
       "0.7905"
      ]
     },
     "execution_count": 237,
     "metadata": {},
     "output_type": "execute_result"
    }
   ],
   "source": [
    "lr = 1.\n",
    "params = weights,bias\n",
    "train_epoch(linear1, lr, params)\n",
    "validate_epoch(linear1)"
   ]
  },
  {
   "cell_type": "markdown",
   "metadata": {},
   "source": [
    "__then more__"
   ]
  },
  {
   "cell_type": "code",
   "execution_count": 238,
   "metadata": {},
   "outputs": [
    {
     "name": "stdout",
     "output_type": "stream",
     "text": [
      "0.9067 0.9369 0.9457 0.9496 0.9559 0.9589 0.9608 0.9633 0.9652 0.9667 0.9677 0.9687 0.9686 0.9701 0.9711 0.9711 0.9716 0.9726 0.9735 0.973 "
     ]
    }
   ],
   "source": [
    "for i in range(20):\n",
    "    train_epoch(linear1, lr, params)\n",
    "    print(validate_epoch(linear1), end=' ')"
   ]
  },
  {
   "cell_type": "markdown",
   "metadata": {},
   "source": [
    "### OPTIMIZER"
   ]
  },
  {
   "cell_type": "markdown",
   "metadata": {},
   "source": [
    "__Let's start creating our model with Pytorch instead of our \"linear1\" function. Pytorch also creates parameters like our init_params function.__\n"
   ]
  },
  {
   "cell_type": "code",
   "execution_count": 239,
   "metadata": {},
   "outputs": [],
   "source": [
    "linear_model = nn.Linear(28*28,1)"
   ]
  },
  {
   "cell_type": "code",
   "execution_count": 240,
   "metadata": {},
   "outputs": [],
   "source": [
    "w,b = linear_model.parameters()"
   ]
  },
  {
   "cell_type": "code",
   "execution_count": 241,
   "metadata": {},
   "outputs": [
    {
     "data": {
      "text/plain": [
       "(torch.Size([1, 784]), torch.Size([1]))"
      ]
     },
     "execution_count": 241,
     "metadata": {},
     "output_type": "execute_result"
    }
   ],
   "source": [
    "w.shape, b.shape"
   ]
  },
  {
   "cell_type": "markdown",
   "metadata": {},
   "source": [
    "__Custom optimizer__"
   ]
  },
  {
   "cell_type": "code",
   "execution_count": 242,
   "metadata": {},
   "outputs": [],
   "source": [
    "class BasicOptim:\n",
    "    def __init__(self,params,lr): self.params,self.lr = list(params),lr\n",
    "\n",
    "    def step(self, *args, **kwargs):\n",
    "        for p in self.params: p.data -= p.grad.data * self.lr\n",
    "\n",
    "    def zero_grad(self, *args, **kwargs):\n",
    "        for p in self.params: p.grad = None"
   ]
  },
  {
   "cell_type": "code",
   "execution_count": 243,
   "metadata": {},
   "outputs": [],
   "source": [
    "opt = BasicOptim(linear_model.parameters(), lr)"
   ]
  },
  {
   "cell_type": "markdown",
   "metadata": {},
   "source": [
    "__new training fuction will be__"
   ]
  },
  {
   "cell_type": "code",
   "execution_count": 244,
   "metadata": {},
   "outputs": [],
   "source": [
    "def train_epoch(model):\n",
    "    for xb,yb in dl:\n",
    "        calc_grad(xb, yb, model)\n",
    "        opt.step()\n",
    "        opt.zero_grad()"
   ]
  },
  {
   "cell_type": "code",
   "execution_count": 245,
   "metadata": {},
   "outputs": [
    {
     "data": {
      "text/plain": [
       "0.4681"
      ]
     },
     "execution_count": 245,
     "metadata": {},
     "output_type": "execute_result"
    }
   ],
   "source": [
    "validate_epoch(linear_model)"
   ]
  },
  {
   "cell_type": "code",
   "execution_count": 246,
   "metadata": {},
   "outputs": [],
   "source": [
    "def train_model(model, epochs):\n",
    "    for i in range(epochs):\n",
    "        train_epoch(model)\n",
    "        print(validate_epoch(model), end=' ')"
   ]
  },
  {
   "cell_type": "code",
   "execution_count": 247,
   "metadata": {},
   "outputs": [
    {
     "name": "stdout",
     "output_type": "stream",
     "text": [
      "0.4932 0.8394 0.8408 0.9136 0.9336 0.9468 0.9565 0.9629 0.9663 0.9678 0.9697 0.9712 0.9736 0.9746 0.9761 0.977 0.9775 0.978 0.9785 0.9785 "
     ]
    }
   ],
   "source": [
    "train_model(linear_model, 20)"
   ]
  },
  {
   "cell_type": "markdown",
   "metadata": {},
   "source": [
    "### Fastai's SDG class"
   ]
  },
  {
   "cell_type": "markdown",
   "metadata": {},
   "source": [
    "__instead of using \"BasicOptim\" class we can use fastai's SGD class__"
   ]
  },
  {
   "cell_type": "code",
   "execution_count": 248,
   "metadata": {},
   "outputs": [
    {
     "name": "stdout",
     "output_type": "stream",
     "text": [
      "0.4932 0.9009 0.813 0.9072 0.9306 0.9453 0.9546 0.9624 0.9653 0.9678 0.9692 0.9712 0.9726 0.9746 0.9761 0.9765 0.978 0.9785 0.9785 0.9785 "
     ]
    }
   ],
   "source": [
    "linear_model = nn.Linear(28*28,1)\n",
    "opt = SGD(linear_model.parameters(), lr)\n",
    "train_model(linear_model, 20)"
   ]
  },
  {
   "cell_type": "markdown",
   "metadata": {},
   "source": [
    "__Just remove the \"train_model\" at this time and use fastai's \"Learner.fit\" Before using Learner first we need to pass our trainig and validation data into \"Dataloaders\" not \"dataloader\"__"
   ]
  },
  {
   "cell_type": "markdown",
   "metadata": {},
   "source": [
    "#### Fastai's Dataloaders"
   ]
  },
  {
   "cell_type": "code",
   "execution_count": 249,
   "metadata": {},
   "outputs": [],
   "source": [
    "dls = DataLoaders(dl, valid_dl)"
   ]
  },
  {
   "cell_type": "code",
   "execution_count": 250,
   "metadata": {},
   "outputs": [],
   "source": [
    "learn = Learner(dls, nn.Linear(28*28,1), opt_func=SGD,\n",
    "                loss_func=mnist_loss, metrics=batch_accuracy)"
   ]
  },
  {
   "cell_type": "markdown",
   "metadata": {},
   "source": [
    "#### FastAi's Fit"
   ]
  },
  {
   "cell_type": "code",
   "execution_count": 251,
   "metadata": {},
   "outputs": [
    {
     "data": {
      "text/html": [
       "<table border=\"1\" class=\"dataframe\">\n",
       "  <thead>\n",
       "    <tr style=\"text-align: left;\">\n",
       "      <th>epoch</th>\n",
       "      <th>train_loss</th>\n",
       "      <th>valid_loss</th>\n",
       "      <th>batch_accuracy</th>\n",
       "      <th>time</th>\n",
       "    </tr>\n",
       "  </thead>\n",
       "  <tbody>\n",
       "    <tr>\n",
       "      <td>0</td>\n",
       "      <td>0.636822</td>\n",
       "      <td>0.503491</td>\n",
       "      <td>0.495584</td>\n",
       "      <td>00:00</td>\n",
       "    </tr>\n",
       "    <tr>\n",
       "      <td>1</td>\n",
       "      <td>0.526316</td>\n",
       "      <td>0.200708</td>\n",
       "      <td>0.825810</td>\n",
       "      <td>00:00</td>\n",
       "    </tr>\n",
       "    <tr>\n",
       "      <td>2</td>\n",
       "      <td>0.193482</td>\n",
       "      <td>0.175509</td>\n",
       "      <td>0.842002</td>\n",
       "      <td>00:00</td>\n",
       "    </tr>\n",
       "    <tr>\n",
       "      <td>3</td>\n",
       "      <td>0.084752</td>\n",
       "      <td>0.105641</td>\n",
       "      <td>0.912659</td>\n",
       "      <td>00:00</td>\n",
       "    </tr>\n",
       "    <tr>\n",
       "      <td>4</td>\n",
       "      <td>0.044736</td>\n",
       "      <td>0.077531</td>\n",
       "      <td>0.933268</td>\n",
       "      <td>00:00</td>\n",
       "    </tr>\n",
       "    <tr>\n",
       "      <td>5</td>\n",
       "      <td>0.029116</td>\n",
       "      <td>0.062228</td>\n",
       "      <td>0.947498</td>\n",
       "      <td>00:00</td>\n",
       "    </tr>\n",
       "    <tr>\n",
       "      <td>6</td>\n",
       "      <td>0.022705</td>\n",
       "      <td>0.052672</td>\n",
       "      <td>0.955348</td>\n",
       "      <td>00:00</td>\n",
       "    </tr>\n",
       "    <tr>\n",
       "      <td>7</td>\n",
       "      <td>0.019858</td>\n",
       "      <td>0.046304</td>\n",
       "      <td>0.961727</td>\n",
       "      <td>00:00</td>\n",
       "    </tr>\n",
       "    <tr>\n",
       "      <td>8</td>\n",
       "      <td>0.018413</td>\n",
       "      <td>0.041820</td>\n",
       "      <td>0.965162</td>\n",
       "      <td>00:00</td>\n",
       "    </tr>\n",
       "    <tr>\n",
       "      <td>9</td>\n",
       "      <td>0.017542</td>\n",
       "      <td>0.038510</td>\n",
       "      <td>0.967125</td>\n",
       "      <td>00:00</td>\n",
       "    </tr>\n",
       "  </tbody>\n",
       "</table>"
      ],
      "text/plain": [
       "<IPython.core.display.HTML object>"
      ]
     },
     "metadata": {},
     "output_type": "display_data"
    }
   ],
   "source": [
    "learn.fit(10, lr=lr)"
   ]
  },
  {
   "cell_type": "markdown",
   "metadata": {},
   "source": [
    "### Adding a Nonlinearity"
   ]
  },
  {
   "cell_type": "markdown",
   "metadata": {},
   "source": [
    "__The basic idea is that by using more linear layers, we can have our model do more computation, and therefore model more complex functions. But there's no point just putting one linear layer directly after another one, because when we multiply things together and then add them up multiple times, that could be replaced by multiplying different things together and adding them up just once! That is to say, a series of any number of linear layers in a row can be replaced with a single linear layer with a different set of parameters.__ (From Fastbook)"
   ]
  },
  {
   "cell_type": "markdown",
   "metadata": {},
   "source": [
    "Amazingly enough, it can be mathematically proven that this little function can solve any computable problem to an arbitrarily high level of accuracy, if you can find the right parameters for w1 and w2 and if you make these matrices big enough. For any arbitrarily wiggly function, we can approximate it as a bunch of lines joined together; to make it closer to the wiggly function, we just have to use shorter lines. This is known as the __universal approximation theorem.___ The three lines of code that we have here are known as layers. The first and third are known as linear layers, and the second line of code is known variously as a nonlinearity, or activation function.(From Fastbook)"
   ]
  },
  {
   "cell_type": "code",
   "execution_count": 252,
   "metadata": {},
   "outputs": [],
   "source": [
    "simple_net = nn.Sequential(\n",
    "    nn.Linear(28*28,30),\n",
    "    nn.ReLU(),\n",
    "    nn.Linear(30,1)\n",
    ")"
   ]
  },
  {
   "cell_type": "code",
   "execution_count": 253,
   "metadata": {},
   "outputs": [],
   "source": [
    "learn = Learner(dls, simple_net, opt_func=SGD,\n",
    "                loss_func=mnist_loss, metrics=batch_accuracy)"
   ]
  },
  {
   "cell_type": "code",
   "execution_count": 254,
   "metadata": {},
   "outputs": [
    {
     "data": {
      "text/html": [
       "<table border=\"1\" class=\"dataframe\">\n",
       "  <thead>\n",
       "    <tr style=\"text-align: left;\">\n",
       "      <th>epoch</th>\n",
       "      <th>train_loss</th>\n",
       "      <th>valid_loss</th>\n",
       "      <th>batch_accuracy</th>\n",
       "      <th>time</th>\n",
       "    </tr>\n",
       "  </thead>\n",
       "  <tbody>\n",
       "    <tr>\n",
       "      <td>0</td>\n",
       "      <td>0.324596</td>\n",
       "      <td>0.418378</td>\n",
       "      <td>0.504416</td>\n",
       "      <td>00:00</td>\n",
       "    </tr>\n",
       "    <tr>\n",
       "      <td>1</td>\n",
       "      <td>0.152484</td>\n",
       "      <td>0.233440</td>\n",
       "      <td>0.796369</td>\n",
       "      <td>00:00</td>\n",
       "    </tr>\n",
       "    <tr>\n",
       "      <td>2</td>\n",
       "      <td>0.083763</td>\n",
       "      <td>0.116929</td>\n",
       "      <td>0.915113</td>\n",
       "      <td>00:00</td>\n",
       "    </tr>\n",
       "    <tr>\n",
       "      <td>3</td>\n",
       "      <td>0.054666</td>\n",
       "      <td>0.078955</td>\n",
       "      <td>0.938665</td>\n",
       "      <td>00:00</td>\n",
       "    </tr>\n",
       "    <tr>\n",
       "      <td>4</td>\n",
       "      <td>0.041259</td>\n",
       "      <td>0.061768</td>\n",
       "      <td>0.954858</td>\n",
       "      <td>00:00</td>\n",
       "    </tr>\n",
       "    <tr>\n",
       "      <td>5</td>\n",
       "      <td>0.034461</td>\n",
       "      <td>0.052095</td>\n",
       "      <td>0.963199</td>\n",
       "      <td>00:00</td>\n",
       "    </tr>\n",
       "    <tr>\n",
       "      <td>6</td>\n",
       "      <td>0.030577</td>\n",
       "      <td>0.045982</td>\n",
       "      <td>0.963690</td>\n",
       "      <td>00:00</td>\n",
       "    </tr>\n",
       "    <tr>\n",
       "      <td>7</td>\n",
       "      <td>0.028060</td>\n",
       "      <td>0.041802</td>\n",
       "      <td>0.966634</td>\n",
       "      <td>00:00</td>\n",
       "    </tr>\n",
       "    <tr>\n",
       "      <td>8</td>\n",
       "      <td>0.026248</td>\n",
       "      <td>0.038755</td>\n",
       "      <td>0.968106</td>\n",
       "      <td>00:00</td>\n",
       "    </tr>\n",
       "    <tr>\n",
       "      <td>9</td>\n",
       "      <td>0.024840</td>\n",
       "      <td>0.036427</td>\n",
       "      <td>0.968106</td>\n",
       "      <td>00:00</td>\n",
       "    </tr>\n",
       "    <tr>\n",
       "      <td>10</td>\n",
       "      <td>0.023699</td>\n",
       "      <td>0.034572</td>\n",
       "      <td>0.970559</td>\n",
       "      <td>00:00</td>\n",
       "    </tr>\n",
       "    <tr>\n",
       "      <td>11</td>\n",
       "      <td>0.022743</td>\n",
       "      <td>0.033050</td>\n",
       "      <td>0.972031</td>\n",
       "      <td>00:00</td>\n",
       "    </tr>\n",
       "    <tr>\n",
       "      <td>12</td>\n",
       "      <td>0.021927</td>\n",
       "      <td>0.031771</td>\n",
       "      <td>0.973013</td>\n",
       "      <td>00:00</td>\n",
       "    </tr>\n",
       "    <tr>\n",
       "      <td>13</td>\n",
       "      <td>0.021220</td>\n",
       "      <td>0.030674</td>\n",
       "      <td>0.973994</td>\n",
       "      <td>00:00</td>\n",
       "    </tr>\n",
       "    <tr>\n",
       "      <td>14</td>\n",
       "      <td>0.020601</td>\n",
       "      <td>0.029718</td>\n",
       "      <td>0.974975</td>\n",
       "      <td>00:00</td>\n",
       "    </tr>\n",
       "    <tr>\n",
       "      <td>15</td>\n",
       "      <td>0.020053</td>\n",
       "      <td>0.028874</td>\n",
       "      <td>0.974975</td>\n",
       "      <td>00:00</td>\n",
       "    </tr>\n",
       "    <tr>\n",
       "      <td>16</td>\n",
       "      <td>0.019563</td>\n",
       "      <td>0.028123</td>\n",
       "      <td>0.976938</td>\n",
       "      <td>00:00</td>\n",
       "    </tr>\n",
       "    <tr>\n",
       "      <td>17</td>\n",
       "      <td>0.019121</td>\n",
       "      <td>0.027449</td>\n",
       "      <td>0.976938</td>\n",
       "      <td>00:00</td>\n",
       "    </tr>\n",
       "    <tr>\n",
       "      <td>18</td>\n",
       "      <td>0.018719</td>\n",
       "      <td>0.026840</td>\n",
       "      <td>0.977429</td>\n",
       "      <td>00:00</td>\n",
       "    </tr>\n",
       "    <tr>\n",
       "      <td>19</td>\n",
       "      <td>0.018352</td>\n",
       "      <td>0.026287</td>\n",
       "      <td>0.977429</td>\n",
       "      <td>00:00</td>\n",
       "    </tr>\n",
       "    <tr>\n",
       "      <td>20</td>\n",
       "      <td>0.018014</td>\n",
       "      <td>0.025783</td>\n",
       "      <td>0.978410</td>\n",
       "      <td>00:00</td>\n",
       "    </tr>\n",
       "    <tr>\n",
       "      <td>21</td>\n",
       "      <td>0.017703</td>\n",
       "      <td>0.025321</td>\n",
       "      <td>0.978410</td>\n",
       "      <td>00:00</td>\n",
       "    </tr>\n",
       "    <tr>\n",
       "      <td>22</td>\n",
       "      <td>0.017413</td>\n",
       "      <td>0.024897</td>\n",
       "      <td>0.978410</td>\n",
       "      <td>00:00</td>\n",
       "    </tr>\n",
       "    <tr>\n",
       "      <td>23</td>\n",
       "      <td>0.017143</td>\n",
       "      <td>0.024506</td>\n",
       "      <td>0.978410</td>\n",
       "      <td>00:00</td>\n",
       "    </tr>\n",
       "    <tr>\n",
       "      <td>24</td>\n",
       "      <td>0.016890</td>\n",
       "      <td>0.024144</td>\n",
       "      <td>0.979882</td>\n",
       "      <td>00:00</td>\n",
       "    </tr>\n",
       "    <tr>\n",
       "      <td>25</td>\n",
       "      <td>0.016653</td>\n",
       "      <td>0.023809</td>\n",
       "      <td>0.979882</td>\n",
       "      <td>00:00</td>\n",
       "    </tr>\n",
       "    <tr>\n",
       "      <td>26</td>\n",
       "      <td>0.016429</td>\n",
       "      <td>0.023497</td>\n",
       "      <td>0.980373</td>\n",
       "      <td>00:00</td>\n",
       "    </tr>\n",
       "    <tr>\n",
       "      <td>27</td>\n",
       "      <td>0.016218</td>\n",
       "      <td>0.023206</td>\n",
       "      <td>0.980373</td>\n",
       "      <td>00:00</td>\n",
       "    </tr>\n",
       "    <tr>\n",
       "      <td>28</td>\n",
       "      <td>0.016017</td>\n",
       "      <td>0.022935</td>\n",
       "      <td>0.980373</td>\n",
       "      <td>00:00</td>\n",
       "    </tr>\n",
       "    <tr>\n",
       "      <td>29</td>\n",
       "      <td>0.015827</td>\n",
       "      <td>0.022683</td>\n",
       "      <td>0.980373</td>\n",
       "      <td>00:00</td>\n",
       "    </tr>\n",
       "    <tr>\n",
       "      <td>30</td>\n",
       "      <td>0.015647</td>\n",
       "      <td>0.022446</td>\n",
       "      <td>0.980373</td>\n",
       "      <td>00:00</td>\n",
       "    </tr>\n",
       "    <tr>\n",
       "      <td>31</td>\n",
       "      <td>0.015474</td>\n",
       "      <td>0.022225</td>\n",
       "      <td>0.980864</td>\n",
       "      <td>00:00</td>\n",
       "    </tr>\n",
       "    <tr>\n",
       "      <td>32</td>\n",
       "      <td>0.015310</td>\n",
       "      <td>0.022017</td>\n",
       "      <td>0.980864</td>\n",
       "      <td>00:00</td>\n",
       "    </tr>\n",
       "    <tr>\n",
       "      <td>33</td>\n",
       "      <td>0.015153</td>\n",
       "      <td>0.021823</td>\n",
       "      <td>0.981354</td>\n",
       "      <td>00:00</td>\n",
       "    </tr>\n",
       "    <tr>\n",
       "      <td>34</td>\n",
       "      <td>0.015002</td>\n",
       "      <td>0.021640</td>\n",
       "      <td>0.981845</td>\n",
       "      <td>00:00</td>\n",
       "    </tr>\n",
       "    <tr>\n",
       "      <td>35</td>\n",
       "      <td>0.014858</td>\n",
       "      <td>0.021467</td>\n",
       "      <td>0.981845</td>\n",
       "      <td>00:00</td>\n",
       "    </tr>\n",
       "    <tr>\n",
       "      <td>36</td>\n",
       "      <td>0.014720</td>\n",
       "      <td>0.021304</td>\n",
       "      <td>0.981845</td>\n",
       "      <td>00:00</td>\n",
       "    </tr>\n",
       "    <tr>\n",
       "      <td>37</td>\n",
       "      <td>0.014587</td>\n",
       "      <td>0.021151</td>\n",
       "      <td>0.981845</td>\n",
       "      <td>00:00</td>\n",
       "    </tr>\n",
       "    <tr>\n",
       "      <td>38</td>\n",
       "      <td>0.014459</td>\n",
       "      <td>0.021005</td>\n",
       "      <td>0.981845</td>\n",
       "      <td>00:00</td>\n",
       "    </tr>\n",
       "    <tr>\n",
       "      <td>39</td>\n",
       "      <td>0.014335</td>\n",
       "      <td>0.020867</td>\n",
       "      <td>0.981845</td>\n",
       "      <td>00:00</td>\n",
       "    </tr>\n",
       "  </tbody>\n",
       "</table>"
      ],
      "text/plain": [
       "<IPython.core.display.HTML object>"
      ]
     },
     "metadata": {},
     "output_type": "display_data"
    }
   ],
   "source": [
    "#hide_output\n",
    "learn.fit(40, 0.1)"
   ]
  },
  {
   "cell_type": "markdown",
   "metadata": {},
   "source": [
    "#### recorder is a fast ai method"
   ]
  },
  {
   "cell_type": "code",
   "execution_count": 255,
   "metadata": {},
   "outputs": [
    {
     "data": {
      "image/png": "[encoded data removed]",
      "text/plain": [
       "<Figure size 432x288 with 1 Axes>"
      ]
     },
     "metadata": {
      "needs_background": "light"
     },
     "output_type": "display_data"
    }
   ],
   "source": [
    "plt.plot(L(learn.recorder.values).itemgot(2));"
   ]
  },
  {
   "cell_type": "markdown",
   "metadata": {},
   "source": [
    "__Last value__"
   ]
  },
  {
   "cell_type": "code",
   "execution_count": 256,
   "metadata": {},
   "outputs": [
    {
     "data": {
      "text/plain": [
       "0.981844961643219"
      ]
     },
     "execution_count": 256,
     "metadata": {},
     "output_type": "execute_result"
    }
   ],
   "source": [
    "learn.recorder.values[-1][2]"
   ]
  },
  {
   "cell_type": "markdown",
   "metadata": {},
   "source": [
    "## Going Deeper"
   ]
  },
  {
   "cell_type": "markdown",
   "metadata": {},
   "source": [
    "__why deeper if it is two and a nonlinear between them is enough__"
   ]
  },
  {
   "cell_type": "markdown",
   "metadata": {},
   "source": [
    "We already know that a single nonlinearity with two linear layers is enough to approximate any function. So why would we use deeper models? The reason is performance. With a deeper model (that is, one with more layers) we do not need to use as many parameters; it turns out that we can use smaller matrices with more layers, and get better results than we would get with larger matrices, and few layers."
   ]
  },
  {
   "cell_type": "code",
   "execution_count": 257,
   "metadata": {},
   "outputs": [
    {
     "name": "stderr",
     "output_type": "stream",
     "text": [
      "/home/niyazi/anaconda3/envs/fastbook/lib/python3.8/site-packages/torch/nn/functional.py:718: UserWarning: Named tensors and all their associated APIs are an experimental feature and subject to change. Please do not use them for anything important until they are released as stable. (Triggered internally at  /opt/conda/conda-bld/pytorch_1623448278899/work/c10/core/TensorImpl.h:1156.)\n",
      "  return torch.max_pool2d(input, kernel_size, stride, padding, dilation, ceil_mode)\n"
     ]
    },
    {
     "data": {
      "text/html": [
       "<table border=\"1\" class=\"dataframe\">\n",
       "  <thead>\n",
       "    <tr style=\"text-align: left;\">\n",
       "      <th>epoch</th>\n",
       "      <th>train_loss</th>\n",
       "      <th>valid_loss</th>\n",
       "      <th>accuracy</th>\n",
       "      <th>time</th>\n",
       "    </tr>\n",
       "  </thead>\n",
       "  <tbody>\n",
       "    <tr>\n",
       "      <td>0</td>\n",
       "      <td>0.078388</td>\n",
       "      <td>0.018007</td>\n",
       "      <td>0.994112</td>\n",
       "      <td>00:14</td>\n",
       "    </tr>\n",
       "  </tbody>\n",
       "</table>"
      ],
      "text/plain": [
       "<IPython.core.display.HTML object>"
      ]
     },
     "metadata": {},
     "output_type": "display_data"
    }
   ],
   "source": [
    "dls = ImageDataLoaders.from_folder(path)\n",
    "learn = cnn_learner(dls, resnet18, pretrained=False,\n",
    "                    loss_func=F.cross_entropy, metrics=accuracy)\n",
    "learn.fit_one_cycle(1, 0.1)"
   ]
  },
  {
   "cell_type": "code",
   "execution_count": null,
   "metadata": {},
   "outputs": [],
   "source": []
  }
 ],
 "metadata": {
  "kernelspec": {
   "display_name": "Python 3",
   "language": "python",
   "name": "python3"
  },
  "language_info": {
   "codemirror_mode": {
    "name": "ipython",
    "version": 3
   },
   "file_extension": ".py",
   "mimetype": "text/x-python",
   "name": "python",
   "nbconvert_exporter": "python",
   "pygments_lexer": "ipython3",
   "version": "3.8.10"
  }
 },
 "nbformat": 4,
 "nbformat_minor": 4
}
