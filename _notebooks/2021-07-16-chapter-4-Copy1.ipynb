{
 "cells": [
  {
   "cell_type": "markdown",
   "metadata": {},
   "source": [
    "# CHAPTER 4\n",
    "> Fast Book Chapter 4 summary\n",
    "\n",
    "- toc: true \n",
    "- badges: true\n",
    "- comments: true\n",
    "- categories: [fastbook]"
   ]
  },
  {
   "cell_type": "code",
   "execution_count": 1,
   "metadata": {},
   "outputs": [],
   "source": [
    "#hide\n",
    "#!pip install -Uqq fastbook\n",
    "import fastbook\n",
    "fastbook.setup_book()\n",
    "%config Completer.use_jedi = False\n"
   ]
  },
  {
   "cell_type": "code",
   "execution_count": 2,
   "metadata": {},
   "outputs": [],
   "source": [
    "#hide\n",
    "from fastai.vision.all import *\n",
    "from fastbook import *\n",
    "\n",
    "matplotlib.rc('image', cmap='Greys')\n"
   ]
  },
  {
   "cell_type": "markdown",
   "metadata": {},
   "source": [
    "> Note: 'untar_data' come from fastai library it downloads the data and untar it if it didn't already and returns the destination folder."
   ]
  },
  {
   "cell_type": "code",
   "execution_count": 3,
   "metadata": {},
   "outputs": [],
   "source": [
    "path = untar_data(URLs.MNIST_SAMPLE)"
   ]
  },
  {
   "cell_type": "markdown",
   "metadata": {},
   "source": [
    "> Tip: Check it with '??'"
   ]
  },
  {
   "cell_type": "code",
   "execution_count": 4,
   "metadata": {},
   "outputs": [],
   "source": [
    "??untar_data"
   ]
  },
  {
   "cell_type": "markdown",
   "metadata": {},
   "source": [
    "> Note: path returns:"
   ]
  },
  {
   "cell_type": "code",
   "execution_count": 5,
   "metadata": {},
   "outputs": [
    {
     "data": {
      "text/plain": [
       "Path('/home/niyazi/.fastai/data/mnist_sample')"
      ]
     },
     "execution_count": 5,
     "metadata": {},
     "output_type": "execute_result"
    }
   ],
   "source": [
    "path"
   ]
  },
  {
   "cell_type": "markdown",
   "metadata": {},
   "source": [
    "> Note: what is inside the current folder? this where the jupyter notebook works. '!' at the beginning means the command works on the terminal."
   ]
  },
  {
   "cell_type": "code",
   "execution_count": 6,
   "metadata": {},
   "outputs": [
    {
     "name": "stdout",
     "output_type": "stream",
     "text": [
      "01_intro.ipynb\t\t 15_arch_details.ipynb\t     LICENSE\r\n",
      "02_production.ipynb\t 16_accel_sgd.ipynb\t     README_bn.md\r\n",
      "03_ethics.ipynb\t\t 17_foundations.ipynb\t     README_es.md\r\n",
      "04_mnist_basics.ipynb\t 18_CAM.ipynb\t\t     README_id.md\r\n",
      "05_pet_breeds.ipynb\t 19_learner.ipynb\t     README_ko.md\r\n",
      "06_multicat.ipynb\t 2021-07-15-chapter-4.ipynb  README.md\r\n",
      "07_sizing_and_tta.ipynb  2021-07-15-Test.ipynb\t     README_zh.md\r\n",
      "08_collab.ipynb\t\t 20_conclusion.ipynb\t     requirements.txt\r\n",
      "09_tabular.ipynb\t app_blog.ipynb\t\t     sandbox\r\n",
      "10_nlp.ipynb\t\t app_jupyter.ipynb\t     settings.ini\r\n",
      "11_midlevel_data.ipynb\t clean\t\t\t     tools\r\n",
      "12_nlp_dive.ipynb\t CODE_OF_CONDUCT.md\t     utils.py\r\n",
      "13_convolutions.ipynb\t environment.yml\r\n",
      "14_resnet.ipynb\t\t images\r\n"
     ]
    }
   ],
   "source": [
    "!ls"
   ]
  },
  {
   "cell_type": "markdown",
   "metadata": {},
   "source": [
    "> Note: can be used like this too."
   ]
  },
  {
   "cell_type": "code",
   "execution_count": 7,
   "metadata": {},
   "outputs": [
    {
     "name": "stdout",
     "output_type": "stream",
     "text": [
      "/home/niyazi/.fastai/data/mnist_sample/train\r\n"
     ]
    }
   ],
   "source": [
    "!ls /home/niyazi/.fastai/data/mnist_sample/train -d"
   ]
  },
  {
   "cell_type": "markdown",
   "metadata": {},
   "source": [
    "> Note: also like this:"
   ]
  },
  {
   "cell_type": "code",
   "execution_count": 8,
   "metadata": {},
   "outputs": [
    {
     "name": "stdout",
     "output_type": "stream",
     "text": [
      "/home/niyazi/.fastai/data/mnist_sample/train/3\r\n"
     ]
    }
   ],
   "source": [
    "!ls /home/niyazi/.fastai/data/mnist_sample/train/3 -d"
   ]
  },
  {
   "cell_type": "markdown",
   "metadata": {},
   "source": [
    "> Note: getting the tree view also possible:"
   ]
  },
  {
   "cell_type": "code",
   "execution_count": 9,
   "metadata": {},
   "outputs": [
    {
     "name": "stdout",
     "output_type": "stream",
     "text": [
      "\u001b[01;34m/home/niyazi/.fastai/data/mnist_sample/\u001b[00m\r\n",
      "├── \u001b[01;34mtrain\u001b[00m\r\n",
      "│   ├── \u001b[01;34m3\u001b[00m\r\n",
      "│   └── \u001b[01;34m7\u001b[00m\r\n",
      "└── \u001b[01;34mvalid\u001b[00m\r\n",
      "    ├── \u001b[01;34m3\u001b[00m\r\n",
      "    └── \u001b[01;34m7\u001b[00m\r\n",
      "\r\n",
      "6 directories\r\n"
     ]
    }
   ],
   "source": [
    "!tree /home/niyazi/.fastai/data/mnist_sample/ -d"
   ]
  },
  {
   "cell_type": "markdown",
   "metadata": {},
   "source": [
    "> Note: only Directories -d:"
   ]
  },
  {
   "cell_type": "code",
   "execution_count": 10,
   "metadata": {
    "scrolled": true
   },
   "outputs": [
    {
     "name": "stdout",
     "output_type": "stream",
     "text": [
      "\u001b[01;34m/home/niyazi/.fastai/data/mnist_sample/\u001b[00m\r\n",
      "├── \u001b[01;34mtrain\u001b[00m\r\n",
      "│   ├── \u001b[01;34m3\u001b[00m\r\n",
      "│   └── \u001b[01;34m7\u001b[00m\r\n",
      "└── \u001b[01;34mvalid\u001b[00m\r\n",
      "    ├── \u001b[01;34m3\u001b[00m\r\n",
      "    └── \u001b[01;34m7\u001b[00m\r\n",
      "\r\n",
      "6 directories\r\n"
     ]
    }
   ],
   "source": [
    "!tree /home/niyazi/.fastai/data/mnist_sample/ -d"
   ]
  },
  {
   "cell_type": "code",
   "execution_count": 11,
   "metadata": {},
   "outputs": [],
   "source": [
    "#hide\n",
    "Path.BASE_PATH = path"
   ]
  },
  {
   "cell_type": "markdown",
   "metadata": {},
   "source": [
    "> Note: 'ls' is method by fastai similiar the Python's list fuction but more powerful."
   ]
  },
  {
   "cell_type": "code",
   "execution_count": 12,
   "metadata": {},
   "outputs": [
    {
     "data": {
      "text/plain": [
       "(#3) [Path('labels.csv'),Path('train'),Path('valid')]"
      ]
     },
     "execution_count": 12,
     "metadata": {},
     "output_type": "execute_result"
    }
   ],
   "source": [
    "path.ls()"
   ]
  },
  {
   "cell_type": "markdown",
   "metadata": {},
   "source": [
    "> Note: Check this usage:"
   ]
  },
  {
   "cell_type": "code",
   "execution_count": 13,
   "metadata": {},
   "outputs": [
    {
     "data": {
      "text/plain": [
       "Path('train')"
      ]
     },
     "execution_count": 13,
     "metadata": {},
     "output_type": "execute_result"
    }
   ],
   "source": [
    "(path/'train')"
   ]
  },
  {
   "cell_type": "code",
   "execution_count": 14,
   "metadata": {},
   "outputs": [
    {
     "data": {
      "text/plain": [
       "(#2) [Path('train/7'),Path('train/3')]"
      ]
     },
     "execution_count": 14,
     "metadata": {},
     "output_type": "execute_result"
    }
   ],
   "source": [
    "(path/'train').ls()"
   ]
  },
  {
   "cell_type": "markdown",
   "metadata": {},
   "source": [
    "> Note: there are  two folders under training folder"
   ]
  },
  {
   "cell_type": "code",
   "execution_count": 15,
   "metadata": {},
   "outputs": [],
   "source": [
    "threes = (path/'train'/'3').ls().sorted()\n",
    "sevens = (path/'train'/'7').ls().sorted()\n"
   ]
  },
  {
   "cell_type": "markdown",
   "metadata": {},
   "source": [
    "> Note: this code returns and ordered list of paths"
   ]
  },
  {
   "cell_type": "code",
   "execution_count": 16,
   "metadata": {},
   "outputs": [
    {
     "data": {
      "text/plain": [
       "PIL.PngImagePlugin.PngImageFile"
      ]
     },
     "execution_count": 16,
     "metadata": {},
     "output_type": "execute_result"
    }
   ],
   "source": [
    "im3_path = threes[1]\n",
    "im3 = Image.open(im3_path)\n",
    "type(im3)\n",
    "#im3"
   ]
  },
  {
   "cell_type": "markdown",
   "metadata": {},
   "source": [
    "> Note: 'Image' class id from The Python Imaging Library (PIL)"
   ]
  },
  {
   "cell_type": "code",
   "execution_count": 17,
   "metadata": {},
   "outputs": [
    {
     "data": {
      "text/plain": [
       "array([[  0,   0,   0,   0,   0,   0],\n",
       "       [  0,   0,   0,   0,   0,  29],\n",
       "       [  0,   0,   0,  48, 166, 224],\n",
       "       [  0,  93, 244, 249, 253, 187],\n",
       "       [  0, 107, 253, 253, 230,  48],\n",
       "       [  0,   3,  20,  20,  15,   0]], dtype=uint8)"
      ]
     },
     "execution_count": 17,
     "metadata": {},
     "output_type": "execute_result"
    }
   ],
   "source": [
    "array(im3)[4:10,4:10]"
   ]
  },
  {
   "cell_type": "markdown",
   "metadata": {},
   "source": [
    "> Note: this is how it looks  some part of the image in the NumPy array"
   ]
  },
  {
   "cell_type": "markdown",
   "metadata": {},
   "source": [
    "The 4:10 indicates we requested the rows from index 4 (included) to 10 (not included) and the same for the columns. NumPy indexes from top to bottom and left to right, so this section is located in the top-left corner of the image. Here's the same thing as a PyTorch tensor:\n"
   ]
  },
  {
   "cell_type": "code",
   "execution_count": 18,
   "metadata": {},
   "outputs": [
    {
     "data": {
      "text/plain": [
       "tensor([[  0,   0,   0,   0,   0,   0],\n",
       "        [  0,   0,   0,   0,   0,  29],\n",
       "        [  0,   0,   0,  48, 166, 224],\n",
       "        [  0,  93, 244, 249, 253, 187],\n",
       "        [  0, 107, 253, 253, 230,  48],\n",
       "        [  0,   3,  20,  20,  15,   0]], dtype=torch.uint8)"
      ]
     },
     "execution_count": 18,
     "metadata": {},
     "output_type": "execute_result"
    }
   ],
   "source": [
    "tensor(im3)[4:10,4:10]"
   ]
  },
  {
   "cell_type": "markdown",
   "metadata": {},
   "source": [
    "> Note: It is possible to convert it to a tansor as well."
   ]
  },
  {
   "cell_type": "code",
   "execution_count": 19,
   "metadata": {
    "scrolled": true
   },
   "outputs": [
    {
     "data": {
      "text/html": [
       "<style  type=\"text/css\" >\n",
       "#T_38fd4_row0_col0,#T_38fd4_row0_col1,#T_38fd4_row0_col2,#T_38fd4_row0_col3,#T_38fd4_row0_col4,#T_38fd4_row0_col5,#T_38fd4_row0_col6,#T_38fd4_row0_col7,#T_38fd4_row0_col8,#T_38fd4_row0_col9,#T_38fd4_row0_col10,#T_38fd4_row0_col11,#T_38fd4_row0_col12,#T_38fd4_row0_col13,#T_38fd4_row0_col14,#T_38fd4_row0_col15,#T_38fd4_row0_col16,#T_38fd4_row0_col17,#T_38fd4_row1_col0,#T_38fd4_row1_col1,#T_38fd4_row1_col2,#T_38fd4_row1_col3,#T_38fd4_row1_col4,#T_38fd4_row1_col15,#T_38fd4_row1_col16,#T_38fd4_row1_col17,#T_38fd4_row2_col0,#T_38fd4_row2_col1,#T_38fd4_row2_col2,#T_38fd4_row2_col15,#T_38fd4_row2_col16,#T_38fd4_row2_col17,#T_38fd4_row3_col0,#T_38fd4_row3_col15,#T_38fd4_row3_col16,#T_38fd4_row3_col17,#T_38fd4_row4_col0,#T_38fd4_row4_col6,#T_38fd4_row4_col7,#T_38fd4_row4_col8,#T_38fd4_row4_col9,#T_38fd4_row4_col10,#T_38fd4_row4_col15,#T_38fd4_row4_col16,#T_38fd4_row4_col17,#T_38fd4_row5_col0,#T_38fd4_row5_col5,#T_38fd4_row5_col6,#T_38fd4_row5_col7,#T_38fd4_row5_col8,#T_38fd4_row5_col9,#T_38fd4_row5_col15,#T_38fd4_row5_col16,#T_38fd4_row5_col17,#T_38fd4_row6_col0,#T_38fd4_row6_col1,#T_38fd4_row6_col2,#T_38fd4_row6_col3,#T_38fd4_row6_col4,#T_38fd4_row6_col5,#T_38fd4_row6_col6,#T_38fd4_row6_col7,#T_38fd4_row6_col8,#T_38fd4_row6_col9,#T_38fd4_row6_col14,#T_38fd4_row6_col15,#T_38fd4_row6_col16,#T_38fd4_row6_col17,#T_38fd4_row7_col0,#T_38fd4_row7_col1,#T_38fd4_row7_col2,#T_38fd4_row7_col3,#T_38fd4_row7_col4,#T_38fd4_row7_col5,#T_38fd4_row7_col6,#T_38fd4_row7_col13,#T_38fd4_row7_col14,#T_38fd4_row7_col15,#T_38fd4_row7_col16,#T_38fd4_row7_col17,#T_38fd4_row8_col0,#T_38fd4_row8_col1,#T_38fd4_row8_col2,#T_38fd4_row8_col3,#T_38fd4_row8_col4,#T_38fd4_row8_col13,#T_38fd4_row8_col14,#T_38fd4_row8_col15,#T_38fd4_row8_col16,#T_38fd4_row8_col17,#T_38fd4_row9_col0,#T_38fd4_row9_col1,#T_38fd4_row9_col2,#T_38fd4_row9_col3,#T_38fd4_row9_col4,#T_38fd4_row9_col16,#T_38fd4_row9_col17,#T_38fd4_row10_col0,#T_38fd4_row10_col1,#T_38fd4_row10_col2,#T_38fd4_row10_col3,#T_38fd4_row10_col4,#T_38fd4_row10_col5,#T_38fd4_row10_col6,#T_38fd4_row10_col17{\n",
       "            font-size:  6pt;\n",
       "            background-color:  #fff7ec;\n",
       "            color:  #000000;\n",
       "        }#T_38fd4_row1_col5{\n",
       "            font-size:  6pt;\n",
       "            background-color:  #fee7c7;\n",
       "            color:  #000000;\n",
       "        }#T_38fd4_row1_col6,#T_38fd4_row1_col13{\n",
       "            font-size:  6pt;\n",
       "            background-color:  #f2704c;\n",
       "            color:  #000000;\n",
       "        }#T_38fd4_row1_col7{\n",
       "            font-size:  6pt;\n",
       "            background-color:  #d12719;\n",
       "            color:  #f1f1f1;\n",
       "        }#T_38fd4_row1_col8,#T_38fd4_row1_col9,#T_38fd4_row1_col10,#T_38fd4_row2_col5,#T_38fd4_row2_col6,#T_38fd4_row2_col7,#T_38fd4_row2_col11,#T_38fd4_row2_col12,#T_38fd4_row2_col13,#T_38fd4_row3_col4,#T_38fd4_row3_col12,#T_38fd4_row3_col13,#T_38fd4_row4_col1,#T_38fd4_row4_col2,#T_38fd4_row4_col3,#T_38fd4_row4_col12,#T_38fd4_row4_col13,#T_38fd4_row5_col12,#T_38fd4_row6_col11,#T_38fd4_row9_col11,#T_38fd4_row10_col11,#T_38fd4_row10_col12,#T_38fd4_row10_col13,#T_38fd4_row10_col14,#T_38fd4_row10_col15,#T_38fd4_row10_col16{\n",
       "            font-size:  6pt;\n",
       "            background-color:  #7f0000;\n",
       "            color:  #f1f1f1;\n",
       "        }#T_38fd4_row1_col11{\n",
       "            font-size:  6pt;\n",
       "            background-color:  #e14630;\n",
       "            color:  #f1f1f1;\n",
       "        }#T_38fd4_row1_col12{\n",
       "            font-size:  6pt;\n",
       "            background-color:  #d32a1b;\n",
       "            color:  #f1f1f1;\n",
       "        }#T_38fd4_row1_col14{\n",
       "            font-size:  6pt;\n",
       "            background-color:  #fdb982;\n",
       "            color:  #000000;\n",
       "        }#T_38fd4_row2_col3{\n",
       "            font-size:  6pt;\n",
       "            background-color:  #fddeb3;\n",
       "            color:  #000000;\n",
       "        }#T_38fd4_row2_col4,#T_38fd4_row8_col6{\n",
       "            font-size:  6pt;\n",
       "            background-color:  #e9583e;\n",
       "            color:  #000000;\n",
       "        }#T_38fd4_row2_col8,#T_38fd4_row2_col14,#T_38fd4_row3_col14{\n",
       "            font-size:  6pt;\n",
       "            background-color:  #a00000;\n",
       "            color:  #f1f1f1;\n",
       "        }#T_38fd4_row2_col9,#T_38fd4_row3_col11{\n",
       "            font-size:  6pt;\n",
       "            background-color:  #d2291a;\n",
       "            color:  #f1f1f1;\n",
       "        }#T_38fd4_row2_col10,#T_38fd4_row7_col10,#T_38fd4_row8_col8,#T_38fd4_row8_col10,#T_38fd4_row9_col8,#T_38fd4_row9_col10{\n",
       "            font-size:  6pt;\n",
       "            background-color:  #810000;\n",
       "            color:  #f1f1f1;\n",
       "        }#T_38fd4_row3_col1{\n",
       "            font-size:  6pt;\n",
       "            background-color:  #b40201;\n",
       "            color:  #f1f1f1;\n",
       "        }#T_38fd4_row3_col2{\n",
       "            font-size:  6pt;\n",
       "            background-color:  #8e0000;\n",
       "            color:  #f1f1f1;\n",
       "        }#T_38fd4_row3_col3{\n",
       "            font-size:  6pt;\n",
       "            background-color:  #860000;\n",
       "            color:  #f1f1f1;\n",
       "        }#T_38fd4_row3_col5{\n",
       "            font-size:  6pt;\n",
       "            background-color:  #be0f0a;\n",
       "            color:  #f1f1f1;\n",
       "        }#T_38fd4_row3_col6{\n",
       "            font-size:  6pt;\n",
       "            background-color:  #fedfb5;\n",
       "            color:  #000000;\n",
       "        }#T_38fd4_row3_col7,#T_38fd4_row3_col10{\n",
       "            font-size:  6pt;\n",
       "            background-color:  #fff2e1;\n",
       "            color:  #000000;\n",
       "        }#T_38fd4_row3_col8{\n",
       "            font-size:  6pt;\n",
       "            background-color:  #fff3e3;\n",
       "            color:  #000000;\n",
       "        }#T_38fd4_row3_col9{\n",
       "            font-size:  6pt;\n",
       "            background-color:  #fff5e7;\n",
       "            color:  #000000;\n",
       "        }#T_38fd4_row4_col4{\n",
       "            font-size:  6pt;\n",
       "            background-color:  #a50000;\n",
       "            color:  #f1f1f1;\n",
       "        }#T_38fd4_row4_col5{\n",
       "            font-size:  6pt;\n",
       "            background-color:  #fddaab;\n",
       "            color:  #000000;\n",
       "        }#T_38fd4_row4_col11{\n",
       "            font-size:  6pt;\n",
       "            background-color:  #d42c1c;\n",
       "            color:  #f1f1f1;\n",
       "        }#T_38fd4_row4_col14{\n",
       "            font-size:  6pt;\n",
       "            background-color:  #f06849;\n",
       "            color:  #000000;\n",
       "        }#T_38fd4_row5_col1{\n",
       "            font-size:  6pt;\n",
       "            background-color:  #fff4e4;\n",
       "            color:  #000000;\n",
       "        }#T_38fd4_row5_col2,#T_38fd4_row5_col3{\n",
       "            font-size:  6pt;\n",
       "            background-color:  #feeed5;\n",
       "            color:  #000000;\n",
       "        }#T_38fd4_row5_col4{\n",
       "            font-size:  6pt;\n",
       "            background-color:  #fff0db;\n",
       "            color:  #000000;\n",
       "        }#T_38fd4_row5_col10,#T_38fd4_row10_col7{\n",
       "            font-size:  6pt;\n",
       "            background-color:  #fee1b9;\n",
       "            color:  #000000;\n",
       "        }#T_38fd4_row5_col11{\n",
       "            font-size:  6pt;\n",
       "            background-color:  #ae0000;\n",
       "            color:  #f1f1f1;\n",
       "        }#T_38fd4_row5_col13,#T_38fd4_row6_col12{\n",
       "            font-size:  6pt;\n",
       "            background-color:  #8c0000;\n",
       "            color:  #f1f1f1;\n",
       "        }#T_38fd4_row5_col14{\n",
       "            font-size:  6pt;\n",
       "            background-color:  #fdcc96;\n",
       "            color:  #000000;\n",
       "        }#T_38fd4_row6_col10,#T_38fd4_row7_col11,#T_38fd4_row9_col6{\n",
       "            font-size:  6pt;\n",
       "            background-color:  #870000;\n",
       "            color:  #f1f1f1;\n",
       "        }#T_38fd4_row6_col13{\n",
       "            font-size:  6pt;\n",
       "            background-color:  #fc8e5a;\n",
       "            color:  #000000;\n",
       "        }#T_38fd4_row7_col7{\n",
       "            font-size:  6pt;\n",
       "            background-color:  #fff0dc;\n",
       "            color:  #000000;\n",
       "        }#T_38fd4_row7_col8{\n",
       "            font-size:  6pt;\n",
       "            background-color:  #fdb37d;\n",
       "            color:  #000000;\n",
       "        }#T_38fd4_row7_col9{\n",
       "            font-size:  6pt;\n",
       "            background-color:  #b30000;\n",
       "            color:  #f1f1f1;\n",
       "        }#T_38fd4_row7_col12{\n",
       "            font-size:  6pt;\n",
       "            background-color:  #fc915c;\n",
       "            color:  #000000;\n",
       "        }#T_38fd4_row8_col5{\n",
       "            font-size:  6pt;\n",
       "            background-color:  #fff1de;\n",
       "            color:  #000000;\n",
       "        }#T_38fd4_row8_col7{\n",
       "            font-size:  6pt;\n",
       "            background-color:  #960000;\n",
       "            color:  #f1f1f1;\n",
       "        }#T_38fd4_row8_col9,#T_38fd4_row9_col9{\n",
       "            font-size:  6pt;\n",
       "            background-color:  #820000;\n",
       "            color:  #f1f1f1;\n",
       "        }#T_38fd4_row8_col11{\n",
       "            font-size:  6pt;\n",
       "            background-color:  #d93422;\n",
       "            color:  #f1f1f1;\n",
       "        }#T_38fd4_row8_col12{\n",
       "            font-size:  6pt;\n",
       "            background-color:  #fee9ca;\n",
       "            color:  #000000;\n",
       "        }#T_38fd4_row9_col5{\n",
       "            font-size:  6pt;\n",
       "            background-color:  #feefd8;\n",
       "            color:  #000000;\n",
       "        }#T_38fd4_row9_col7{\n",
       "            font-size:  6pt;\n",
       "            background-color:  #840000;\n",
       "            color:  #f1f1f1;\n",
       "        }#T_38fd4_row9_col12{\n",
       "            font-size:  6pt;\n",
       "            background-color:  #a10000;\n",
       "            color:  #f1f1f1;\n",
       "        }#T_38fd4_row9_col13{\n",
       "            font-size:  6pt;\n",
       "            background-color:  #bc0c08;\n",
       "            color:  #f1f1f1;\n",
       "        }#T_38fd4_row9_col14{\n",
       "            font-size:  6pt;\n",
       "            background-color:  #fca36e;\n",
       "            color:  #000000;\n",
       "        }#T_38fd4_row9_col15{\n",
       "            font-size:  6pt;\n",
       "            background-color:  #fff6ea;\n",
       "            color:  #000000;\n",
       "        }#T_38fd4_row10_col8,#T_38fd4_row10_col9{\n",
       "            font-size:  6pt;\n",
       "            background-color:  #fdb881;\n",
       "            color:  #000000;\n",
       "        }#T_38fd4_row10_col10{\n",
       "            font-size:  6pt;\n",
       "            background-color:  #c3150e;\n",
       "            color:  #f1f1f1;\n",
       "        }</style><table id=\"T_38fd4_\" ><thead>    <tr>        <th class=\"blank level0\" ></th>        <th class=\"col_heading level0 col0\" >0</th>        <th class=\"col_heading level0 col1\" >1</th>        <th class=\"col_heading level0 col2\" >2</th>        <th class=\"col_heading level0 col3\" >3</th>        <th class=\"col_heading level0 col4\" >4</th>        <th class=\"col_heading level0 col5\" >5</th>        <th class=\"col_heading level0 col6\" >6</th>        <th class=\"col_heading level0 col7\" >7</th>        <th class=\"col_heading level0 col8\" >8</th>        <th class=\"col_heading level0 col9\" >9</th>        <th class=\"col_heading level0 col10\" >10</th>        <th class=\"col_heading level0 col11\" >11</th>        <th class=\"col_heading level0 col12\" >12</th>        <th class=\"col_heading level0 col13\" >13</th>        <th class=\"col_heading level0 col14\" >14</th>        <th class=\"col_heading level0 col15\" >15</th>        <th class=\"col_heading level0 col16\" >16</th>        <th class=\"col_heading level0 col17\" >17</th>    </tr></thead><tbody>\n",
       "                <tr>\n",
       "                        <th id=\"T_38fd4_level0_row0\" class=\"row_heading level0 row0\" >0</th>\n",
       "                        <td id=\"T_38fd4_row0_col0\" class=\"data row0 col0\" >0</td>\n",
       "                        <td id=\"T_38fd4_row0_col1\" class=\"data row0 col1\" >0</td>\n",
       "                        <td id=\"T_38fd4_row0_col2\" class=\"data row0 col2\" >0</td>\n",
       "                        <td id=\"T_38fd4_row0_col3\" class=\"data row0 col3\" >0</td>\n",
       "                        <td id=\"T_38fd4_row0_col4\" class=\"data row0 col4\" >0</td>\n",
       "                        <td id=\"T_38fd4_row0_col5\" class=\"data row0 col5\" >0</td>\n",
       "                        <td id=\"T_38fd4_row0_col6\" class=\"data row0 col6\" >0</td>\n",
       "                        <td id=\"T_38fd4_row0_col7\" class=\"data row0 col7\" >0</td>\n",
       "                        <td id=\"T_38fd4_row0_col8\" class=\"data row0 col8\" >0</td>\n",
       "                        <td id=\"T_38fd4_row0_col9\" class=\"data row0 col9\" >0</td>\n",
       "                        <td id=\"T_38fd4_row0_col10\" class=\"data row0 col10\" >0</td>\n",
       "                        <td id=\"T_38fd4_row0_col11\" class=\"data row0 col11\" >0</td>\n",
       "                        <td id=\"T_38fd4_row0_col12\" class=\"data row0 col12\" >0</td>\n",
       "                        <td id=\"T_38fd4_row0_col13\" class=\"data row0 col13\" >0</td>\n",
       "                        <td id=\"T_38fd4_row0_col14\" class=\"data row0 col14\" >0</td>\n",
       "                        <td id=\"T_38fd4_row0_col15\" class=\"data row0 col15\" >0</td>\n",
       "                        <td id=\"T_38fd4_row0_col16\" class=\"data row0 col16\" >0</td>\n",
       "                        <td id=\"T_38fd4_row0_col17\" class=\"data row0 col17\" >0</td>\n",
       "            </tr>\n",
       "            <tr>\n",
       "                        <th id=\"T_38fd4_level0_row1\" class=\"row_heading level0 row1\" >1</th>\n",
       "                        <td id=\"T_38fd4_row1_col0\" class=\"data row1 col0\" >0</td>\n",
       "                        <td id=\"T_38fd4_row1_col1\" class=\"data row1 col1\" >0</td>\n",
       "                        <td id=\"T_38fd4_row1_col2\" class=\"data row1 col2\" >0</td>\n",
       "                        <td id=\"T_38fd4_row1_col3\" class=\"data row1 col3\" >0</td>\n",
       "                        <td id=\"T_38fd4_row1_col4\" class=\"data row1 col4\" >0</td>\n",
       "                        <td id=\"T_38fd4_row1_col5\" class=\"data row1 col5\" >29</td>\n",
       "                        <td id=\"T_38fd4_row1_col6\" class=\"data row1 col6\" >150</td>\n",
       "                        <td id=\"T_38fd4_row1_col7\" class=\"data row1 col7\" >195</td>\n",
       "                        <td id=\"T_38fd4_row1_col8\" class=\"data row1 col8\" >254</td>\n",
       "                        <td id=\"T_38fd4_row1_col9\" class=\"data row1 col9\" >255</td>\n",
       "                        <td id=\"T_38fd4_row1_col10\" class=\"data row1 col10\" >254</td>\n",
       "                        <td id=\"T_38fd4_row1_col11\" class=\"data row1 col11\" >176</td>\n",
       "                        <td id=\"T_38fd4_row1_col12\" class=\"data row1 col12\" >193</td>\n",
       "                        <td id=\"T_38fd4_row1_col13\" class=\"data row1 col13\" >150</td>\n",
       "                        <td id=\"T_38fd4_row1_col14\" class=\"data row1 col14\" >96</td>\n",
       "                        <td id=\"T_38fd4_row1_col15\" class=\"data row1 col15\" >0</td>\n",
       "                        <td id=\"T_38fd4_row1_col16\" class=\"data row1 col16\" >0</td>\n",
       "                        <td id=\"T_38fd4_row1_col17\" class=\"data row1 col17\" >0</td>\n",
       "            </tr>\n",
       "            <tr>\n",
       "                        <th id=\"T_38fd4_level0_row2\" class=\"row_heading level0 row2\" >2</th>\n",
       "                        <td id=\"T_38fd4_row2_col0\" class=\"data row2 col0\" >0</td>\n",
       "                        <td id=\"T_38fd4_row2_col1\" class=\"data row2 col1\" >0</td>\n",
       "                        <td id=\"T_38fd4_row2_col2\" class=\"data row2 col2\" >0</td>\n",
       "                        <td id=\"T_38fd4_row2_col3\" class=\"data row2 col3\" >48</td>\n",
       "                        <td id=\"T_38fd4_row2_col4\" class=\"data row2 col4\" >166</td>\n",
       "                        <td id=\"T_38fd4_row2_col5\" class=\"data row2 col5\" >224</td>\n",
       "                        <td id=\"T_38fd4_row2_col6\" class=\"data row2 col6\" >253</td>\n",
       "                        <td id=\"T_38fd4_row2_col7\" class=\"data row2 col7\" >253</td>\n",
       "                        <td id=\"T_38fd4_row2_col8\" class=\"data row2 col8\" >234</td>\n",
       "                        <td id=\"T_38fd4_row2_col9\" class=\"data row2 col9\" >196</td>\n",
       "                        <td id=\"T_38fd4_row2_col10\" class=\"data row2 col10\" >253</td>\n",
       "                        <td id=\"T_38fd4_row2_col11\" class=\"data row2 col11\" >253</td>\n",
       "                        <td id=\"T_38fd4_row2_col12\" class=\"data row2 col12\" >253</td>\n",
       "                        <td id=\"T_38fd4_row2_col13\" class=\"data row2 col13\" >253</td>\n",
       "                        <td id=\"T_38fd4_row2_col14\" class=\"data row2 col14\" >233</td>\n",
       "                        <td id=\"T_38fd4_row2_col15\" class=\"data row2 col15\" >0</td>\n",
       "                        <td id=\"T_38fd4_row2_col16\" class=\"data row2 col16\" >0</td>\n",
       "                        <td id=\"T_38fd4_row2_col17\" class=\"data row2 col17\" >0</td>\n",
       "            </tr>\n",
       "            <tr>\n",
       "                        <th id=\"T_38fd4_level0_row3\" class=\"row_heading level0 row3\" >3</th>\n",
       "                        <td id=\"T_38fd4_row3_col0\" class=\"data row3 col0\" >0</td>\n",
       "                        <td id=\"T_38fd4_row3_col1\" class=\"data row3 col1\" >93</td>\n",
       "                        <td id=\"T_38fd4_row3_col2\" class=\"data row3 col2\" >244</td>\n",
       "                        <td id=\"T_38fd4_row3_col3\" class=\"data row3 col3\" >249</td>\n",
       "                        <td id=\"T_38fd4_row3_col4\" class=\"data row3 col4\" >253</td>\n",
       "                        <td id=\"T_38fd4_row3_col5\" class=\"data row3 col5\" >187</td>\n",
       "                        <td id=\"T_38fd4_row3_col6\" class=\"data row3 col6\" >46</td>\n",
       "                        <td id=\"T_38fd4_row3_col7\" class=\"data row3 col7\" >10</td>\n",
       "                        <td id=\"T_38fd4_row3_col8\" class=\"data row3 col8\" >8</td>\n",
       "                        <td id=\"T_38fd4_row3_col9\" class=\"data row3 col9\" >4</td>\n",
       "                        <td id=\"T_38fd4_row3_col10\" class=\"data row3 col10\" >10</td>\n",
       "                        <td id=\"T_38fd4_row3_col11\" class=\"data row3 col11\" >194</td>\n",
       "                        <td id=\"T_38fd4_row3_col12\" class=\"data row3 col12\" >253</td>\n",
       "                        <td id=\"T_38fd4_row3_col13\" class=\"data row3 col13\" >253</td>\n",
       "                        <td id=\"T_38fd4_row3_col14\" class=\"data row3 col14\" >233</td>\n",
       "                        <td id=\"T_38fd4_row3_col15\" class=\"data row3 col15\" >0</td>\n",
       "                        <td id=\"T_38fd4_row3_col16\" class=\"data row3 col16\" >0</td>\n",
       "                        <td id=\"T_38fd4_row3_col17\" class=\"data row3 col17\" >0</td>\n",
       "            </tr>\n",
       "            <tr>\n",
       "                        <th id=\"T_38fd4_level0_row4\" class=\"row_heading level0 row4\" >4</th>\n",
       "                        <td id=\"T_38fd4_row4_col0\" class=\"data row4 col0\" >0</td>\n",
       "                        <td id=\"T_38fd4_row4_col1\" class=\"data row4 col1\" >107</td>\n",
       "                        <td id=\"T_38fd4_row4_col2\" class=\"data row4 col2\" >253</td>\n",
       "                        <td id=\"T_38fd4_row4_col3\" class=\"data row4 col3\" >253</td>\n",
       "                        <td id=\"T_38fd4_row4_col4\" class=\"data row4 col4\" >230</td>\n",
       "                        <td id=\"T_38fd4_row4_col5\" class=\"data row4 col5\" >48</td>\n",
       "                        <td id=\"T_38fd4_row4_col6\" class=\"data row4 col6\" >0</td>\n",
       "                        <td id=\"T_38fd4_row4_col7\" class=\"data row4 col7\" >0</td>\n",
       "                        <td id=\"T_38fd4_row4_col8\" class=\"data row4 col8\" >0</td>\n",
       "                        <td id=\"T_38fd4_row4_col9\" class=\"data row4 col9\" >0</td>\n",
       "                        <td id=\"T_38fd4_row4_col10\" class=\"data row4 col10\" >0</td>\n",
       "                        <td id=\"T_38fd4_row4_col11\" class=\"data row4 col11\" >192</td>\n",
       "                        <td id=\"T_38fd4_row4_col12\" class=\"data row4 col12\" >253</td>\n",
       "                        <td id=\"T_38fd4_row4_col13\" class=\"data row4 col13\" >253</td>\n",
       "                        <td id=\"T_38fd4_row4_col14\" class=\"data row4 col14\" >156</td>\n",
       "                        <td id=\"T_38fd4_row4_col15\" class=\"data row4 col15\" >0</td>\n",
       "                        <td id=\"T_38fd4_row4_col16\" class=\"data row4 col16\" >0</td>\n",
       "                        <td id=\"T_38fd4_row4_col17\" class=\"data row4 col17\" >0</td>\n",
       "            </tr>\n",
       "            <tr>\n",
       "                        <th id=\"T_38fd4_level0_row5\" class=\"row_heading level0 row5\" >5</th>\n",
       "                        <td id=\"T_38fd4_row5_col0\" class=\"data row5 col0\" >0</td>\n",
       "                        <td id=\"T_38fd4_row5_col1\" class=\"data row5 col1\" >3</td>\n",
       "                        <td id=\"T_38fd4_row5_col2\" class=\"data row5 col2\" >20</td>\n",
       "                        <td id=\"T_38fd4_row5_col3\" class=\"data row5 col3\" >20</td>\n",
       "                        <td id=\"T_38fd4_row5_col4\" class=\"data row5 col4\" >15</td>\n",
       "                        <td id=\"T_38fd4_row5_col5\" class=\"data row5 col5\" >0</td>\n",
       "                        <td id=\"T_38fd4_row5_col6\" class=\"data row5 col6\" >0</td>\n",
       "                        <td id=\"T_38fd4_row5_col7\" class=\"data row5 col7\" >0</td>\n",
       "                        <td id=\"T_38fd4_row5_col8\" class=\"data row5 col8\" >0</td>\n",
       "                        <td id=\"T_38fd4_row5_col9\" class=\"data row5 col9\" >0</td>\n",
       "                        <td id=\"T_38fd4_row5_col10\" class=\"data row5 col10\" >43</td>\n",
       "                        <td id=\"T_38fd4_row5_col11\" class=\"data row5 col11\" >224</td>\n",
       "                        <td id=\"T_38fd4_row5_col12\" class=\"data row5 col12\" >253</td>\n",
       "                        <td id=\"T_38fd4_row5_col13\" class=\"data row5 col13\" >245</td>\n",
       "                        <td id=\"T_38fd4_row5_col14\" class=\"data row5 col14\" >74</td>\n",
       "                        <td id=\"T_38fd4_row5_col15\" class=\"data row5 col15\" >0</td>\n",
       "                        <td id=\"T_38fd4_row5_col16\" class=\"data row5 col16\" >0</td>\n",
       "                        <td id=\"T_38fd4_row5_col17\" class=\"data row5 col17\" >0</td>\n",
       "            </tr>\n",
       "            <tr>\n",
       "                        <th id=\"T_38fd4_level0_row6\" class=\"row_heading level0 row6\" >6</th>\n",
       "                        <td id=\"T_38fd4_row6_col0\" class=\"data row6 col0\" >0</td>\n",
       "                        <td id=\"T_38fd4_row6_col1\" class=\"data row6 col1\" >0</td>\n",
       "                        <td id=\"T_38fd4_row6_col2\" class=\"data row6 col2\" >0</td>\n",
       "                        <td id=\"T_38fd4_row6_col3\" class=\"data row6 col3\" >0</td>\n",
       "                        <td id=\"T_38fd4_row6_col4\" class=\"data row6 col4\" >0</td>\n",
       "                        <td id=\"T_38fd4_row6_col5\" class=\"data row6 col5\" >0</td>\n",
       "                        <td id=\"T_38fd4_row6_col6\" class=\"data row6 col6\" >0</td>\n",
       "                        <td id=\"T_38fd4_row6_col7\" class=\"data row6 col7\" >0</td>\n",
       "                        <td id=\"T_38fd4_row6_col8\" class=\"data row6 col8\" >0</td>\n",
       "                        <td id=\"T_38fd4_row6_col9\" class=\"data row6 col9\" >0</td>\n",
       "                        <td id=\"T_38fd4_row6_col10\" class=\"data row6 col10\" >249</td>\n",
       "                        <td id=\"T_38fd4_row6_col11\" class=\"data row6 col11\" >253</td>\n",
       "                        <td id=\"T_38fd4_row6_col12\" class=\"data row6 col12\" >245</td>\n",
       "                        <td id=\"T_38fd4_row6_col13\" class=\"data row6 col13\" >126</td>\n",
       "                        <td id=\"T_38fd4_row6_col14\" class=\"data row6 col14\" >0</td>\n",
       "                        <td id=\"T_38fd4_row6_col15\" class=\"data row6 col15\" >0</td>\n",
       "                        <td id=\"T_38fd4_row6_col16\" class=\"data row6 col16\" >0</td>\n",
       "                        <td id=\"T_38fd4_row6_col17\" class=\"data row6 col17\" >0</td>\n",
       "            </tr>\n",
       "            <tr>\n",
       "                        <th id=\"T_38fd4_level0_row7\" class=\"row_heading level0 row7\" >7</th>\n",
       "                        <td id=\"T_38fd4_row7_col0\" class=\"data row7 col0\" >0</td>\n",
       "                        <td id=\"T_38fd4_row7_col1\" class=\"data row7 col1\" >0</td>\n",
       "                        <td id=\"T_38fd4_row7_col2\" class=\"data row7 col2\" >0</td>\n",
       "                        <td id=\"T_38fd4_row7_col3\" class=\"data row7 col3\" >0</td>\n",
       "                        <td id=\"T_38fd4_row7_col4\" class=\"data row7 col4\" >0</td>\n",
       "                        <td id=\"T_38fd4_row7_col5\" class=\"data row7 col5\" >0</td>\n",
       "                        <td id=\"T_38fd4_row7_col6\" class=\"data row7 col6\" >0</td>\n",
       "                        <td id=\"T_38fd4_row7_col7\" class=\"data row7 col7\" >14</td>\n",
       "                        <td id=\"T_38fd4_row7_col8\" class=\"data row7 col8\" >101</td>\n",
       "                        <td id=\"T_38fd4_row7_col9\" class=\"data row7 col9\" >223</td>\n",
       "                        <td id=\"T_38fd4_row7_col10\" class=\"data row7 col10\" >253</td>\n",
       "                        <td id=\"T_38fd4_row7_col11\" class=\"data row7 col11\" >248</td>\n",
       "                        <td id=\"T_38fd4_row7_col12\" class=\"data row7 col12\" >124</td>\n",
       "                        <td id=\"T_38fd4_row7_col13\" class=\"data row7 col13\" >0</td>\n",
       "                        <td id=\"T_38fd4_row7_col14\" class=\"data row7 col14\" >0</td>\n",
       "                        <td id=\"T_38fd4_row7_col15\" class=\"data row7 col15\" >0</td>\n",
       "                        <td id=\"T_38fd4_row7_col16\" class=\"data row7 col16\" >0</td>\n",
       "                        <td id=\"T_38fd4_row7_col17\" class=\"data row7 col17\" >0</td>\n",
       "            </tr>\n",
       "            <tr>\n",
       "                        <th id=\"T_38fd4_level0_row8\" class=\"row_heading level0 row8\" >8</th>\n",
       "                        <td id=\"T_38fd4_row8_col0\" class=\"data row8 col0\" >0</td>\n",
       "                        <td id=\"T_38fd4_row8_col1\" class=\"data row8 col1\" >0</td>\n",
       "                        <td id=\"T_38fd4_row8_col2\" class=\"data row8 col2\" >0</td>\n",
       "                        <td id=\"T_38fd4_row8_col3\" class=\"data row8 col3\" >0</td>\n",
       "                        <td id=\"T_38fd4_row8_col4\" class=\"data row8 col4\" >0</td>\n",
       "                        <td id=\"T_38fd4_row8_col5\" class=\"data row8 col5\" >11</td>\n",
       "                        <td id=\"T_38fd4_row8_col6\" class=\"data row8 col6\" >166</td>\n",
       "                        <td id=\"T_38fd4_row8_col7\" class=\"data row8 col7\" >239</td>\n",
       "                        <td id=\"T_38fd4_row8_col8\" class=\"data row8 col8\" >253</td>\n",
       "                        <td id=\"T_38fd4_row8_col9\" class=\"data row8 col9\" >253</td>\n",
       "                        <td id=\"T_38fd4_row8_col10\" class=\"data row8 col10\" >253</td>\n",
       "                        <td id=\"T_38fd4_row8_col11\" class=\"data row8 col11\" >187</td>\n",
       "                        <td id=\"T_38fd4_row8_col12\" class=\"data row8 col12\" >30</td>\n",
       "                        <td id=\"T_38fd4_row8_col13\" class=\"data row8 col13\" >0</td>\n",
       "                        <td id=\"T_38fd4_row8_col14\" class=\"data row8 col14\" >0</td>\n",
       "                        <td id=\"T_38fd4_row8_col15\" class=\"data row8 col15\" >0</td>\n",
       "                        <td id=\"T_38fd4_row8_col16\" class=\"data row8 col16\" >0</td>\n",
       "                        <td id=\"T_38fd4_row8_col17\" class=\"data row8 col17\" >0</td>\n",
       "            </tr>\n",
       "            <tr>\n",
       "                        <th id=\"T_38fd4_level0_row9\" class=\"row_heading level0 row9\" >9</th>\n",
       "                        <td id=\"T_38fd4_row9_col0\" class=\"data row9 col0\" >0</td>\n",
       "                        <td id=\"T_38fd4_row9_col1\" class=\"data row9 col1\" >0</td>\n",
       "                        <td id=\"T_38fd4_row9_col2\" class=\"data row9 col2\" >0</td>\n",
       "                        <td id=\"T_38fd4_row9_col3\" class=\"data row9 col3\" >0</td>\n",
       "                        <td id=\"T_38fd4_row9_col4\" class=\"data row9 col4\" >0</td>\n",
       "                        <td id=\"T_38fd4_row9_col5\" class=\"data row9 col5\" >16</td>\n",
       "                        <td id=\"T_38fd4_row9_col6\" class=\"data row9 col6\" >248</td>\n",
       "                        <td id=\"T_38fd4_row9_col7\" class=\"data row9 col7\" >250</td>\n",
       "                        <td id=\"T_38fd4_row9_col8\" class=\"data row9 col8\" >253</td>\n",
       "                        <td id=\"T_38fd4_row9_col9\" class=\"data row9 col9\" >253</td>\n",
       "                        <td id=\"T_38fd4_row9_col10\" class=\"data row9 col10\" >253</td>\n",
       "                        <td id=\"T_38fd4_row9_col11\" class=\"data row9 col11\" >253</td>\n",
       "                        <td id=\"T_38fd4_row9_col12\" class=\"data row9 col12\" >232</td>\n",
       "                        <td id=\"T_38fd4_row9_col13\" class=\"data row9 col13\" >213</td>\n",
       "                        <td id=\"T_38fd4_row9_col14\" class=\"data row9 col14\" >111</td>\n",
       "                        <td id=\"T_38fd4_row9_col15\" class=\"data row9 col15\" >2</td>\n",
       "                        <td id=\"T_38fd4_row9_col16\" class=\"data row9 col16\" >0</td>\n",
       "                        <td id=\"T_38fd4_row9_col17\" class=\"data row9 col17\" >0</td>\n",
       "            </tr>\n",
       "            <tr>\n",
       "                        <th id=\"T_38fd4_level0_row10\" class=\"row_heading level0 row10\" >10</th>\n",
       "                        <td id=\"T_38fd4_row10_col0\" class=\"data row10 col0\" >0</td>\n",
       "                        <td id=\"T_38fd4_row10_col1\" class=\"data row10 col1\" >0</td>\n",
       "                        <td id=\"T_38fd4_row10_col2\" class=\"data row10 col2\" >0</td>\n",
       "                        <td id=\"T_38fd4_row10_col3\" class=\"data row10 col3\" >0</td>\n",
       "                        <td id=\"T_38fd4_row10_col4\" class=\"data row10 col4\" >0</td>\n",
       "                        <td id=\"T_38fd4_row10_col5\" class=\"data row10 col5\" >0</td>\n",
       "                        <td id=\"T_38fd4_row10_col6\" class=\"data row10 col6\" >0</td>\n",
       "                        <td id=\"T_38fd4_row10_col7\" class=\"data row10 col7\" >43</td>\n",
       "                        <td id=\"T_38fd4_row10_col8\" class=\"data row10 col8\" >98</td>\n",
       "                        <td id=\"T_38fd4_row10_col9\" class=\"data row10 col9\" >98</td>\n",
       "                        <td id=\"T_38fd4_row10_col10\" class=\"data row10 col10\" >208</td>\n",
       "                        <td id=\"T_38fd4_row10_col11\" class=\"data row10 col11\" >253</td>\n",
       "                        <td id=\"T_38fd4_row10_col12\" class=\"data row10 col12\" >253</td>\n",
       "                        <td id=\"T_38fd4_row10_col13\" class=\"data row10 col13\" >253</td>\n",
       "                        <td id=\"T_38fd4_row10_col14\" class=\"data row10 col14\" >253</td>\n",
       "                        <td id=\"T_38fd4_row10_col15\" class=\"data row10 col15\" >187</td>\n",
       "                        <td id=\"T_38fd4_row10_col16\" class=\"data row10 col16\" >22</td>\n",
       "                        <td id=\"T_38fd4_row10_col17\" class=\"data row10 col17\" >0</td>\n",
       "            </tr>\n",
       "    </tbody></table>"
      ],
      "text/plain": [
       "<pandas.io.formats.style.Styler at 0x7f828240daf0>"
      ]
     },
     "execution_count": 19,
     "metadata": {},
     "output_type": "execute_result"
    }
   ],
   "source": [
    "im3_t = tensor(im3)\n",
    "df = pd.DataFrame(im3_t[4:15,4:22])\n",
    "df.style.set_properties(**{'font-size':'6pt'}).background_gradient('OrRd')"
   ]
  },
  {
   "cell_type": "code",
   "execution_count": 20,
   "metadata": {},
   "outputs": [
    {
     "data": {
      "text/plain": [
       "(6131, 6265)"
      ]
     },
     "execution_count": 20,
     "metadata": {},
     "output_type": "execute_result"
    }
   ],
   "source": [
    "seven_tensors = [tensor(Image.open(o)) for o in sevens]\n",
    "three_tensors = [tensor(Image.open(o)) for o in threes]\n",
    "len(three_tensors),len(seven_tensors)"
   ]
  },
  {
   "cell_type": "markdown",
   "metadata": {},
   "source": [
    "> Note: 'sevens' are still list of paths. 'o' is a path in the list, then with the list comprehension we use the path to read the image, then cast the image into tensor.(Same for threes)"
   ]
  },
  {
   "cell_type": "code",
   "execution_count": 21,
   "metadata": {},
   "outputs": [
    {
     "data": {
      "image/png": "[encoded data removed]",
      "text/plain": [
       "<Figure size 72x72 with 1 Axes>"
      ]
     },
     "metadata": {
      "needs_background": "light"
     },
     "output_type": "display_data"
    }
   ],
   "source": [
    "show_image(three_tensors[0]);"
   ]
  },
  {
   "cell_type": "markdown",
   "metadata": {},
   "source": [
    "> Note: Show image shows the first tensor as image"
   ]
  },
  {
   "cell_type": "code",
   "execution_count": 22,
   "metadata": {},
   "outputs": [
    {
     "data": {
      "text/plain": [
       "<AxesSubplot:>"
      ]
     },
     "execution_count": 22,
     "metadata": {},
     "output_type": "execute_result"
    },
    {
     "data": {
      "image/png": "[encoded data removed]",
      "text/plain": [
       "<Figure size 72x72 with 1 Axes>"
      ]
     },
     "metadata": {
      "needs_background": "light"
     },
     "output_type": "display_data"
    }
   ],
   "source": [
    "show_image(tensor(im3))"
   ]
  },
  {
   "cell_type": "markdown",
   "metadata": {},
   "source": [
    "> Note: check this  in more straight way (im3>tensor>image) "
   ]
  },
  {
   "cell_type": "code",
   "execution_count": 23,
   "metadata": {},
   "outputs": [
    {
     "data": {
      "text/plain": [
       "torch.Size([6131, 28, 28])"
      ]
     },
     "execution_count": 23,
     "metadata": {},
     "output_type": "execute_result"
    }
   ],
   "source": [
    "stacked_sevens = torch.stack(seven_tensors).float()/255\n",
    "stacked_threes = torch.stack(three_tensors).float()/255\n",
    "stacked_threes.shape"
   ]
  },
  {
   "cell_type": "code",
   "execution_count": 24,
   "metadata": {},
   "outputs": [
    {
     "data": {
      "text/plain": [
       "torch.Tensor"
      ]
     },
     "execution_count": 24,
     "metadata": {},
     "output_type": "execute_result"
    }
   ],
   "source": [
    "type(stacked_sevens)"
   ]
  },
  {
   "cell_type": "code",
   "execution_count": 25,
   "metadata": {},
   "outputs": [
    {
     "data": {
      "text/plain": [
       "torch.Tensor"
      ]
     },
     "execution_count": 25,
     "metadata": {},
     "output_type": "execute_result"
    }
   ],
   "source": [
    "type(stacked_sevens[0])"
   ]
  },
  {
   "cell_type": "code",
   "execution_count": 26,
   "metadata": {},
   "outputs": [
    {
     "data": {
      "text/plain": [
       "list"
      ]
     },
     "execution_count": 26,
     "metadata": {},
     "output_type": "execute_result"
    }
   ],
   "source": [
    "type(seven_tensors)"
   ]
  },
  {
   "cell_type": "markdown",
   "metadata": {},
   "source": [
    "> Note: now we turn our list into a tensor size of ([6131, 28, 28])"
   ]
  },
  {
   "cell_type": "code",
   "execution_count": 27,
   "metadata": {},
   "outputs": [
    {
     "data": {
      "text/plain": [
       "3"
      ]
     },
     "execution_count": 27,
     "metadata": {},
     "output_type": "execute_result"
    }
   ],
   "source": [
    "len(stacked_threes.shape)"
   ]
  },
  {
   "cell_type": "markdown",
   "metadata": {},
   "source": [
    "> Note: This is rank (lenght of the shape)"
   ]
  },
  {
   "cell_type": "code",
   "execution_count": 28,
   "metadata": {},
   "outputs": [
    {
     "data": {
      "text/plain": [
       "3"
      ]
     },
     "execution_count": 28,
     "metadata": {},
     "output_type": "execute_result"
    }
   ],
   "source": [
    "stacked_threes.ndim"
   ]
  },
  {
   "cell_type": "markdown",
   "metadata": {},
   "source": [
    "> Note: This is more direct way to get it. (ndim)"
   ]
  },
  {
   "cell_type": "code",
   "execution_count": 29,
   "metadata": {},
   "outputs": [
    {
     "data": {
      "image/png": "[encoded data removed]",
      "text/plain": [
       "<Figure size 72x72 with 1 Axes>"
      ]
     },
     "metadata": {
      "needs_background": "light"
     },
     "output_type": "display_data"
    }
   ],
   "source": [
    "mean3 = stacked_threes.mean(0)\n",
    "show_image(mean3);"
   ]
  },
  {
   "cell_type": "markdown",
   "metadata": {},
   "source": [
    "> Note: This is the mean of the all tensors through first axis. 'Perfect three'"
   ]
  },
  {
   "cell_type": "code",
   "execution_count": 30,
   "metadata": {},
   "outputs": [
    {
     "data": {
      "image/png": "[encoded data removed]",
      "text/plain": [
       "<Figure size 72x72 with 1 Axes>"
      ]
     },
     "metadata": {
      "needs_background": "light"
     },
     "output_type": "display_data"
    }
   ],
   "source": [
    "mean7 = stacked_sevens.mean(0)\n",
    "show_image(mean7);"
   ]
  },
  {
   "cell_type": "code",
   "execution_count": 31,
   "metadata": {},
   "outputs": [
    {
     "data": {
      "image/png": "[encoded data removed]",
      "text/plain": [
       "<Figure size 72x72 with 1 Axes>"
      ]
     },
     "metadata": {
      "needs_background": "light"
     },
     "output_type": "display_data"
    }
   ],
   "source": [
    "a_3 = stacked_threes[1]\n",
    "show_image(a_3);"
   ]
  },
  {
   "cell_type": "markdown",
   "metadata": {},
   "source": [
    "> Note: Then we need to calculate the distance between the 'perfect' and ordinary three."
   ]
  },
  {
   "cell_type": "markdown",
   "metadata": {},
   "source": [
    "> Note: two methods for getting the distance L1 Norm and MSE second one is panelize bigger mistake more havil, L1 is uniform.\n"
   ]
  },
  {
   "cell_type": "code",
   "execution_count": 32,
   "metadata": {},
   "outputs": [
    {
     "data": {
      "text/plain": [
       "(tensor(0.1114), tensor(0.2021))"
      ]
     },
     "execution_count": 32,
     "metadata": {},
     "output_type": "execute_result"
    }
   ],
   "source": [
    "dist_3_abs = (a_3 - mean3).abs().mean()\n",
    "dist_3_sqr = ((a_3 - mean3)**2).mean().sqrt()\n",
    "dist_3_abs,dist_3_sqr"
   ]
  },
  {
   "cell_type": "code",
   "execution_count": 33,
   "metadata": {},
   "outputs": [
    {
     "data": {
      "text/plain": [
       "(tensor(0.1586), tensor(0.3021))"
      ]
     },
     "execution_count": 33,
     "metadata": {},
     "output_type": "execute_result"
    }
   ],
   "source": [
    "dist_7_abs = (a_3 - mean7).abs().mean()\n",
    "dist_7_sqr = ((a_3 - mean7)**2).mean().sqrt()\n",
    "dist_7_abs,dist_7_sqr"
   ]
  },
  {
   "cell_type": "markdown",
   "metadata": {},
   "source": [
    "> Note: It is obvious that a_3 is closer to the perfect 3 so our approach worked at this time. (Both in L1 and MSE)"
   ]
  },
  {
   "cell_type": "code",
   "execution_count": 34,
   "metadata": {},
   "outputs": [
    {
     "data": {
      "text/plain": [
       "(tensor(0.1586), tensor(0.3021))"
      ]
     },
     "execution_count": 34,
     "metadata": {},
     "output_type": "execute_result"
    }
   ],
   "source": [
    "F.l1_loss(a_3.float(),mean7), F.mse_loss(a_3,mean7).sqrt()"
   ]
  },
  {
   "cell_type": "markdown",
   "metadata": {},
   "source": [
    "> Note: Same available from Pytorch function torch.nn.functional as F ( for mse, manually take the sqrt)"
   ]
  },
  {
   "cell_type": "markdown",
   "metadata": {},
   "source": [
    "> Important: (from notebook) If you don't know what C is, don't worry as you won't need it at all. In a nutshell, it's a low-level (low-level means more similar to the language that computers use internally) language that is very fast compared to Python. To take advantage of its speed while programming in Python, try to avoid as much as possible writing loops, and replace them by commands that work directly on arrays or tensors."
   ]
  },
  {
   "cell_type": "markdown",
   "metadata": {},
   "source": [
    "### To create an array or tensor"
   ]
  },
  {
   "cell_type": "code",
   "execution_count": 35,
   "metadata": {},
   "outputs": [],
   "source": [
    "data = [[1,2,3],[4,5,6]]\n",
    "arr = array (data)\n",
    "tns = tensor(data)"
   ]
  },
  {
   "cell_type": "code",
   "execution_count": 36,
   "metadata": {},
   "outputs": [
    {
     "data": {
      "text/plain": [
       "array([[1, 2, 3],\n",
       "       [4, 5, 6]])"
      ]
     },
     "execution_count": 36,
     "metadata": {},
     "output_type": "execute_result"
    }
   ],
   "source": [
    "arr  # numpy"
   ]
  },
  {
   "cell_type": "code",
   "execution_count": 37,
   "metadata": {},
   "outputs": [
    {
     "data": {
      "text/plain": [
       "tensor([[1, 2, 3],\n",
       "        [4, 5, 6]])"
      ]
     },
     "execution_count": 37,
     "metadata": {},
     "output_type": "execute_result"
    }
   ],
   "source": [
    "tns  # pytorch"
   ]
  },
  {
   "cell_type": "code",
   "execution_count": 38,
   "metadata": {},
   "outputs": [
    {
     "data": {
      "text/plain": [
       "tensor([2, 5])"
      ]
     },
     "execution_count": 38,
     "metadata": {},
     "output_type": "execute_result"
    }
   ],
   "source": [
    "tns[:,1]"
   ]
  },
  {
   "cell_type": "code",
   "execution_count": 39,
   "metadata": {},
   "outputs": [
    {
     "data": {
      "text/plain": [
       "tensor([5, 6])"
      ]
     },
     "execution_count": 39,
     "metadata": {},
     "output_type": "execute_result"
    }
   ],
   "source": [
    "tns[1,1:3]"
   ]
  },
  {
   "cell_type": "code",
   "execution_count": 40,
   "metadata": {},
   "outputs": [
    {
     "data": {
      "text/plain": [
       "tensor([[2, 3, 4],\n",
       "        [5, 6, 7]])"
      ]
     },
     "execution_count": 40,
     "metadata": {},
     "output_type": "execute_result"
    }
   ],
   "source": [
    "tns+1"
   ]
  },
  {
   "cell_type": "code",
   "execution_count": 41,
   "metadata": {},
   "outputs": [
    {
     "data": {
      "text/plain": [
       "'torch.LongTensor'"
      ]
     },
     "execution_count": 41,
     "metadata": {},
     "output_type": "execute_result"
    }
   ],
   "source": [
    "tns.type()"
   ]
  },
  {
   "cell_type": "code",
   "execution_count": 42,
   "metadata": {},
   "outputs": [
    {
     "data": {
      "text/plain": [
       "tensor([[1.5000, 3.0000, 4.5000],\n",
       "        [6.0000, 7.5000, 9.0000]])"
      ]
     },
     "execution_count": 42,
     "metadata": {},
     "output_type": "execute_result"
    }
   ],
   "source": [
    "tns*1.5"
   ]
  },
  {
   "cell_type": "markdown",
   "metadata": {},
   "source": [
    "### Validation set"
   ]
  },
  {
   "cell_type": "code",
   "execution_count": 43,
   "metadata": {},
   "outputs": [
    {
     "data": {
      "text/plain": [
       "(torch.Size([1010, 28, 28]), torch.Size([1028, 28, 28]))"
      ]
     },
     "execution_count": 43,
     "metadata": {},
     "output_type": "execute_result"
    }
   ],
   "source": [
    "valid_3_tens = torch.stack([tensor(Image.open(o)) \n",
    "                            for o in (path/'valid'/'3').ls()])\n",
    "valid_3_tens = valid_3_tens.float()/255\n",
    "valid_7_tens = torch.stack([tensor(Image.open(o)) \n",
    "                            for o in (path/'valid'/'7').ls()])\n",
    "valid_7_tens = valid_7_tens.float()/255\n",
    "valid_3_tens.shape,valid_7_tens.shape"
   ]
  },
  {
   "cell_type": "markdown",
   "metadata": {},
   "source": [
    "### a-3 and mean3 comes from above"
   ]
  },
  {
   "cell_type": "code",
   "execution_count": 44,
   "metadata": {},
   "outputs": [
    {
     "data": {
      "text/plain": [
       "tensor(0.1114)"
      ]
     },
     "execution_count": 44,
     "metadata": {},
     "output_type": "execute_result"
    }
   ],
   "source": [
    "def mnist_distance(a,b): return (a-b).abs().mean((-1,-2))\n",
    "mnist_distance(a_3, mean3)"
   ]
  },
  {
   "cell_type": "markdown",
   "metadata": {},
   "source": [
    "### This is broadcasting:"
   ]
  },
  {
   "cell_type": "markdown",
   "metadata": {},
   "source": [
    "#### I think this an example of not using loops which slows down the process (check above important tag)"
   ]
  },
  {
   "cell_type": "code",
   "execution_count": 45,
   "metadata": {},
   "outputs": [
    {
     "data": {
      "text/plain": [
       "(tensor([0.1270, 0.1254, 0.1114,  ..., 0.1494, 0.1097, 0.1365]),\n",
       " torch.Size([1010]))"
      ]
     },
     "execution_count": 45,
     "metadata": {},
     "output_type": "execute_result"
    }
   ],
   "source": [
    "valid_3_dist = mnist_distance(valid_3_tens, mean3)\n",
    "valid_3_dist, valid_3_dist.shape"
   ]
  },
  {
   "cell_type": "markdown",
   "metadata": {},
   "source": [
    "#### here is another example. Shapes don't match."
   ]
  },
  {
   "cell_type": "code",
   "execution_count": 46,
   "metadata": {},
   "outputs": [
    {
     "data": {
      "text/plain": [
       "tensor([2, 3, 4])"
      ]
     },
     "execution_count": 46,
     "metadata": {},
     "output_type": "execute_result"
    }
   ],
   "source": [
    "tensor([1,2,3]) + tensor(1)"
   ]
  },
  {
   "cell_type": "code",
   "execution_count": 47,
   "metadata": {},
   "outputs": [
    {
     "data": {
      "text/plain": [
       "torch.Size([1010, 28, 28])"
      ]
     },
     "execution_count": 47,
     "metadata": {},
     "output_type": "execute_result"
    }
   ],
   "source": [
    "(valid_3_tens-mean3).shape"
   ]
  },
  {
   "cell_type": "code",
   "execution_count": 48,
   "metadata": {},
   "outputs": [],
   "source": [
    "def is_3(x): return mnist_distance(x,mean3) < mnist_distance(x,mean7)"
   ]
  },
  {
   "cell_type": "code",
   "execution_count": 49,
   "metadata": {},
   "outputs": [
    {
     "data": {
      "text/plain": [
       "(tensor(True), tensor(1.))"
      ]
     },
     "execution_count": 49,
     "metadata": {},
     "output_type": "execute_result"
    }
   ],
   "source": [
    "is_3(a_3), is_3(a_3).float()"
   ]
  },
  {
   "cell_type": "markdown",
   "metadata": {},
   "source": [
    "#### here is an another broadcasting for all validation set:"
   ]
  },
  {
   "cell_type": "code",
   "execution_count": 50,
   "metadata": {},
   "outputs": [
    {
     "data": {
      "text/plain": [
       "tensor([True, True, True,  ..., True, True, True])"
      ]
     },
     "execution_count": 50,
     "metadata": {},
     "output_type": "execute_result"
    }
   ],
   "source": [
    "is_3(valid_3_tens)"
   ]
  },
  {
   "cell_type": "markdown",
   "metadata": {},
   "source": [
    "#### Accuracy of our 'perfect 3 and 7'"
   ]
  },
  {
   "cell_type": "code",
   "execution_count": 51,
   "metadata": {},
   "outputs": [
    {
     "data": {
      "text/plain": [
       "(tensor(0.9168), tensor(0.9854), tensor(0.9511))"
      ]
     },
     "execution_count": 51,
     "metadata": {},
     "output_type": "execute_result"
    }
   ],
   "source": [
    "accuracy_3s =      is_3(valid_3_tens).float() .mean()\n",
    "accuracy_7s = (1 - is_3(valid_7_tens).float()).mean()\n",
    "\n",
    "accuracy_3s,accuracy_7s,(accuracy_3s+accuracy_7s)/2"
   ]
  },
  {
   "cell_type": "markdown",
   "metadata": {},
   "source": [
    "### Stochastic Gradient Descent (SGD)"
   ]
  },
  {
   "cell_type": "markdown",
   "metadata": {},
   "source": [
    "#### Arthur Samues Machine Learning process:"
   ]
  },
  {
   "cell_type": "markdown",
   "metadata": {},
   "source": [
    "- Initialize the weights.\n",
    "- For each image, use these weights to predict whether it appears to be a 3 or a 7.\n",
    "- Based on these predictions, calculate how good the model is (its loss).\n",
    "- Calculate the gradient, which measures for each weight, how changing that weight would change the loss (SGD)\n",
    "- Step (that is, change) all the weights based on that calculation.\n",
    "- Go back to the step 2, and repeat the process.\n",
    "- Iterate until you decide to stop the training process (for instance, because the model is good enough or you don't want to wait any longer).\n"
   ]
  },
  {
   "cell_type": "code",
   "execution_count": 52,
   "metadata": {},
   "outputs": [
    {
     "data": {
      "image/svg+xml": [
       "<?xml version=\"1.0\" encoding=\"UTF-8\" standalone=\"no\"?>\n",
       "<!DOCTYPE svg PUBLIC \"-//W3C//DTD SVG 1.1//EN\"\n",
       " \"http://www.w3.org/Graphics/SVG/1.1/DTD/svg11.dtd\">\n",
       "<!-- Generated by graphviz version 2.38.0 (20140413.2041)\n",
       " -->\n",
       "<!-- Title: G Pages: 1 -->\n",
       "<svg width=\"661pt\" height=\"73pt\"\n",
       " viewBox=\"0.00 0.00 660.87 73.00\" xmlns=\"http://www.w3.org/2000/svg\" xmlns:xlink=\"http://www.w3.org/1999/xlink\">\n",
       "<g id=\"graph0\" class=\"graph\" transform=\"scale(1 1) rotate(0) translate(4 69)\">\n",
       "<title>G</title>\n",
       "<polygon fill=\"white\" stroke=\"none\" points=\"-4,4 -4,-69 656.867,-69 656.867,4 -4,4\"/>\n",
       "<!-- init -->\n",
       "<g id=\"node1\" class=\"node\"><title>init</title>\n",
       "<ellipse fill=\"none\" stroke=\"black\" cx=\"27\" cy=\"-18\" rx=\"27\" ry=\"18\"/>\n",
       "<text text-anchor=\"middle\" x=\"27\" y=\"-14.3\" font-family=\"Times,serif\" font-size=\"14.00\">init</text>\n",
       "</g>\n",
       "<!-- predict -->\n",
       "<g id=\"node2\" class=\"node\"><title>predict</title>\n",
       "<ellipse fill=\"none\" stroke=\"black\" cx=\"135.196\" cy=\"-18\" rx=\"44.393\" ry=\"18\"/>\n",
       "<text text-anchor=\"middle\" x=\"135.196\" y=\"-14.3\" font-family=\"Times,serif\" font-size=\"14.00\">predict</text>\n",
       "</g>\n",
       "<!-- init&#45;&gt;predict -->\n",
       "<g id=\"edge1\" class=\"edge\"><title>init&#45;&gt;predict</title>\n",
       "<path fill=\"none\" stroke=\"black\" d=\"M54.2507,-18C62.3698,-18 71.6255,-18 80.8895,-18\"/>\n",
       "<polygon fill=\"black\" stroke=\"black\" points=\"80.892,-21.5001 90.892,-18 80.892,-14.5001 80.892,-21.5001\"/>\n",
       "</g>\n",
       "<!-- loss -->\n",
       "<g id=\"node3\" class=\"node\"><title>loss</title>\n",
       "<ellipse fill=\"none\" stroke=\"black\" cx=\"244.99\" cy=\"-47\" rx=\"28.6953\" ry=\"18\"/>\n",
       "<text text-anchor=\"middle\" x=\"244.99\" y=\"-43.3\" font-family=\"Times,serif\" font-size=\"14.00\">loss</text>\n",
       "</g>\n",
       "<!-- predict&#45;&gt;loss -->\n",
       "<g id=\"edge2\" class=\"edge\"><title>predict&#45;&gt;loss</title>\n",
       "<path fill=\"none\" stroke=\"black\" d=\"M172.39,-27.7373C184.027,-30.868 196.903,-34.332 208.489,-37.4493\"/>\n",
       "<polygon fill=\"black\" stroke=\"black\" points=\"207.71,-40.8641 218.276,-40.0823 209.529,-34.1044 207.71,-40.8641\"/>\n",
       "</g>\n",
       "<!-- gradient -->\n",
       "<g id=\"node4\" class=\"node\"><title>gradient</title>\n",
       "<ellipse fill=\"none\" stroke=\"black\" cx=\"406.633\" cy=\"-47\" rx=\"50.0912\" ry=\"18\"/>\n",
       "<text text-anchor=\"middle\" x=\"406.633\" y=\"-43.3\" font-family=\"Times,serif\" font-size=\"14.00\">gradient</text>\n",
       "</g>\n",
       "<!-- loss&#45;&gt;gradient -->\n",
       "<g id=\"edge3\" class=\"edge\"><title>loss&#45;&gt;gradient</title>\n",
       "<path fill=\"none\" stroke=\"black\" d=\"M273.797,-47C293.819,-47 321.573,-47 346.455,-47\"/>\n",
       "<polygon fill=\"black\" stroke=\"black\" points=\"346.548,-50.5001 356.548,-47 346.547,-43.5001 346.548,-50.5001\"/>\n",
       "</g>\n",
       "<!-- step -->\n",
       "<g id=\"node5\" class=\"node\"><title>step</title>\n",
       "<ellipse fill=\"none\" stroke=\"black\" cx=\"524.225\" cy=\"-18\" rx=\"30.5947\" ry=\"18\"/>\n",
       "<text text-anchor=\"middle\" x=\"524.225\" y=\"-14.3\" font-family=\"Times,serif\" font-size=\"14.00\">step</text>\n",
       "</g>\n",
       "<!-- gradient&#45;&gt;step -->\n",
       "<g id=\"edge4\" class=\"edge\"><title>gradient&#45;&gt;step</title>\n",
       "<path fill=\"none\" stroke=\"black\" d=\"M448.061,-36.8572C460.37,-33.7692 473.838,-30.3904 485.93,-27.3568\"/>\n",
       "<polygon fill=\"black\" stroke=\"black\" points=\"486.86,-30.7319 495.708,-24.9036 485.157,-23.9423 486.86,-30.7319\"/>\n",
       "</g>\n",
       "<!-- step&#45;&gt;predict -->\n",
       "<g id=\"edge6\" class=\"edge\"><title>step&#45;&gt;predict</title>\n",
       "<path fill=\"none\" stroke=\"black\" d=\"M493.675,-18C428.652,-18 272.394,-18 189.665,-18\"/>\n",
       "<polygon fill=\"black\" stroke=\"black\" points=\"189.467,-14.5001 179.467,-18 189.467,-21.5001 189.467,-14.5001\"/>\n",
       "<text text-anchor=\"middle\" x=\"315.087\" y=\"-21.8\" font-family=\"Times,serif\" font-size=\"14.00\">repeat</text>\n",
       "</g>\n",
       "<!-- stop -->\n",
       "<g id=\"node6\" class=\"node\"><title>stop</title>\n",
       "<ellipse fill=\"none\" stroke=\"black\" cx=\"622.32\" cy=\"-18\" rx=\"30.5947\" ry=\"18\"/>\n",
       "<text text-anchor=\"middle\" x=\"622.32\" y=\"-14.3\" font-family=\"Times,serif\" font-size=\"14.00\">stop</text>\n",
       "</g>\n",
       "<!-- step&#45;&gt;stop -->\n",
       "<g id=\"edge5\" class=\"edge\"><title>step&#45;&gt;stop</title>\n",
       "<path fill=\"none\" stroke=\"black\" d=\"M554.841,-18C563.244,-18 572.533,-18 581.437,-18\"/>\n",
       "<polygon fill=\"black\" stroke=\"black\" points=\"581.637,-21.5001 591.637,-18 581.637,-14.5001 581.637,-21.5001\"/>\n",
       "</g>\n",
       "</g>\n",
       "</svg>\n"
      ],
      "text/plain": [
       "<graphviz.files.Source at 0x7f8281e4d100>"
      ]
     },
     "execution_count": 52,
     "metadata": {},
     "output_type": "execute_result"
    }
   ],
   "source": [
    "#id gradient_descent\n",
    "#caption The gradient descent process\n",
    "#alt Graph showing the steps for Gradient Descent\n",
    "gv('''\n",
    "init->predict->loss->gradient->step->stop\n",
    "step->predict[label=repeat]\n",
    "''')"
   ]
  },
  {
   "cell_type": "markdown",
   "metadata": {},
   "source": [
    "#### GD example"
   ]
  },
  {
   "cell_type": "code",
   "execution_count": 53,
   "metadata": {},
   "outputs": [],
   "source": [
    "def f(x): return x**2"
   ]
  },
  {
   "cell_type": "code",
   "execution_count": 54,
   "metadata": {
    "scrolled": true
   },
   "outputs": [
    {
     "name": "stderr",
     "output_type": "stream",
     "text": [
      "/home/niyazi/anaconda3/envs/fastbook/lib/python3.8/site-packages/fastbook/__init__.py:73: UserWarning: Not providing a value for linspace's steps is deprecated and will throw a runtime error in a future release. This warning will appear only once per process. (Triggered internally at  /opt/conda/conda-bld/pytorch_1623448278899/work/aten/src/ATen/native/RangeFactories.cpp:25.)\n",
      "  x = torch.linspace(min,max)\n"
     ]
    },
    {
     "data": {
      "image/png": "[encoded data removed]",
      "text/plain": [
       "<Figure size 432x288 with 1 Axes>"
      ]
     },
     "metadata": {
      "needs_background": "light"
     },
     "output_type": "display_data"
    }
   ],
   "source": [
    "plot_function(f, 'x', 'x**2')\n",
    "plt.scatter(-1.5, f(-1.5), color='red');"
   ]
  },
  {
   "cell_type": "markdown",
   "metadata": {},
   "source": [
    "![](https://image.flaticon.com/icons/svg/36/36686.svg)"
   ]
  }
 ],
 "metadata": {
  "kernelspec": {
   "display_name": "Python 3",
   "language": "python",
   "name": "python3"
  },
  "language_info": {
   "codemirror_mode": {
    "name": "ipython",
    "version": 3
   },
   "file_extension": ".py",
   "mimetype": "text/x-python",
   "name": "python",
   "nbconvert_exporter": "python",
   "pygments_lexer": "ipython3",
   "version": "3.8.10"
  }
 },
 "nbformat": 4,
 "nbformat_minor": 4
}
